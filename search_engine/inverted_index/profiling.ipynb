{
 "cells": [
  {
   "cell_type": "markdown",
   "metadata": {},
   "source": [
    "# Profiling\n",
    "Comparando diferentes soluções para o índice invertido:\n",
    "* Armazenamento do índice utilizando inteiros em formato binário\n",
    "* Armazenamento do índice utilizando inteiros em codificação de tamanho variável + intervalos de Ids de documento"
   ]
  },
  {
   "cell_type": "code",
   "execution_count": 1,
   "metadata": {},
   "outputs": [],
   "source": [
    "from inverted_index import (create_doc_ids, load_doc_ids, save_doc_ids, \n",
    "    save_field_inv_index, save_inv_index, load_field_inv_index, load_inv_index,\n",
    "    DATA_PATH, InvertedIndex)"
   ]
  },
  {
   "cell_type": "markdown",
   "metadata": {},
   "source": [
    "## Experimentos com índice completo"
   ]
  },
  {
   "cell_type": "markdown",
   "metadata": {},
   "source": [
    "Inicialmente, buscamos comparar o tempo de carregamento dos índices"
   ]
  },
  {
   "cell_type": "code",
   "execution_count": 2,
   "metadata": {},
   "outputs": [
    {
     "name": "stdout",
     "output_type": "stream",
     "text": [
      "CPU times: total: 16.9 s\n",
      "Wall time: 17.6 s\n"
     ]
    }
   ],
   "source": [
    "%%time\n",
    "index_packed = load_inv_index(compress=True)"
   ]
  },
  {
   "cell_type": "code",
   "execution_count": 3,
   "metadata": {},
   "outputs": [
    {
     "name": "stdout",
     "output_type": "stream",
     "text": [
      "CPU times: total: 4 s\n",
      "Wall time: 4.48 s\n"
     ]
    }
   ],
   "source": [
    "%%time\n",
    "index = load_inv_index(compress=False)"
   ]
  },
  {
   "cell_type": "markdown",
   "metadata": {},
   "source": [
    "Agora, comparando o tempo para realizar consultas nos mesmos. Iniciando com consultas no início do vocabulário e indo para o final"
   ]
  },
  {
   "cell_type": "code",
   "execution_count": 4,
   "metadata": {},
   "outputs": [
    {
     "name": "stdout",
     "output_type": "stream",
     "text": [
      "CPU times: total: 0 ns\n",
      "Wall time: 0 ns\n"
     ]
    },
    {
     "data": {
      "text/plain": [
       "[(1604, 1), (2898, 1)]"
      ]
     },
     "execution_count": 4,
     "metadata": {},
     "output_type": "execute_result"
    }
   ],
   "source": [
    "%%time\n",
    "index_packed.search_term('alcorão')"
   ]
  },
  {
   "cell_type": "code",
   "execution_count": 5,
   "metadata": {},
   "outputs": [
    {
     "name": "stdout",
     "output_type": "stream",
     "text": [
      "CPU times: total: 0 ns\n",
      "Wall time: 1.01 ms\n"
     ]
    },
    {
     "data": {
      "text/plain": [
       "[(26, 1),\n",
       " (30, 2),\n",
       " (80, 1),\n",
       " (82, 2),\n",
       " (109, 2),\n",
       " (293, 1),\n",
       " (307, 1),\n",
       " (319, 1),\n",
       " (321, 3),\n",
       " (332, 1),\n",
       " (346, 1),\n",
       " (371, 1),\n",
       " (383, 1),\n",
       " (609, 1),\n",
       " (646, 1),\n",
       " (719, 1),\n",
       " (836, 1),\n",
       " (983, 1),\n",
       " (997, 4),\n",
       " (998, 5),\n",
       " (1000, 5),\n",
       " (1035, 1),\n",
       " (1272, 2),\n",
       " (1422, 2),\n",
       " (1494, 2),\n",
       " (1552, 2),\n",
       " (1618, 1),\n",
       " (1620, 1),\n",
       " (1644, 1),\n",
       " (1965, 1),\n",
       " (1976, 1),\n",
       " (1980, 1),\n",
       " (1982, 1),\n",
       " (1989, 1),\n",
       " (1991, 1),\n",
       " (1994, 1),\n",
       " (1995, 1),\n",
       " (2013, 1),\n",
       " (2019, 1),\n",
       " (2033, 1),\n",
       " (2039, 2),\n",
       " (2041, 1),\n",
       " (2053, 1),\n",
       " (2055, 2),\n",
       " (2056, 1),\n",
       " (2057, 1),\n",
       " (2063, 2),\n",
       " (2070, 1),\n",
       " (2073, 1),\n",
       " (2113, 2),\n",
       " (2119, 2),\n",
       " (2134, 1),\n",
       " (2135, 1),\n",
       " (2136, 1),\n",
       " (2137, 1),\n",
       " (2141, 1),\n",
       " (2152, 1),\n",
       " (2180, 1),\n",
       " (2184, 1),\n",
       " (2187, 2),\n",
       " (2191, 1),\n",
       " (2192, 1),\n",
       " (2193, 1),\n",
       " (2210, 1),\n",
       " (2314, 1),\n",
       " (2339, 1),\n",
       " (2356, 1),\n",
       " (2361, 1),\n",
       " (2372, 1),\n",
       " (2408, 1),\n",
       " (2410, 3),\n",
       " (2442, 1),\n",
       " (2474, 1),\n",
       " (2534, 1),\n",
       " (2554, 1),\n",
       " (2562, 1),\n",
       " (2565, 2),\n",
       " (2642, 2),\n",
       " (2661, 1),\n",
       " (2663, 2),\n",
       " (2684, 1),\n",
       " (2689, 1),\n",
       " (2692, 1),\n",
       " (2759, 1),\n",
       " (2762, 1),\n",
       " (2771, 2),\n",
       " (2775, 1),\n",
       " (2790, 2),\n",
       " (2795, 1),\n",
       " (2797, 1),\n",
       " (2830, 1),\n",
       " (2857, 1),\n",
       " (2859, 2),\n",
       " (2868, 2),\n",
       " (2873, 1),\n",
       " (2899, 2),\n",
       " (2974, 1),\n",
       " (2994, 1),\n",
       " (3036, 1),\n",
       " (3047, 1),\n",
       " (3129, 1),\n",
       " (3194, 1),\n",
       " (3307, 1),\n",
       " (3311, 1),\n",
       " (3353, 1),\n",
       " (3367, 2),\n",
       " (3440, 1),\n",
       " (3456, 1),\n",
       " (3890, 1),\n",
       " (3902, 1),\n",
       " (3906, 2),\n",
       " (3975, 1),\n",
       " (3977, 2),\n",
       " (4014, 6),\n",
       " (4016, 2),\n",
       " (4162, 1),\n",
       " (4380, 1),\n",
       " (4395, 1),\n",
       " (4399, 1),\n",
       " (4485, 1),\n",
       " (4677, 3),\n",
       " (4679, 3),\n",
       " (4681, 3),\n",
       " (4688, 1),\n",
       " (4689, 3),\n",
       " (4744, 1),\n",
       " (4751, 1),\n",
       " (4888, 1),\n",
       " (4963, 1),\n",
       " (5019, 1),\n",
       " (5052, 2),\n",
       " (5513, 2),\n",
       " (5638, 1),\n",
       " (5641, 1),\n",
       " (5923, 1),\n",
       " (5925, 1),\n",
       " (5932, 1),\n",
       " (5934, 1),\n",
       " (5937, 1),\n",
       " (5938, 1),\n",
       " (5956, 1),\n",
       " (5962, 1),\n",
       " (5976, 1),\n",
       " (5982, 2),\n",
       " (5984, 1),\n",
       " (5996, 1),\n",
       " (5998, 2),\n",
       " (5999, 1),\n",
       " (6000, 1),\n",
       " (6006, 2),\n",
       " (6013, 1),\n",
       " (6015, 1),\n",
       " (6055, 2),\n",
       " (6061, 2),\n",
       " (6076, 1),\n",
       " (6077, 1),\n",
       " (6078, 1),\n",
       " (6079, 1),\n",
       " (6083, 1),\n",
       " (6094, 1),\n",
       " (6122, 1),\n",
       " (6126, 1),\n",
       " (6129, 2),\n",
       " (6133, 1),\n",
       " (6134, 1),\n",
       " (6135, 1),\n",
       " (6149, 1),\n",
       " (6255, 1),\n",
       " (6280, 1),\n",
       " (6297, 1),\n",
       " (6302, 1),\n",
       " (6313, 1),\n",
       " (6347, 1),\n",
       " (6349, 3),\n",
       " (6381, 1),\n",
       " (6413, 1),\n",
       " (6473, 1),\n",
       " (6493, 1),\n",
       " (6501, 1),\n",
       " (6504, 2),\n",
       " (6581, 2),\n",
       " (6600, 1),\n",
       " (6602, 2),\n",
       " (6623, 1),\n",
       " (6628, 1),\n",
       " (6631, 1),\n",
       " (6698, 1),\n",
       " (6701, 1),\n",
       " (6710, 2),\n",
       " (6714, 1),\n",
       " (6729, 2),\n",
       " (6734, 1),\n",
       " (6736, 1),\n",
       " (6880, 1),\n",
       " (6898, 1),\n",
       " (6942, 1),\n",
       " (6952, 1),\n",
       " (6953, 1),\n",
       " (6996, 2),\n",
       " (7065, 1)]"
      ]
     },
     "execution_count": 5,
     "metadata": {},
     "output_type": "execute_result"
    }
   ],
   "source": [
    "%%time\n",
    "index_packed.search_term('evolução')"
   ]
  },
  {
   "cell_type": "code",
   "execution_count": 6,
   "metadata": {},
   "outputs": [
    {
     "name": "stdout",
     "output_type": "stream",
     "text": [
      "CPU times: total: 0 ns\n",
      "Wall time: 1 ms\n"
     ]
    },
    {
     "data": {
      "text/plain": [
       "[(871, 1),\n",
       " (899, 1),\n",
       " (902, 1),\n",
       " (917, 1),\n",
       " (918, 1),\n",
       " (1043, 1),\n",
       " (1051, 1),\n",
       " (1385, 1),\n",
       " (1460, 1),\n",
       " (1568, 1),\n",
       " (1611, 1),\n",
       " (2262, 1),\n",
       " (2269, 1),\n",
       " (2270, 1),\n",
       " (2878, 1),\n",
       " (3149, 1),\n",
       " (3296, 11),\n",
       " (4308, 1),\n",
       " (4310, 1),\n",
       " (4454, 3),\n",
       " (4479, 2),\n",
       " (4605, 3),\n",
       " (5406, 1),\n",
       " (5532, 1),\n",
       " (5814, 3),\n",
       " (6202, 1),\n",
       " (6209, 1),\n",
       " (6210, 1),\n",
       " (6783, 1),\n",
       " (6790, 1),\n",
       " (6933, 9),\n",
       " (7044, 9)]"
      ]
     },
     "execution_count": 6,
     "metadata": {},
     "output_type": "execute_result"
    }
   ],
   "source": [
    "%%time\n",
    "index_packed.search_term('ziraldo')"
   ]
  },
  {
   "cell_type": "code",
   "execution_count": 7,
   "metadata": {},
   "outputs": [
    {
     "name": "stdout",
     "output_type": "stream",
     "text": [
      "CPU times: total: 0 ns\n",
      "Wall time: 0 ns\n"
     ]
    },
    {
     "data": {
      "text/plain": [
       "[(1604, 1), (2898, 1)]"
      ]
     },
     "execution_count": 7,
     "metadata": {},
     "output_type": "execute_result"
    }
   ],
   "source": [
    "%%time\n",
    "index.search_term('alcorão')"
   ]
  },
  {
   "cell_type": "code",
   "execution_count": 8,
   "metadata": {},
   "outputs": [
    {
     "name": "stdout",
     "output_type": "stream",
     "text": [
      "CPU times: total: 0 ns\n",
      "Wall time: 0 ns\n"
     ]
    },
    {
     "data": {
      "text/plain": [
       "[(26, 1),\n",
       " (30, 2),\n",
       " (80, 1),\n",
       " (82, 2),\n",
       " (109, 2),\n",
       " (293, 1),\n",
       " (307, 1),\n",
       " (319, 1),\n",
       " (321, 3),\n",
       " (332, 1),\n",
       " (346, 1),\n",
       " (371, 1),\n",
       " (383, 1),\n",
       " (609, 1),\n",
       " (646, 1),\n",
       " (719, 1),\n",
       " (836, 1),\n",
       " (983, 1),\n",
       " (997, 4),\n",
       " (998, 5),\n",
       " (1000, 5),\n",
       " (1035, 1),\n",
       " (1272, 2),\n",
       " (1422, 2),\n",
       " (1494, 2),\n",
       " (1552, 2),\n",
       " (1618, 1),\n",
       " (1620, 1),\n",
       " (1644, 1),\n",
       " (1965, 1),\n",
       " (1976, 1),\n",
       " (1980, 1),\n",
       " (1982, 1),\n",
       " (1989, 1),\n",
       " (1991, 1),\n",
       " (1994, 1),\n",
       " (1995, 1),\n",
       " (2013, 1),\n",
       " (2019, 1),\n",
       " (2033, 1),\n",
       " (2039, 2),\n",
       " (2041, 1),\n",
       " (2053, 1),\n",
       " (2055, 2),\n",
       " (2056, 1),\n",
       " (2057, 1),\n",
       " (2063, 2),\n",
       " (2070, 1),\n",
       " (2073, 1),\n",
       " (2113, 2),\n",
       " (2119, 2),\n",
       " (2134, 1),\n",
       " (2135, 1),\n",
       " (2136, 1),\n",
       " (2137, 1),\n",
       " (2141, 1),\n",
       " (2152, 1),\n",
       " (2180, 1),\n",
       " (2184, 1),\n",
       " (2187, 2),\n",
       " (2191, 1),\n",
       " (2192, 1),\n",
       " (2193, 1),\n",
       " (2210, 1),\n",
       " (2314, 1),\n",
       " (2339, 1),\n",
       " (2356, 1),\n",
       " (2361, 1),\n",
       " (2372, 1),\n",
       " (2408, 1),\n",
       " (2410, 3),\n",
       " (2442, 1),\n",
       " (2474, 1),\n",
       " (2534, 1),\n",
       " (2554, 1),\n",
       " (2562, 1),\n",
       " (2565, 2),\n",
       " (2642, 2),\n",
       " (2661, 1),\n",
       " (2663, 2),\n",
       " (2684, 1),\n",
       " (2689, 1),\n",
       " (2692, 1),\n",
       " (2759, 1),\n",
       " (2762, 1),\n",
       " (2771, 2),\n",
       " (2775, 1),\n",
       " (2790, 2),\n",
       " (2795, 1),\n",
       " (2797, 1),\n",
       " (2830, 1),\n",
       " (2857, 1),\n",
       " (2859, 2),\n",
       " (2868, 2),\n",
       " (2873, 1),\n",
       " (2899, 2),\n",
       " (2974, 1),\n",
       " (2994, 1),\n",
       " (3036, 1),\n",
       " (3047, 1),\n",
       " (3129, 1),\n",
       " (3194, 1),\n",
       " (3307, 1),\n",
       " (3311, 1),\n",
       " (3353, 1),\n",
       " (3367, 2),\n",
       " (3440, 1),\n",
       " (3456, 1),\n",
       " (3890, 1),\n",
       " (3902, 1),\n",
       " (3906, 2),\n",
       " (3975, 1),\n",
       " (3977, 2),\n",
       " (4014, 6),\n",
       " (4016, 2),\n",
       " (4162, 1),\n",
       " (4380, 1),\n",
       " (4395, 1),\n",
       " (4399, 1),\n",
       " (4485, 1),\n",
       " (4677, 3),\n",
       " (4679, 3),\n",
       " (4681, 3),\n",
       " (4688, 1),\n",
       " (4689, 3),\n",
       " (4744, 1),\n",
       " (4751, 1),\n",
       " (4888, 1),\n",
       " (4963, 1),\n",
       " (5019, 1),\n",
       " (5052, 2),\n",
       " (5513, 2),\n",
       " (5638, 1),\n",
       " (5641, 1),\n",
       " (5923, 1),\n",
       " (5925, 1),\n",
       " (5932, 1),\n",
       " (5934, 1),\n",
       " (5937, 1),\n",
       " (5938, 1),\n",
       " (5956, 1),\n",
       " (5962, 1),\n",
       " (5976, 1),\n",
       " (5982, 2),\n",
       " (5984, 1),\n",
       " (5996, 1),\n",
       " (5998, 2),\n",
       " (5999, 1),\n",
       " (6000, 1),\n",
       " (6006, 2),\n",
       " (6013, 1),\n",
       " (6015, 1),\n",
       " (6055, 2),\n",
       " (6061, 2),\n",
       " (6076, 1),\n",
       " (6077, 1),\n",
       " (6078, 1),\n",
       " (6079, 1),\n",
       " (6083, 1),\n",
       " (6094, 1),\n",
       " (6122, 1),\n",
       " (6126, 1),\n",
       " (6129, 2),\n",
       " (6133, 1),\n",
       " (6134, 1),\n",
       " (6135, 1),\n",
       " (6149, 1),\n",
       " (6255, 1),\n",
       " (6280, 1),\n",
       " (6297, 1),\n",
       " (6302, 1),\n",
       " (6313, 1),\n",
       " (6347, 1),\n",
       " (6349, 3),\n",
       " (6381, 1),\n",
       " (6413, 1),\n",
       " (6473, 1),\n",
       " (6493, 1),\n",
       " (6501, 1),\n",
       " (6504, 2),\n",
       " (6581, 2),\n",
       " (6600, 1),\n",
       " (6602, 2),\n",
       " (6623, 1),\n",
       " (6628, 1),\n",
       " (6631, 1),\n",
       " (6698, 1),\n",
       " (6701, 1),\n",
       " (6710, 2),\n",
       " (6714, 1),\n",
       " (6729, 2),\n",
       " (6734, 1),\n",
       " (6736, 1),\n",
       " (6880, 1),\n",
       " (6898, 1),\n",
       " (6942, 1),\n",
       " (6952, 1),\n",
       " (6953, 1),\n",
       " (6996, 2),\n",
       " (7065, 1)]"
      ]
     },
     "execution_count": 8,
     "metadata": {},
     "output_type": "execute_result"
    }
   ],
   "source": [
    "%%time\n",
    "index.search_term('evolução')"
   ]
  },
  {
   "cell_type": "code",
   "execution_count": 9,
   "metadata": {},
   "outputs": [
    {
     "name": "stdout",
     "output_type": "stream",
     "text": [
      "CPU times: total: 0 ns\n",
      "Wall time: 0 ns\n"
     ]
    },
    {
     "data": {
      "text/plain": [
       "[(871, 1),\n",
       " (899, 1),\n",
       " (902, 1),\n",
       " (917, 1),\n",
       " (918, 1),\n",
       " (1043, 1),\n",
       " (1051, 1),\n",
       " (1385, 1),\n",
       " (1460, 1),\n",
       " (1568, 1),\n",
       " (1611, 1),\n",
       " (2262, 1),\n",
       " (2269, 1),\n",
       " (2270, 1),\n",
       " (2878, 1),\n",
       " (3149, 1),\n",
       " (3296, 11),\n",
       " (4308, 1),\n",
       " (4310, 1),\n",
       " (4454, 3),\n",
       " (4479, 2),\n",
       " (4605, 3),\n",
       " (5406, 1),\n",
       " (5532, 1),\n",
       " (5814, 3),\n",
       " (6202, 1),\n",
       " (6209, 1),\n",
       " (6210, 1),\n",
       " (6783, 1),\n",
       " (6790, 1),\n",
       " (6933, 9),\n",
       " (7044, 9)]"
      ]
     },
     "execution_count": 9,
     "metadata": {},
     "output_type": "execute_result"
    }
   ],
   "source": [
    "%%time\n",
    "index.search_term('ziraldo')"
   ]
  },
  {
   "cell_type": "markdown",
   "metadata": {},
   "source": [
    "Por fim, gostaríamos de obter o tamanho dos postings de cada índice em memória:"
   ]
  },
  {
   "cell_type": "code",
   "execution_count": 10,
   "metadata": {},
   "outputs": [],
   "source": [
    "def calc_size(index: InvertedIndex):\n",
    "    size = 0\n",
    "    for posting in index.postings:\n",
    "        for element in posting:\n",
    "            size += len(element) # obtendo o tamanho apenas do array de bytes e não do objeto bytes\n",
    "    return size"
   ]
  },
  {
   "cell_type": "code",
   "execution_count": 11,
   "metadata": {},
   "outputs": [
    {
     "data": {
      "text/plain": [
       "10091510"
      ]
     },
     "execution_count": 11,
     "metadata": {},
     "output_type": "execute_result"
    }
   ],
   "source": [
    "calc_size(index_packed)"
   ]
  },
  {
   "cell_type": "code",
   "execution_count": 12,
   "metadata": {},
   "outputs": [
    {
     "data": {
      "text/plain": [
       "38835952"
      ]
     },
     "execution_count": 12,
     "metadata": {},
     "output_type": "execute_result"
    }
   ],
   "source": [
    "calc_size(index)"
   ]
  },
  {
   "cell_type": "code",
   "execution_count": 25,
   "metadata": {},
   "outputs": [
    {
     "data": {
      "text/plain": [
       "0.2598496877326453"
      ]
     },
     "execution_count": 25,
     "metadata": {},
     "output_type": "execute_result"
    }
   ],
   "source": [
    "calc_size(index_packed)/calc_size(index)"
   ]
  },
  {
   "cell_type": "markdown",
   "metadata": {},
   "source": [
    "## Experimentos para o índice de campos\n",
    "Repetindo os experimentos anteriores para o índice de campos"
   ]
  },
  {
   "cell_type": "code",
   "execution_count": 13,
   "metadata": {},
   "outputs": [
    {
     "name": "stdout",
     "output_type": "stream",
     "text": [
      "CPU times: total: 1.97 s\n",
      "Wall time: 2.09 s\n"
     ]
    }
   ],
   "source": [
    "%%time\n",
    "field_index_packed = load_field_inv_index(compress=True)"
   ]
  },
  {
   "cell_type": "code",
   "execution_count": 14,
   "metadata": {},
   "outputs": [
    {
     "name": "stdout",
     "output_type": "stream",
     "text": [
      "CPU times: total: 828 ms\n",
      "Wall time: 936 ms\n"
     ]
    }
   ],
   "source": [
    "%%time\n",
    "field_index = load_field_inv_index(compress=False)"
   ]
  },
  {
   "cell_type": "code",
   "execution_count": 15,
   "metadata": {},
   "outputs": [
    {
     "name": "stdout",
     "output_type": "stream",
     "text": [
      "CPU times: total: 0 ns\n",
      "Wall time: 0 ns\n"
     ]
    },
    {
     "data": {
      "text/plain": [
       "[(7384, 1)]"
      ]
     },
     "execution_count": 15,
     "metadata": {},
     "output_type": "execute_result"
    }
   ],
   "source": [
    "%%time\n",
    "field_index.search_term('aurelio.author')"
   ]
  },
  {
   "cell_type": "code",
   "execution_count": 16,
   "metadata": {},
   "outputs": [
    {
     "name": "stdout",
     "output_type": "stream",
     "text": [
      "CPU times: total: 0 ns\n",
      "Wall time: 1 ms\n"
     ]
    },
    {
     "data": {
      "text/plain": [
       "[(225, 1),\n",
       " (317, 2),\n",
       " (1642, 1),\n",
       " (1654, 1),\n",
       " (2657, 1),\n",
       " (2888, 1),\n",
       " (2996, 1),\n",
       " (2999, 1),\n",
       " (3196, 2),\n",
       " (3360, 2),\n",
       " (3379, 1),\n",
       " (3561, 1),\n",
       " (4937, 1),\n",
       " (5091, 1),\n",
       " (5454, 1),\n",
       " (6596, 1),\n",
       " (6873, 1),\n",
       " (6994, 2),\n",
       " (7162, 1)]"
      ]
     },
     "execution_count": 16,
     "metadata": {},
     "output_type": "execute_result"
    }
   ],
   "source": [
    "%%time\n",
    "field_index.search_term('japão.description')"
   ]
  },
  {
   "cell_type": "code",
   "execution_count": 17,
   "metadata": {},
   "outputs": [
    {
     "name": "stdout",
     "output_type": "stream",
     "text": [
      "CPU times: total: 0 ns\n",
      "Wall time: 0 ns\n"
     ]
    },
    {
     "data": {
      "text/plain": [
       "[(4387, 1)]"
      ]
     },
     "execution_count": 17,
     "metadata": {},
     "output_type": "execute_result"
    }
   ],
   "source": [
    "%%time\n",
    "field_index.search_term('zuckerberg.description')"
   ]
  },
  {
   "cell_type": "code",
   "execution_count": 18,
   "metadata": {},
   "outputs": [
    {
     "name": "stdout",
     "output_type": "stream",
     "text": [
      "CPU times: total: 0 ns\n",
      "Wall time: 0 ns\n"
     ]
    },
    {
     "data": {
      "text/plain": [
       "[(7384, 1)]"
      ]
     },
     "execution_count": 18,
     "metadata": {},
     "output_type": "execute_result"
    }
   ],
   "source": [
    "%%time\n",
    "field_index_packed.search_term('aurelio.author')"
   ]
  },
  {
   "cell_type": "code",
   "execution_count": 19,
   "metadata": {},
   "outputs": [
    {
     "name": "stdout",
     "output_type": "stream",
     "text": [
      "CPU times: total: 0 ns\n",
      "Wall time: 0 ns\n"
     ]
    },
    {
     "data": {
      "text/plain": [
       "[(225, 1),\n",
       " (317, 2),\n",
       " (1642, 1),\n",
       " (1654, 1),\n",
       " (2657, 1),\n",
       " (2888, 1),\n",
       " (2996, 1),\n",
       " (2999, 1),\n",
       " (3196, 2),\n",
       " (3360, 2),\n",
       " (3379, 1),\n",
       " (3561, 1),\n",
       " (4937, 1),\n",
       " (5091, 1),\n",
       " (5454, 1),\n",
       " (6596, 1),\n",
       " (6873, 1),\n",
       " (6994, 2),\n",
       " (7162, 1)]"
      ]
     },
     "execution_count": 19,
     "metadata": {},
     "output_type": "execute_result"
    }
   ],
   "source": [
    "%%time\n",
    "field_index_packed.search_term('japão.description')"
   ]
  },
  {
   "cell_type": "code",
   "execution_count": 21,
   "metadata": {},
   "outputs": [
    {
     "name": "stdout",
     "output_type": "stream",
     "text": [
      "CPU times: total: 0 ns\n",
      "Wall time: 0 ns\n"
     ]
    },
    {
     "data": {
      "text/plain": [
       "[(4387, 1)]"
      ]
     },
     "execution_count": 21,
     "metadata": {},
     "output_type": "execute_result"
    }
   ],
   "source": [
    "%%time\n",
    "field_index_packed.search_term('zuckerberg.description')"
   ]
  },
  {
   "cell_type": "code",
   "execution_count": 22,
   "metadata": {},
   "outputs": [
    {
     "data": {
      "text/plain": [
       "1237529"
      ]
     },
     "execution_count": 22,
     "metadata": {},
     "output_type": "execute_result"
    }
   ],
   "source": [
    "calc_size(field_index_packed)"
   ]
  },
  {
   "cell_type": "code",
   "execution_count": 23,
   "metadata": {},
   "outputs": [
    {
     "data": {
      "text/plain": [
       "4230512"
      ]
     },
     "execution_count": 23,
     "metadata": {},
     "output_type": "execute_result"
    }
   ],
   "source": [
    "calc_size(field_index)"
   ]
  },
  {
   "cell_type": "code",
   "execution_count": 24,
   "metadata": {},
   "outputs": [
    {
     "data": {
      "text/plain": [
       "0.2925246400435692"
      ]
     },
     "execution_count": 24,
     "metadata": {},
     "output_type": "execute_result"
    }
   ],
   "source": [
    "calc_size(field_index_packed)/calc_size(field_index)"
   ]
  },
  {
   "cell_type": "markdown",
   "metadata": {},
   "source": [
    "## Conclusões\n",
    "* Em relação ao tempo de carregamento dos índices, sobretudo no índice completo, nota-se que o arquivo comprimido demora bem mais para ser processado. Acreditamos que isso se deve ao fato de o arquivo ser lido byte a byte (ao invés de 4 em 4 bytes) e a cada leitura processamentos e cálculos são feitos para saber se o número ou o posting atual terminou ou não.\n",
    "* Com respeito ao tempo de execução de pesquisas nenhuma diferença significativa foi encontrada.\n",
    "* Por fim, o tamanho dos índices comprimidos em memória ocupam algo entre 25% a 30% do que os índices comuns ocupam, um ganho significativo de performance."
   ]
  }
 ],
 "metadata": {
  "kernelspec": {
   "display_name": "Python 3.9.13 ('.wrapper': venv)",
   "language": "python",
   "name": "python3"
  },
  "language_info": {
   "codemirror_mode": {
    "name": "ipython",
    "version": 3
   },
   "file_extension": ".py",
   "mimetype": "text/x-python",
   "name": "python",
   "nbconvert_exporter": "python",
   "pygments_lexer": "ipython3",
   "version": "3.9.13"
  },
  "orig_nbformat": 4,
  "vscode": {
   "interpreter": {
    "hash": "400893ccdeca10322ae55f6ea4a593a935e6927a4a7455cc13e1b7595e424175"
   }
  }
 },
 "nbformat": 4,
 "nbformat_minor": 2
}
