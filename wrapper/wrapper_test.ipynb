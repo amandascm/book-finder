{
  "nbformat": 4,
  "nbformat_minor": 0,
  "metadata": {
    "colab": {
      "name": "wrapper-test.ipynb",
      "provenance": [],
      "authorship_tag": "ABX9TyO5qqVXvi3kFvDp/dmatG9C"
    },
    "kernelspec": {
      "name": "python3",
      "display_name": "Python 3"
    },
    "language_info": {
      "name": "python"
    }
  },
  "cells": [
    {
      "cell_type": "markdown",
      "source": [
        "## Passo a passo\n",
        "1. Criar um wrapper para cada site\n",
        "  - Criação do conjunto rotulado\n",
        "2. Implementar uma solução para todos os sites\n",
        "  - Extra: implementar mais uma solução e fazer análise de erros\n",
        "3. Comparar estratégias (Accuracy, precision, recall...)"
      ],
      "metadata": {
        "id": "eR5BEGYNfmAI"
      }
    },
    {
      "cell_type": "markdown",
      "source": [
        "## Dependências"
      ],
      "metadata": {
        "id": "LuB6W5xCcGJ0"
      }
    },
    {
      "cell_type": "code",
      "execution_count": null,
      "metadata": {
        "id": "ESBq-_zGcEJK"
      },
      "outputs": [],
      "source": [
        "import re\n",
        "from urllib.request import urlopen, build_opener\n",
        "from bs4 import BeautifulSoup"
      ]
    },
    {
      "cell_type": "markdown",
      "source": [
        "## Extratores"
      ],
      "metadata": {
        "id": "xCAO5STudYpS"
      }
    },
    {
      "cell_type": "markdown",
      "source": [
        "### Amazon"
      ],
      "metadata": {
        "id": "IkCWzW5cda3h"
      }
    },
    {
      "cell_type": "code",
      "source": [
        "url = 'https://www.amazon.com.br/1984-George-Orwell/dp/6589678006/ref=pd_sbs_sccl_2_2/138-0676212-7582358?pd_rd_w=6EihY&content-id=amzn1.sym.4e54af11-91e7-41b0-af49-07bca5d2336e&pf_rd_p=4e54af11-91e7-41b0-af49-07bca5d2336e&pf_rd_r=7R3KTYFYJA2Y86HBFX8X&pd_rd_wg=AzznA&pd_rd_r=453769c7-9fc0-45ef-8e07-faa7367b2c58&pd_rd_i=6589678006&psc=1#detailBullets_feature_div'\n",
        "soup = BeautifulSoup(get(url).text, 'html.parser')"
      ],
      "metadata": {
        "id": "JTL2UOTddaGy"
      },
      "execution_count": null,
      "outputs": []
    },
    {
      "cell_type": "code",
      "source": [
        "get(url).text"
      ],
      "metadata": {
        "id": "Gmq-BNLyj3Av"
      },
      "execution_count": null,
      "outputs": []
    },
    {
      "cell_type": "code",
      "source": [
        "soup"
      ],
      "metadata": {
        "id": "uSw9A9NWjq-P"
      },
      "execution_count": null,
      "outputs": []
    },
    {
      "cell_type": "code",
      "source": [
        "title = soup.find(id='productTitle')"
      ],
      "metadata": {
        "id": "13VXy7InjbHL"
      },
      "execution_count": null,
      "outputs": []
    },
    {
      "cell_type": "code",
      "source": [
        "title"
      ],
      "metadata": {
        "colab": {
          "base_uri": "https://localhost:8080/",
          "height": 165
        },
        "id": "H_8t2waljlQ-",
        "outputId": "29b8d76e-abaa-45c7-f88a-6555c19e2c57"
      },
      "execution_count": null,
      "outputs": [
        {
          "output_type": "error",
          "ename": "TypeError",
          "evalue": "ignored",
          "traceback": [
            "\u001b[0;31m---------------------------------------------------------------------------\u001b[0m",
            "\u001b[0;31mTypeError\u001b[0m                                 Traceback (most recent call last)",
            "\u001b[0;32m<ipython-input-8-8d273eab6130>\u001b[0m in \u001b[0;36m<module>\u001b[0;34m()\u001b[0m\n\u001b[0;32m----> 1\u001b[0;31m \u001b[0mlen\u001b[0m\u001b[0;34m(\u001b[0m\u001b[0mtitle\u001b[0m\u001b[0;34m)\u001b[0m\u001b[0;34m\u001b[0m\u001b[0;34m\u001b[0m\u001b[0m\n\u001b[0m",
            "\u001b[0;31mTypeError\u001b[0m: object of type 'NoneType' has no len()"
          ]
        }
      ]
    },
    {
      "cell_type": "markdown",
      "source": [
        "### Cultura"
      ],
      "metadata": {
        "id": "oosLtqcwlJEl"
      }
    },
    {
      "cell_type": "markdown",
      "source": [
        "#### Testes"
      ],
      "metadata": {
        "id": "iHgLODbayuNL"
      }
    },
    {
      "cell_type": "code",
      "source": [
        "url = 'https://www3.livrariacultura.com.br/corpo-fala-61038/p'\n",
        "opener = build_opener()\n",
        "opener.addheaders = [('User-agent', 'Mozilla/5.0')]\n",
        "soup = BeautifulSoup(opener.open(url), 'html.parser')"
      ],
      "metadata": {
        "id": "RFjXgoLslLUu"
      },
      "execution_count": null,
      "outputs": []
    },
    {
      "cell_type": "code",
      "source": [
        "title = soup.find(\"h1\", {\"class\": \"title_product\"}).div.string"
      ],
      "metadata": {
        "id": "k3K26oWamIxf"
      },
      "execution_count": null,
      "outputs": []
    },
    {
      "cell_type": "code",
      "source": [
        "title"
      ],
      "metadata": {
        "colab": {
          "base_uri": "https://localhost:8080/",
          "height": 35
        },
        "id": "x7qgm3aom7KJ",
        "outputId": "bf5788ea-735a-4e50-d82d-29b2920480b7"
      },
      "execution_count": null,
      "outputs": [
        {
          "output_type": "execute_result",
          "data": {
            "text/plain": [
              "'CORPO FALA'"
            ],
            "application/vnd.google.colaboratory.intrinsic+json": {
              "type": "string"
            }
          },
          "metadata": {},
          "execution_count": 63
        }
      ]
    },
    {
      "cell_type": "code",
      "source": [
        "author_div = soup.find(class_='meta authors')\n",
        "author = author_div.h2.a.string if author_div.h2.a else ''"
      ],
      "metadata": {
        "id": "na3IPqd0nZhL"
      },
      "execution_count": null,
      "outputs": []
    },
    {
      "cell_type": "code",
      "source": [
        "author"
      ],
      "metadata": {
        "colab": {
          "base_uri": "https://localhost:8080/",
          "height": 35
        },
        "id": "sRL9rnhqoQde",
        "outputId": "0acfabdb-561c-41e8-aa6b-077bcd0ccf14"
      },
      "execution_count": null,
      "outputs": [
        {
          "output_type": "execute_result",
          "data": {
            "text/plain": [
              "''"
            ],
            "application/vnd.google.colaboratory.intrinsic+json": {
              "type": "string"
            }
          },
          "metadata": {},
          "execution_count": 65
        }
      ]
    },
    {
      "cell_type": "code",
      "source": [
        "publisher_div = soup.find('div', class_='publisher')\n",
        "publisher = publisher_div.h2.div.a.string if publisher_div.h2.div else ''"
      ],
      "metadata": {
        "id": "nc65ttuWpUau"
      },
      "execution_count": null,
      "outputs": []
    },
    {
      "cell_type": "code",
      "source": [
        "publisher"
      ],
      "metadata": {
        "colab": {
          "base_uri": "https://localhost:8080/",
          "height": 35
        },
        "id": "0WQn48d1qNQg",
        "outputId": "7f1a8cc7-f6fc-425a-f431-733c719617e8"
      },
      "execution_count": null,
      "outputs": [
        {
          "output_type": "execute_result",
          "data": {
            "text/plain": [
              "'VOZES'"
            ],
            "application/vnd.google.colaboratory.intrinsic+json": {
              "type": "string"
            }
          },
          "metadata": {},
          "execution_count": 67
        }
      ]
    },
    {
      "cell_type": "code",
      "source": [
        "info_div = soup.find('div', id='info-product')\n",
        "book_info = info_div.string if info_div else ''"
      ],
      "metadata": {
        "id": "ugF6ExJQrT3J"
      },
      "execution_count": null,
      "outputs": []
    },
    {
      "cell_type": "code",
      "source": [
        "book_info"
      ],
      "metadata": {
        "colab": {
          "base_uri": "https://localhost:8080/",
          "height": 35
        },
        "id": "iJUz8zUirkr1",
        "outputId": "806e7062-02e3-46e6-e2bd-cdbca51bf622"
      },
      "execution_count": null,
      "outputs": [
        {
          "output_type": "execute_result",
          "data": {
            "text/plain": [
              "''"
            ],
            "application/vnd.google.colaboratory.intrinsic+json": {
              "type": "string"
            }
          },
          "metadata": {},
          "execution_count": 46
        }
      ]
    },
    {
      "cell_type": "code",
      "source": [
        "prod_spec = soup.find(class_='section-produto-especificacoes')"
      ],
      "metadata": {
        "id": "SAsylPsnrsTV"
      },
      "execution_count": null,
      "outputs": []
    },
    {
      "cell_type": "code",
      "source": [
        "prod_spec"
      ],
      "metadata": {
        "colab": {
          "base_uri": "https://localhost:8080/"
        },
        "id": "eNKNSN3Qwz2A",
        "outputId": "c7c0ccdd-42d0-4471-91e1-4302f38e8f7f"
      },
      "execution_count": null,
      "outputs": [
        {
          "output_type": "execute_result",
          "data": {
            "text/plain": [
              "<section class=\"section-produto-especificacoes\"><div class=\"container\"><div class=\"info\" id=\"produto-especificacoes\"><div class=\"vtex-productSpecification\" style=\"display: none;\"><div id=\"caracteristicas\"><h4 class=\"group Especificacoes\">Especificações</h4><table cellspacing=\"0\" class=\"group Especificacoes\"><tr class=\"even\"><th class=\"name-field Ano-de-Edicao\">Ano de Edição</th><td class=\"value-field Ano-de-Edicao\">2015</td></tr><tr><th class=\"name-field Colaborador\">Colaborador</th><td class=\"value-field Colaborador\">Autor:WEIL, PIERRE|Autor:TOMPAKOW, ROLAND</td></tr><tr class=\"even\"><th class=\"name-field Editora\">Editora</th><td class=\"value-field Editora\">VOZES</td></tr><tr><th class=\"name-field ISBN\">ISBN</th><td class=\"value-field ISBN\">8532602088</td></tr><tr class=\"even\"><th class=\"name-field Ano\">Ano</th><td class=\"value-field Ano\">2015</td></tr><tr><th class=\"name-field Edicao\">Edição</th><td class=\"value-field Edicao\">1</td></tr><tr class=\"even\"><th class=\"name-field Origem\">Origem</th><td class=\"value-field Origem\">Nacional</td></tr><tr><th class=\"name-field Formato\">Formato</th><td class=\"value-field Formato\">LIVRO</td></tr><tr class=\"even\"><th class=\"name-field Encadernacao\">Encadernação</th><td class=\"value-field Encadernacao\">BROCHURA</td></tr><tr><th class=\"name-field Idioma\">Idioma</th><td class=\"value-field Idioma\">PORTUGUÊS</td></tr><tr class=\"even\"><th class=\"name-field Pais\">País</th><td class=\"value-field Pais\">BRASIL</td></tr><tr><th class=\"name-field Paginas\">Páginas</th><td class=\"value-field Paginas\">288</td></tr></table></div></div></div></div></section>"
            ]
          },
          "metadata": {},
          "execution_count": 89
        }
      ]
    },
    {
      "cell_type": "code",
      "source": [
        "def treat_author(author_string: str):\n",
        "  authors = author_string.split('|')\n",
        "  result = []\n",
        "  for a in authors:\n",
        "    if not 'Autor' in a:\n",
        "      continue\n",
        "    name = a.replace('Autor:', '')\n",
        "    name = name.split(', ')\n",
        "    name.reverse()\n",
        "    result.append(' '.join(name))\n",
        "  return result\n",
        "\n",
        "author_data = prod_spec.find('td', class_='value-field Colaborador')\n",
        "authors = treat_author(author_data.string) if author_data else ''"
      ],
      "metadata": {
        "id": "f8pq47-gtmWZ"
      },
      "execution_count": null,
      "outputs": []
    },
    {
      "cell_type": "code",
      "source": [
        "author_data"
      ],
      "metadata": {
        "colab": {
          "base_uri": "https://localhost:8080/"
        },
        "id": "DTI12HiP2l3Z",
        "outputId": "0f1dd850-50f1-4e17-de6a-76129d938be5"
      },
      "execution_count": null,
      "outputs": [
        {
          "output_type": "execute_result",
          "data": {
            "text/plain": [
              "<td class=\"value-field Colaborador\">Autor:WEIL, PIERRE|Autor:TOMPAKOW, ROLAND</td>"
            ]
          },
          "metadata": {},
          "execution_count": 104
        }
      ]
    },
    {
      "cell_type": "code",
      "source": [
        "authors"
      ],
      "metadata": {
        "colab": {
          "base_uri": "https://localhost:8080/"
        },
        "id": "TYdTCh18vBHP",
        "outputId": "06a80f8d-1f4c-4cc6-c08b-67dfdae08691"
      },
      "execution_count": null,
      "outputs": [
        {
          "output_type": "execute_result",
          "data": {
            "text/plain": [
              "['PIERRE WEIL', 'ROLAND TOMPAKOW']"
            ]
          },
          "metadata": {},
          "execution_count": 109
        }
      ]
    },
    {
      "cell_type": "code",
      "source": [
        "isbn_data = prod_spec.find('td', class_='value-field ISBN')\n",
        "isbn = isbn_data.string if isbn_data else ''"
      ],
      "metadata": {
        "id": "bZj2SAt2wn5O"
      },
      "execution_count": null,
      "outputs": []
    },
    {
      "cell_type": "code",
      "source": [
        "isbn"
      ],
      "metadata": {
        "colab": {
          "base_uri": "https://localhost:8080/",
          "height": 35
        },
        "id": "Jf4eMLdxw7bQ",
        "outputId": "1675848a-707a-47c7-e107-e0a4354eb79f"
      },
      "execution_count": null,
      "outputs": [
        {
          "output_type": "execute_result",
          "data": {
            "text/plain": [
              "'8532602088'"
            ],
            "application/vnd.google.colaboratory.intrinsic+json": {
              "type": "string"
            }
          },
          "metadata": {},
          "execution_count": 91
        }
      ]
    },
    {
      "cell_type": "code",
      "source": [
        "year_data = prod_spec.find('td', class_='value-field Ano')\n",
        "year = year_data.string if year_data else ''"
      ],
      "metadata": {
        "id": "E1cfLwhAw875"
      },
      "execution_count": null,
      "outputs": []
    },
    {
      "cell_type": "code",
      "source": [
        "year"
      ],
      "metadata": {
        "colab": {
          "base_uri": "https://localhost:8080/",
          "height": 35
        },
        "id": "IFYnG4MJxXW6",
        "outputId": "e90198fe-e0e2-4e75-ff2a-0dd363b40d8e"
      },
      "execution_count": null,
      "outputs": [
        {
          "output_type": "execute_result",
          "data": {
            "text/plain": [
              "'2015'"
            ],
            "application/vnd.google.colaboratory.intrinsic+json": {
              "type": "string"
            }
          },
          "metadata": {},
          "execution_count": 93
        }
      ]
    },
    {
      "cell_type": "code",
      "source": [
        "edition_data = prod_spec.find('td', class_='value-field Edicao')\n",
        "edition = edition_data.string if edition_data else ''"
      ],
      "metadata": {
        "id": "2RDtGV6wxZ_S"
      },
      "execution_count": null,
      "outputs": []
    },
    {
      "cell_type": "code",
      "source": [
        "edition"
      ],
      "metadata": {
        "outputId": "c6f85fa8-3c38-4c7b-8e63-690b6e93da23",
        "colab": {
          "base_uri": "https://localhost:8080/",
          "height": 35
        },
        "id": "7vbF-74vxZ_S"
      },
      "execution_count": null,
      "outputs": [
        {
          "output_type": "execute_result",
          "data": {
            "text/plain": [
              "'1'"
            ],
            "application/vnd.google.colaboratory.intrinsic+json": {
              "type": "string"
            }
          },
          "metadata": {},
          "execution_count": 95
        }
      ]
    },
    {
      "cell_type": "code",
      "source": [
        "pages_data = prod_spec.find('td', class_='value-field Paginas')\n",
        "pages = pages_data.string if pages_data else ''"
      ],
      "metadata": {
        "id": "W_PWsY2_xYQ_"
      },
      "execution_count": null,
      "outputs": []
    },
    {
      "cell_type": "code",
      "source": [
        "pages"
      ],
      "metadata": {
        "colab": {
          "base_uri": "https://localhost:8080/",
          "height": 35
        },
        "id": "_HrqKgD0xtHh",
        "outputId": "010308a4-8b87-43ad-9434-ce7a87ec78d4"
      },
      "execution_count": null,
      "outputs": [
        {
          "output_type": "execute_result",
          "data": {
            "text/plain": [
              "'288'"
            ],
            "application/vnd.google.colaboratory.intrinsic+json": {
              "type": "string"
            }
          },
          "metadata": {},
          "execution_count": 97
        }
      ]
    },
    {
      "cell_type": "code",
      "source": [
        "price_data = soup.find('em', class_='valor-por')\n",
        "price_data"
      ],
      "metadata": {
        "colab": {
          "base_uri": "https://localhost:8080/"
        },
        "id": "y1Se4br6zRII",
        "outputId": "30039245-e61c-4cc4-8b8e-60d7a490bf62"
      },
      "execution_count": null,
      "outputs": [
        {
          "output_type": "execute_result",
          "data": {
            "text/plain": [
              "<em class=\"valor-por\" productindex=\"0\">Por: <strong class=\"skuBestPrice\" productindex=\"0\">R$ 45,50</strong></em>"
            ]
          },
          "metadata": {},
          "execution_count": 98
        }
      ]
    },
    {
      "cell_type": "code",
      "source": [
        "price = price_data.strong.string\n",
        "price"
      ],
      "metadata": {
        "colab": {
          "base_uri": "https://localhost:8080/",
          "height": 35
        },
        "id": "PdHJ9MqlzoCz",
        "outputId": "2b1b0748-5776-4a1c-c36a-2416c6317264"
      },
      "execution_count": null,
      "outputs": [
        {
          "output_type": "execute_result",
          "data": {
            "text/plain": [
              "'R$ 45,50'"
            ],
            "application/vnd.google.colaboratory.intrinsic+json": {
              "type": "string"
            }
          },
          "metadata": {},
          "execution_count": 99
        }
      ]
    },
    {
      "cell_type": "markdown",
      "source": [
        ""
      ],
      "metadata": {
        "id": "actAYCUPywST"
      }
    },
    {
      "cell_type": "markdown",
      "source": [
        "#### Resultados\n",
        "Juntando todas as informações numa função"
      ],
      "metadata": {
        "id": "SzDROcBexuv4"
      }
    },
    {
      "cell_type": "code",
      "source": [
        "def extract_cultura_info(soup):\n",
        "  def treat_author(author_string: str):\n",
        "    authors = author_string.split('|')\n",
        "    result = []\n",
        "    for a in authors:\n",
        "      if not 'Autor' in a:\n",
        "        continue\n",
        "      name = a.replace('Autor:', '')\n",
        "      name = name.split(', ')\n",
        "      name.reverse()\n",
        "      result.append(' '.join(name))\n",
        "    return result\n",
        "  \n",
        "  title = soup.find(\"h1\", {\"class\": \"title_product\"}).div.string\n",
        "  publisher_div = soup.find('div', class_='publisher')\n",
        "  publisher = publisher_div.h2.div.a.string if publisher_div.h2.div else None\n",
        "  info_div = soup.find('div', id='info-product')\n",
        "  book_info = info_div.string if info_div else ''\n",
        "  price_data = soup.find('em', class_='valor-por')\n",
        "  price = price_data.strong.string if price_data else ''\n",
        "  prod_spec = soup.find(class_='section-produto-especificacoes')\n",
        "  if not publisher:\n",
        "    publisher_data = prod_spec.find('td', class_='value-field Editora')\n",
        "    publisher = publisher_data.string if publisher_data else ''\n",
        "  author_data = prod_spec.find('td', class_='value-field Colaborador')\n",
        "  authors = treat_author(author_data.string) if author_data else []\n",
        "  isbn_data = prod_spec.find('td', class_='value-field ISBN')\n",
        "  isbn = isbn_data.string if isbn_data else ''  \n",
        "  language_data = prod_spec.find('td', class_='value-field Idioma')\n",
        "  language = language_data.string if isbn_data else ''\n",
        "  year_data = prod_spec.find('td', class_='value-field Ano')\n",
        "  year = year_data.string if year_data else ''\n",
        "  edition_data = prod_spec.find('td', class_='value-field Edicao')\n",
        "  edition = edition_data.string if edition_data else ''\n",
        "  pages_data = prod_spec.find('td', class_='value-field Paginas')\n",
        "  pages = pages_data.string if pages_data else ''\n",
        "  return {\n",
        "      \"title\": title,\n",
        "      \"publisher\": publisher,\n",
        "      \"price\": price,\n",
        "      \"info\": book_info,\n",
        "      \"authors\": authors,\n",
        "      \"year\": year,\n",
        "      \"isbn\": isbn,\n",
        "      \"edition\": edition,\n",
        "      \"pages\": pages,\n",
        "      \"language\": language\n",
        "  }"
      ],
      "metadata": {
        "id": "CMsqMQQtxxfB"
      },
      "execution_count": null,
      "outputs": []
    },
    {
      "cell_type": "code",
      "source": [
        "books = ['https://www3.livrariacultura.com.br/corpo-fala-61038/p',\n",
        "  'https://www3.livrariacultura.com.br/naruto-gold-vol-1-2111902326/p',\n",
        "  'https://www3.livrariacultura.com.br/o-ladrao-de-raios-capa-nova-42275209/p',\n",
        "  'https://www3.livrariacultura.com.br/menos-que-um-2112320138/p',\n",
        "  'https://www3.livrariacultura.com.br/thomas-sowell-a-biografia-2112320635/p',\n",
        "  'https://www3.livrariacultura.com.br/gestao-com-gentileza-2112319991/p',\n",
        "  'https://www3.livrariacultura.com.br/peaky-blinders-2112320052/p',\n",
        "  'https://www3.livrariacultura.com.br/cacadas-de-pedrinho-2111919285/p',\n",
        "  'https://www3.livrariacultura.com.br/dedoches-animais-2112297541/p?lista=1725',\n",
        "  'https://www3.livrariacultura.com.br/stranger-things-cidade-nas-trevas-2112247884/p?lista=2099',\n",
        "  'https://www3.livrariacultura.com.br/o-cavaleiro-preso-na-armadura-2112273695/p',\n",
        "  'https://www3.livrariacultura.com.br/o-filho-do-terrorista-46016865/p',\n",
        "  'https://www3.livrariacultura.com.br/a-verdade-e-outras-mentiras-46335302/p']"
      ],
      "metadata": {
        "id": "jAimdBup0j4V"
      },
      "execution_count": null,
      "outputs": []
    },
    {
      "cell_type": "code",
      "source": [
        "len(books)"
      ],
      "metadata": {
        "colab": {
          "base_uri": "https://localhost:8080/"
        },
        "id": "lMkyCNCF08BR",
        "outputId": "6d5ad971-9ea3-45a0-85d9-6035db9733b5"
      },
      "execution_count": null,
      "outputs": [
        {
          "output_type": "execute_result",
          "data": {
            "text/plain": [
              "13"
            ]
          },
          "metadata": {},
          "execution_count": 6
        }
      ]
    },
    {
      "cell_type": "code",
      "source": [
        "for book in books:\n",
        "  opener = build_opener()\n",
        "  opener.addheaders = [('User-agent', 'Mozilla/5.0')]\n",
        "  print(extract_cultura_info(BeautifulSoup(opener.open(book), 'html.parser')))"
      ],
      "metadata": {
        "colab": {
          "base_uri": "https://localhost:8080/"
        },
        "id": "JFvATTuw09HJ",
        "outputId": "cb7d7d48-8a94-4d90-e7b3-da4133f80b11"
      },
      "execution_count": null,
      "outputs": [
        {
          "output_type": "stream",
          "name": "stdout",
          "text": [
            "{'title': 'CORPO FALA', 'publisher': 'VOZES', 'price': 'R$ 45,50', 'info': '', 'authors': ['PIERRE WEIL', 'ROLAND TOMPAKOW'], 'year': '2015', 'isbn': '8532602088', 'edition': '1', 'pages': '288', 'language': 'PORTUGUÊS'}\n",
            "{'title': 'NARUTO GOLD VOL. 1', 'publisher': 'PANINI LIVROS', 'price': 'R$ 23,73', 'info': '', 'authors': ['MASASHI KISHIMOTO'], 'year': '2022', 'isbn': '8542602412', 'edition': '1', 'pages': '192', 'language': 'PORTUGUÊS'}\n",
            "{'title': 'O LADRÃO DE RAIOS - CAPA NOVA', 'publisher': 'INTRINSECA', 'price': 'R$ 38,43', 'info': '', 'authors': ['RICK RIORDAN'], 'year': '2014', 'isbn': '8580575397', 'edition': '1', 'pages': '400', 'language': 'PORTUGUÊS'}\n",
            "{'title': 'MENOS QUE UM', 'publisher': 'LEYA.', 'price': 'R$ 44,98', 'info': '', 'authors': [], 'year': '', 'isbn': '', 'edition': '', 'pages': '', 'language': ''}\n",
            "{'title': 'THOMAS SOWELL – A BIOGRAFIA', 'publisher': 'AVIS RARA', 'price': 'R$ 54,90', 'info': '', 'authors': [], 'year': '', 'isbn': '', 'edition': '', 'pages': '', 'language': ''}\n",
            "{'title': 'GESTÃO COM GENTILEZA', 'publisher': 'LITERARE BOOKS', 'price': 'R$ 22,82', 'info': '', 'authors': [], 'year': '', 'isbn': '', 'edition': '', 'pages': '', 'language': ''}\n",
            "{'title': 'PEAKY BLINDERS', 'publisher': 'UNIVERSO DOS LIVROS', 'price': 'R$ 59,90', 'info': '', 'authors': [], 'year': '', 'isbn': '', 'edition': '', 'pages': '', 'language': ''}\n",
            "{'title': 'CAÇADAS DE PEDRINHO', 'publisher': 'CIRANDA CULTURAL', 'price': 'R$ 17,43', 'info': '', 'authors': ['MONTEIRO LOBATO'], 'year': '2019', 'isbn': '8538087665', 'edition': '1', 'pages': '80', 'language': 'PORTUGUÊS'}\n",
            "{'title': 'DEDOCHES ANIMAIS', 'publisher': 'TOYSTER', 'price': 'R$ 49,99', 'info': '', 'authors': [], 'year': '', 'isbn': '', 'edition': '', 'pages': '', 'language': ''}\n",
            "{'title': 'STRANGER THINGS: CIDADE NAS TREVAS', 'publisher': 'INTRINSECA', 'price': 'R$ 44,90', 'info': '', 'authors': ['ADAM CHRISTOPHER'], 'year': '2020', 'isbn': '8551006290', 'edition': '1', 'pages': '384', 'language': 'PORTUGUÊS'}\n",
            "{'title': 'O CAVALEIRO PRESO NA ARMADURA', 'publisher': 'RECORD', 'price': 'R$ 31,43', 'info': '', 'authors': ['ROBERT FISHER'], 'year': '2020', 'isbn': '6555870192', 'edition': '1', 'pages': '112', 'language': 'PORTUGUÊS'}\n",
            "{'title': 'O FILHO DO TERRORISTA', 'publisher': 'ALAUDE', 'price': 'R$ 9,90', 'info': '', 'authors': ['ZAK EBRAHIM', 'JEFF GILES'], 'year': '2015', 'isbn': '8578813065', 'edition': '1', 'pages': '128', 'language': 'PORTUGUÊS'}\n",
            "{'title': 'A VERDADE E OUTRAS MENTIRAS', 'publisher': 'SUMA DE LETRAS BRASI', 'price': 'R$ 19,90', 'info': '', 'authors': ['SASCHA ARANGO'], 'year': '2016', 'isbn': '8556510213', 'edition': '1', 'pages': '224', 'language': 'PORTUGUÊS'}\n"
          ]
        }
      ]
    },
    {
      "cell_type": "markdown",
      "source": [
        "### Companhia das letras"
      ],
      "metadata": {
        "id": "xrg3WxBZ5B_a"
      }
    },
    {
      "cell_type": "markdown",
      "source": [
        "#### Testes"
      ],
      "metadata": {
        "id": "3_8C4baA5H4C"
      }
    },
    {
      "cell_type": "code",
      "source": [
        "url = 'https://www.companhiadasletras.com.br/livro/9788535923438/eu-sou-malala'\n",
        "opener = build_opener()\n",
        "opener.addheaders = [('User-agent', 'Mozilla/5.0')]\n",
        "soup = BeautifulSoup(opener.open(url), 'html.parser')"
      ],
      "metadata": {
        "id": "JIZ7pRum5ECZ"
      },
      "execution_count": null,
      "outputs": []
    },
    {
      "cell_type": "code",
      "source": [
        "title = soup.find('div', class_='detalhe_livro_titulo').string\n",
        "title"
      ],
      "metadata": {
        "colab": {
          "base_uri": "https://localhost:8080/",
          "height": 35
        },
        "id": "tMreyq6T52ex",
        "outputId": "22629dff-ded8-4930-f3bf-3d617ab809ff"
      },
      "execution_count": null,
      "outputs": [
        {
          "output_type": "execute_result",
          "data": {
            "text/plain": [
              "'EU SOU MALALA'"
            ],
            "application/vnd.google.colaboratory.intrinsic+json": {
              "type": "string"
            }
          },
          "metadata": {},
          "execution_count": 117
        }
      ]
    },
    {
      "cell_type": "code",
      "source": [
        "authors_div = soup.find('div', class_='detalhe_livro_autor')\n",
        "authors=[]\n",
        "for a in authors_div.find_all('a'):\n",
        "  authors.append(a.string)\n",
        "authors"
      ],
      "metadata": {
        "colab": {
          "base_uri": "https://localhost:8080/"
        },
        "id": "yAbhBV-f6Q20",
        "outputId": "7394c539-af05-49a2-aa9a-55d519d6618b"
      },
      "execution_count": null,
      "outputs": [
        {
          "output_type": "execute_result",
          "data": {
            "text/plain": [
              "['Malala Yousafzai', 'Christina Lamb']"
            ]
          },
          "metadata": {},
          "execution_count": 118
        }
      ]
    },
    {
      "cell_type": "code",
      "source": [
        "price = soup.find('div', class_='preco').string\n",
        "price"
      ],
      "metadata": {
        "colab": {
          "base_uri": "https://localhost:8080/",
          "height": 35
        },
        "id": "it20nEdQ6sQ6",
        "outputId": "b2c949ed-36d5-4202-a5eb-92b03b4186e0"
      },
      "execution_count": null,
      "outputs": [
        {
          "output_type": "execute_result",
          "data": {
            "text/plain": [
              "'R$ 52,90'"
            ],
            "application/vnd.google.colaboratory.intrinsic+json": {
              "type": "string"
            }
          },
          "metadata": {},
          "execution_count": 119
        }
      ]
    },
    {
      "cell_type": "code",
      "source": [
        "details = soup.find_all('div', class_='bloco_txt_detalhe')\n",
        "info = details[0].get_text()"
      ],
      "metadata": {
        "id": "oY0IrLqQ7eCd"
      },
      "execution_count": null,
      "outputs": []
    },
    {
      "cell_type": "code",
      "source": [
        "info"
      ],
      "metadata": {
        "colab": {
          "base_uri": "https://localhost:8080/",
          "height": 140
        },
        "id": "1rhlQlF-8a_k",
        "outputId": "c27e200a-ac48-40b5-c250-a7de55ab3e95"
      },
      "execution_count": null,
      "outputs": [
        {
          "output_type": "execute_result",
          "data": {
            "text/plain": [
              "'\\n          Quando o Talibã tomou controle do vale do Swat, uma menina levantou a voz. Malala Yousafzai recusou-se a permanecer em silêncio e lutou pelo seu direito à educação. Mas em 9 de outubro de 2012, uma terça-feira, ela quase pagou o preço com a vida. \\nMalala foi atingida na cabeça por um tiro à queima-roupa dentro do ônibus no qual voltava da escola. Poucos acreditaram que ela sobreviveria.\\nMas a recuperação milagrosa de Malala a levou em uma viagem extraordinária de um vale remoto no norte do Paquistão para as salas das Nações Unidas em Nova York. Aos dezesseis anos, ela se tornou um símbolo global de protesto pacífico e a candidata mais jovem da história a receber o Prêmio Nobel da Paz.\\nEu sou Malala é a história de uma família exilada pelo terrorismo global, da luta pelo direito à educação feminina e dos obstáculos à valorização da mulher em uma sociedade que valoriza filhos homens. \\nO livro acompanha a infância da garota no Paquistão, os primeiros anos de vida escolar, as asperezas da vida numa região marcada pela desigualdade social, as belezas do deserto e as trevas da vida sob o Talibã.\\nEscrito em parceria com a jornalista britânica Christina Lamb, este livro é uma janela para a singularidade poderosa de uma menina cheia de brio e talento, mas também para um universo religioso e cultural cheio de interdições e particularidades, muitas vezes incompreendido pelo Ocidente.    \\n\"Sentar numa cadeira, ler meus livros rodeada pelos meus amigos é um direito meu\", ela diz numa das últimas passagens do livro. A história de Malala renova a crença na capacidade de uma pessoa de inspirar e modificar o mundo.        '"
            ],
            "application/vnd.google.colaboratory.intrinsic+json": {
              "type": "string"
            }
          },
          "metadata": {},
          "execution_count": 123
        }
      ]
    },
    {
      "cell_type": "code",
      "source": [
        "len(details)"
      ],
      "metadata": {
        "colab": {
          "base_uri": "https://localhost:8080/"
        },
        "id": "5GZvjAuz8h2b",
        "outputId": "f45adee6-be62-403b-b3ee-49a5fc0b6b15"
      },
      "execution_count": null,
      "outputs": [
        {
          "output_type": "execute_result",
          "data": {
            "text/plain": [
              "4"
            ]
          },
          "metadata": {},
          "execution_count": 124
        }
      ]
    },
    {
      "cell_type": "code",
      "source": [
        "pages, year, isbn, publisher = '', '', '', ''\n",
        "for span in details[1].find_all('span'):\n",
        "  if span.string == 'Páginas:':\n",
        "    pages = str(span.next_sibling).strip()\n",
        "  if span.string == 'Lançamento:':\n",
        "    year = str(span.next_sibling).split('/')[-1]\n",
        "  if span.string == 'ISBN:':\n",
        "    isbn = str(span.next_sibling).strip()\n",
        "  if span.string == 'Selo:':\n",
        "    publisher = str(span.next_sibling).strip()\n",
        "pages, year, isbn, publisher"
      ],
      "metadata": {
        "colab": {
          "base_uri": "https://localhost:8080/"
        },
        "id": "Q_AGZ5rB8lE8",
        "outputId": "d775a941-e118-46c7-fd18-8319e8c6f010"
      },
      "execution_count": null,
      "outputs": [
        {
          "output_type": "execute_result",
          "data": {
            "text/plain": [
              "('360', '2013', '9788535923438', 'Companhia das Letras')"
            ]
          },
          "metadata": {},
          "execution_count": 134
        }
      ]
    },
    {
      "cell_type": "markdown",
      "source": [
        "#### Resultados"
      ],
      "metadata": {
        "id": "Ew2vEOJa-njA"
      }
    },
    {
      "cell_type": "code",
      "source": [
        "def extract_companhia_info(soup):\n",
        "  title = soup.find('div', class_='detalhe_livro_titulo').string\n",
        "  authors_div = soup.find('div', class_='detalhe_livro_autor')\n",
        "  authors=[]\n",
        "  if authors_div:\n",
        "    for a in authors_div.find_all('a'):\n",
        "      authors.append(a.string)\n",
        "  price = soup.find('div', class_='preco').string\n",
        "  details = soup.find_all('div', class_='bloco_txt_detalhe')\n",
        "  book_info = details[0].get_text()\n",
        "  pages, year, isbn, publisher = '', '', '', ''\n",
        "  for span in details[1].find_all('span'):\n",
        "    if span.string == 'Páginas:':\n",
        "      pages = str(span.next_sibling).strip()\n",
        "    if span.string == 'Lançamento:':\n",
        "      year = str(span.next_sibling).split('/')[-1]\n",
        "    if span.string == 'ISBN:':\n",
        "      isbn = str(span.next_sibling).strip()\n",
        "    if span.string == 'Selo:':\n",
        "      publisher = str(span.next_sibling).strip()\n",
        "  edition = ''\n",
        "  return {\n",
        "      \"title\": title,\n",
        "      \"authors\": authors,\n",
        "      \"publisher\": publisher,\n",
        "      \"price\": price,\n",
        "      \"info\": book_info,\n",
        "      \"year\": year,\n",
        "      \"isbn\": isbn,\n",
        "      \"edition\": edition,\n",
        "      \"pages\": pages,\n",
        "      \"language\": ''\n",
        "  }"
      ],
      "metadata": {
        "id": "1HMMAnar-o1a"
      },
      "execution_count": null,
      "outputs": []
    },
    {
      "cell_type": "code",
      "source": [
        "books = ['https://www.companhiadasletras.com.br/livro/9786559211852/saramago-150-os-seus-nomes',\n",
        "  'https://www.companhiadasletras.com.br/livro/9786559790715/a-cultura-no-mundo-liquido-moderno-nova-edicao',\n",
        "  'https://www.companhiadasletras.com.br/livro/9786559213474/metamaus',\n",
        "  'https://www.companhiadasletras.com.br/livro/9786559790807/o-negocio-do-jair',\n",
        "  'https://www.companhiadasletras.com.br/livro/9786559211845/todas-as-letras-nova-edicao-ampliada',\n",
        "  'https://www.companhiadasletras.com.br/livro/9788535914849/1984',\n",
        "  'https://www.companhiadasletras.com.br/livro/9788535928075/o-gene',\n",
        "  'https://www.companhiadasletras.com.br/livro/9788582850541/impressoes-de-leitura-e-outros-textos-criticos',\n",
        "  'https://www.companhiadasletras.com.br/livro/9788535912692/tintim-e-os-picaros',\n",
        "  'https://www.companhiadasletras.com.br/livro/9788535921168/deus-essa-gostosa']"
      ],
      "metadata": {
        "id": "ifrKeQ3T_Yhf"
      },
      "execution_count": null,
      "outputs": []
    },
    {
      "cell_type": "code",
      "source": [
        "for book in books:\n",
        "  opener = build_opener()\n",
        "  opener.addheaders = [('User-agent', 'Mozilla/5.0')]\n",
        "  print(extract_companhia_info(BeautifulSoup(opener.open(book), 'html.parser')))"
      ],
      "metadata": {
        "colab": {
          "base_uri": "https://localhost:8080/"
        },
        "id": "TkofZkXj_o36",
        "outputId": "753da9b1-4625-431d-ce07-68d5fee0fe97"
      },
      "execution_count": null,
      "outputs": [
        {
          "output_type": "stream",
          "name": "stdout",
          "text": [
            "{'title': 'SARAMAGO – OS SEUS NOMES', 'authors': [], 'publisher': 'Companhia das Letras', 'price': 'R$ 199,90', 'info': '\\n          José Saramago é, incontestavelmente, um dos grandes mestres da literatura. Único autor de língua portuguesa a receber o prêmio Nobel, ele deixou tesouros como Ensaio sobre a cegueira, O Evangelho segundo Jesus Cristo e O ano da morte de Ricardo Reis. Em 2022, celebra-se o centenário de nascimento desse homem que começou como serralheiro mecânico, tornou-se funcionário público, editor e, por fim, escritor – ofício que foi levado a outro patamar por suas mãos.Este álbum biográfico sem precedentes, dividido em quatro perspectivas – espaços/lugares, leituras/sentidos, escritas/criações e laços/pessoas –, traz a vida de José Saramago ao entrelaçar mais de duzentos nomes, entre cidades, marcos históricos, amigos, personagens. Lanzarote, Brasil, Blimunda, Deus, Judas, Fernando Pessoa, Marx, Jorge Amado, Pilar, todos estes relembrados por imagens do acervo da Fundação Saramago e registros em livros.Em um primoroso trabalho de pesquisa, Alejandro García Schnetzer e Ricardo Viel apresentam ao mundo um novo José: suas inspirações e seus discípulos, os cenários que compuseram sua trajetória e sua relação amalgamada com o ser humano. Tudo, portanto, o que levou José a tornar-se Saramago.Com projeto gráfico de Raul Loureiro.\"É importante continuar a revisitar a consciência ética presente na obra de José Saramago. Essa consciência mantém, hoje, a sua acuidade, tanto na condenação da exclusão e das desigualdades como na importante mensagem sobre a necessidade de \\'reivindicarmos o dever\\' de defender e fazer cumprir os direitos que a todos e cada um são conferidos. Esta fotobiografia contribuirá, confio, para que mais leitores relembrem ou descubram a exortação a que \\'os cidadãos comuns tomem a palavra e a iniciativa\\' – e não prescindam nunca desse direito.\" – António Guterres, secretário-geral da ONU ', 'year': '2022', 'isbn': '9786559211852', 'edition': '', 'pages': '352', 'language': ''}\n",
            "{'title': 'A CULTURA NO MUNDO LÍQUIDO MODERNO (NOVA EDIÇÃO)', 'authors': ['Zygmunt Bauman'], 'publisher': 'Zahar', 'price': 'R$ 64,90', 'info': '\\n          Há cerca de dois séculos, nascia o conceito de cultura, designando um estágio de conhecimento a ser atingido por toda a humanidade. Com ele, surgia o moderno Estado-nação, responsável por organizar e administrar a economia, a política e a sociedade, e definia-se também o papel dos intelectuais na educação e na formação cultural dos povos.Em nossa era líquido-moderna, na qual todas as hierarquias se dissolvem e os indivíduos passam de produtores a consumidores, todo esse arcabouço se desfaz. A cultura já não é da humanidade, mas de grupos, de guetos, e a agenda contemporânea põe na ordem do dia temas como cidadania, direitos humanos e convivência. Contudo – alerta-nos Zygmunt Bauman neste livro brilhante –, mais que lutar pelos direitos da diferença, deveríamos nos empenhar pelo direito à igualdade.        ', 'year': '2022', 'isbn': '9786559790715', 'edition': '', 'pages': '112', 'language': ''}\n",
            "{'title': 'METAMAUS', 'authors': ['Art Spiegelman'], 'publisher': 'Quadrinhos na Cia', 'price': 'R$ 259,90', 'info': '\\n          Nas páginas deste livro, numa série de entrevistas e material inédito, Art Spiegelman volta a Maus, graphic novel vencedora do prêmio Pulitzer e clássico moderno absoluto que, desde sua publicação, em 1992, transformou a maneira como enxergamos a literatura, os quadrinhos e o Holocausto\\xa0. Metamaus vai a fundo nas perguntas que Maus tem evocado ao longo do tempo – por que o Holocausto? Por que ratos? Por que quadrinhos? – e nos fornece um documento essencial sobre a gênese deste romance gráfico que tem encantado gerações. O livro é acompanhado por um DVD \\xa0com Maus em versão digital, incluindo links para um vasto arquivo de áudios (em inglês) com entrevistas entre Art Spiegelman e seu pai – um sobrevivente dos campos de concentração –, documentos históricos e uma grande variedade de cadernos de anotações e esboços do autor.Para os fãs de Maus e para todos aqueles que amam quadrinhos, Metamaus é um clássico em si, envolvente, dinâmico, uma reflexão poderosa sobre os caminhos que levam uma história íntima e traumática a se tornar ficção.        ', 'year': '2022', 'isbn': '9786559213474', 'edition': '', 'pages': '356', 'language': ''}\n",
            "{'title': 'O NEGÓCIO DO JAIR', 'authors': ['Juliana Dal Piva'], 'publisher': 'Zahar', 'price': 'R$ 84,90', 'info': '\\nResultado de mais de três anos de apuração, O Negócio do Jair: A história proibida do clã Bolsonaro desvenda o passado secreto da família que hoje comanda o Brasil. A jornalista Juliana Dal Piva parte do escândalo das rachadinhas exposto pelo caso Queiroz, a partir de dezembro de 2018, para contar uma história que remonta à entrada de Jair Bolsonaro na política na década de 1990.No centro do passado que o clã tenta abafar, está um esquema de corrupção conhecido entre os participantes como o \"Negócio do Jair\". O arranjo ocorria nos gabinetes funcionais ocupados pela família de Bolsonaro em seus mandatos políticos, seja de vereador, deputado estadual ou federal, e envolvia seus três filhos mais velhos, as duas ex-esposas e a atual, amigos, familiares – muitos deles atuando como funcionários fantasmas –, além de advogados e milicianos.Com base em depoimentos exclusivos, cópias sigilosas dos autos judiciais, mais de cinquenta entrevistas, mil páginas em documentos, vídeos e gravações de áudio, a autora demonstra como, à sombra dos grandes esquemas partidários, o clã acumulou milhões de reais e construiu o projeto político autoritário e regressivo que conduziria o chefe da família ao posto mais alto da República.\\xa0 ', 'year': '2022', 'isbn': '9786559790807', 'edition': '', 'pages': '328', 'language': ''}\n",
            "{'title': 'TODAS AS LETRAS (NOVA EDIÇÃO AMPLIADA)', 'authors': ['Gilberto Gil'], 'publisher': 'Companhia das Letras', 'price': 'R$ 199,90', 'info': '\\n          A obra de Gilberto Gil contribuiu para a transformação do conceito estético da letra de música ao lhe dar status de poesia – cantada e popular. Ex-ministro da Cultura, membro da Academia Brasileira de Letras, Gil é um dos mais sensíveis e inventivos artistas em atividade, reconhecido e admirado no mundo inteiro.Com organização de Carlos Rennó, ilustrações inéditas de Alberto Pitta e textos de Arnaldo Antunes e José Miguel Wisnik, esta terceira edição de Todas as letras reúne o conjunto das canções compostas por Gil, uma cronologia e centenas de comentários do autor a respeito de suas composições.\"Gilberto Gil e sua obra brilham em ancestralidade e afrodescendência, sob o comando afetuoso de Tempo, divindade e rei transformado em canção. Gil é gênio e é um de nós!\" – Jurema Werneck\"Gil tem uma aura espiritual muito forte, de divindade. A sabedoria com a qual ele analisa a experiência humana é algo que sempre me enriqueceu.\" – Emicida ', 'year': '2022', 'isbn': '9786559211845', 'edition': '', 'pages': '552', 'language': ''}\n",
            "{'title': '1984', 'authors': ['George Orwell'], 'publisher': 'Companhia das Letras', 'price': 'R$ 29,90', 'info': '\\nPublicada originalmente em 1949, a distopia futurista 1984 é um dos romances mais influentes do século XX, um inquestionável clássico moderno. Lançada poucos meses antes da morte do autor, é uma obra magistral que ainda se impõe como uma poderosa reflexão ficcional sobre a essência nefasta de qualquer forma de poder totalitário. \\nWinston, herói de 1984, último romance de George Orwell, vive aprisionado na engrenagem totalitária de uma sociedade completamente dominada pelo Estado, onde tudo é feito coletivamente, mas cada qual vive sozinho. Ninguém escapa à vigilância do Grande Irmão, a mais famosa personificação literária de um poder cínico e cruel ao infinito, além de vazio de sentido histórico. De fato, a ideologia do Partido dominante em Oceânia não visa nada de coisa alguma para ninguém, no presente ou no futuro. O\\'Brien, hierarca do Partido, é quem explica a Winston que \"só nos interessa o poder em si. Nem riqueza, nem luxo, nem vida longa, nem felicidade: só o poder pelo poder, poder puro\".\\nQuando foi publicada em 1949, essa assustadora distopia datada de forma arbitrária num futuro perigosamente próximo logo experimentaria um imenso sucesso de público. Seus principais ingredientes - um homem sozinho desafiando uma tremenda ditadura; sexo furtivo e libertador; horrores letais - atraíram leitores de todas as idades, à esquerda e à direita do espectro político, com maior ou menor grau de instrução. À parte isso, a escrita translúcida de George Orwell, os personagens fortes, traçados a carvão por um vigoroso desenhista de personalidades, a trama seca e crua e o tom de sátira sombria garantiram a entrada precoce de 1984 no restrito panteão dos grandes clássicos modernos. \\nAlgumas das ideias centrais do livro dão muito o que pensar até hoje, como a contraditória Novafala imposta pelo Partido para renomear as coisas, as instituições e o próprio mundo, manipulando ao infinito a realidade. Afinal, quem não conhece hoje em dia \"ministérios da defesa\" dedicados a promover ataques bélicos a outros países, da mesma forma que, no livro de Orwell, o \"Ministério do Amor\" é o local onde Winston será submetido às mais bárbaras torturas nas mãos de seu suposto amigo O\\'Brien.\\nMuitos leram 1984 como uma crítica devastadora aos belicosos totalitarismos nazifascistas da Europa, de cujos terríveis crimes o mundo ainda tentava se recuperar quando o livro veio a lume. Nos Estados Unidos, foi visto como uma fantasia de horror quase cômico voltada contra o comunismo da hoje extinta União Soviética, então sob o comando de Stálin e seu Partido único e inquestionável. No entanto, superando todas as conjunturas históricas - e até mesmo a data futurista do título -, a obra magistral de George Orwell ainda se impõe como uma poderosa reflexão ficcional sobre os excessos delirantes, mas perfeitamente possíveis, de qualquer forma de poder incontestado, seja onde for.\\n\\n\"O maior escritor do século XX.\" - Observer\\n\\n \"Obra-prima terminal de Orwell, 1984 é uma leitura absorvente e indispensável para a compreensão da história moderna.\" - Timothy Garton Ash, New York Review of Books\\n\\n\" A obra mais sólida e mais impressionante de Orwell.\" - V. S. Pritchett        ', 'year': '2009', 'isbn': '9788535914849', 'edition': '', 'pages': '416', 'language': ''}\n",
            "{'title': 'O GENE', 'authors': ['Siddhartha Mukherjee'], 'publisher': 'Companhia das Letras', 'price': 'R$ 87,90', 'info': '\\n          Nesta aclamada obra, Siddhartha Mukherjee, vencedor do prêmio Pulitzer de não ficção de 2011, combina ciência, história social e relatos pessoais para nos contar a extraordinária narrativa de uma das mais importantes descobertas dos tempos modernos. Ao investigar a hereditariedade, Mukherjee irá mostrar como a genética influencia nossas vidas, personalidades, identidades, destinos e escolhas. Ao longo do livro, Mukherjee explora também a própria origem e família, com seu trágico histórico de doenças mentais, nos mostrando como a ciência pode saltar rapidamente dos laboratórios para a vida. Um livro extraordinário sobre uma das mais importantes - e urgentes - questões da humanidade.        ', 'year': '2016', 'isbn': '9788535928075', 'edition': '', 'pages': '680', 'language': ''}\n",
            "{'title': 'IMPRESSÕES DE LEITURA E OUTROS TEXTOS CRÍTICOS', 'authors': ['Lima Barreto'], 'publisher': 'Penguin-Companhia', 'price': 'R$ 44,90', 'info': '\\n          Consagrado por seus romances e contos além de renomado autor de crônicas sobre o Rio de Janeiro e seu subúrbio, Lima Barreto ainda é pouco lembrado pela atividade que empreendeu como crítico e agitador literário. Os textos reunidos neste volume, com organização e apresentação de Beatriz Resende, vêm suprir essa lacuna. \\nAgregando uma nova seleção à coletânea clássica organizada por Francisco de Assis Barbosa com a colaboração de Antônio Houaiss e Manuel Cavalcanti Proença, o livro apresenta os ensaios publicados em jornais ou revistas, assim como em cartas, especialmente as dirigidas a escritores iniciantes.\\nCom prefácio de Lilia Moriz Schwarcz, este livro apresenta tanto o crítico contumaz quanto o leitor atento, casado com a literatura e comprometido com princípios estéticos e éticos.        ', 'year': '2017', 'isbn': '9788582850541', 'edition': '', 'pages': '360', 'language': ''}\n",
            "{'title': 'TINTIM E OS PÍCAROS', 'authors': ['Hergé'], 'publisher': 'Quadrinhos na Cia', 'price': 'R$ 54,90', 'info': '\\n          Capitão Haddock, professor Girassol e Tintim recebem uma informação inacreditável: a célebre cantora Bianca Castafiore, em turnê pela América do Sul, foi presa em San Teodoro, acusada de participar de um complô contra o regime do general Tapioca! Maior é a surpresa de nossos amigos ao saber que eles também são acusados de participar da trama. O capitão e o professor Girassol decidem ir a San Teodoro esclarecer o assunto. Mas Tintim, pressentindo uma armadilha do tenebroso Tapioca, se recusa a viajar com eles. Será que Tintim vai mesmo deixar os dois enfrentarem sozinhos o general?        ', 'year': '2008', 'isbn': '9788535912692', 'edition': '', 'pages': '64', 'language': ''}\n",
            "{'title': 'DEUS ESSA GOSTOSA', 'authors': ['Rafa Campos Rocha'], 'publisher': 'Quadrinhos na Cia', 'price': 'R$ 54,90', 'info': '\\n          Todo mundo conhece Deus, aquele respeitável senhor de toga, dado a criar mundos e fundos, maestro do coro celestial de querubins. Barba longa, olhar severo, o dedo em riste. Ou não.\\nDeus aqui assume a forma que, segundo consta, é sua preferida: a de uma mulher negra, proprietária de um sex-shop, ligada nos movimentos mais exóticos (e esotéricos) do assim chamado amor carnal. \\nEm Deus, essa gostosa, primeira graphic novel do artista plástico e quadrinista Rafael Campos Rocha, o leitor acompanhará sete dias na vida dessa Criadora incomum, fã de futebol e cerveja, amiga de Karl Marx e do Diabo em pessoa.\\nTodavia, por trás da aparente vontade de blasfemar as Escrituras, encontra-se uma leitura sofisticada das relações entre religião e arte, Igreja e sexo, corpo e alma, culpa e pecado.\\nO humor fino que percorre este gênesis invertido ganha contornos épicos no traço enganosamente simples do autor. Para Deus, uma semana de acontecimentos discretos e corriqueiros pode desembocar na criação de um Universo (ou mais).\\nSurgida numa lista de e-mails e distribuída apenas entre amigos, Deus, essa gostosa migrou para as páginas da Ilustríssima, suplemento cultural da Folha de S. Paulo. Desde então, ganhou tantos fãs quanto causou incômodo, provando que nem Deus - onisciente, onipotente e \"frívola\" - pode ser unânime.        ', 'year': '2012', 'isbn': '9788535921168', 'edition': '', 'pages': '88', 'language': ''}\n"
          ]
        }
      ]
    },
    {
      "cell_type": "markdown",
      "source": [
        "### Estante"
      ],
      "metadata": {
        "id": "zJLbgJcPs6zh"
      }
    },
    {
      "cell_type": "markdown",
      "source": [
        "#### Testes"
      ],
      "metadata": {
        "id": "5_b16slRs-pR"
      }
    },
    {
      "cell_type": "code",
      "source": [
        "url = 'https://www.estantevirtual.com.br/leao-livros/adam-smith-a-riqueza-das-nacoes-v-1-2843205889?show_suggestion=0'\n",
        "opener = build_opener()\n",
        "opener.addheaders = [('User-agent', 'Mozilla/5.0')]\n",
        "soup = BeautifulSoup(opener.open(url), 'html.parser')"
      ],
      "metadata": {
        "id": "V5oHzi_Ps8Qa"
      },
      "execution_count": null,
      "outputs": []
    },
    {
      "cell_type": "code",
      "source": [
        "title = soup.find('h1', class_='livro-titulo').string.strip('\\n ')"
      ],
      "metadata": {
        "id": "y6-HkAAetD1r"
      },
      "execution_count": null,
      "outputs": []
    },
    {
      "cell_type": "code",
      "source": [
        "title"
      ],
      "metadata": {
        "colab": {
          "base_uri": "https://localhost:8080/",
          "height": 35
        },
        "id": "CwUGt2wwu2v8",
        "outputId": "67c6f503-88ba-48c2-9ce9-56c15785fef9"
      },
      "execution_count": null,
      "outputs": [
        {
          "output_type": "execute_result",
          "data": {
            "text/plain": [
              "'A Riqueza das Nacoes V. 1'"
            ],
            "application/vnd.google.colaboratory.intrinsic+json": {
              "type": "string"
            }
          },
          "metadata": {},
          "execution_count": 16
        }
      ]
    },
    {
      "cell_type": "code",
      "source": [
        "authors = [soup.find('h2', class_='livro-autor').a.span.string]"
      ],
      "metadata": {
        "id": "rGXzgd4uu8Sl"
      },
      "execution_count": null,
      "outputs": []
    },
    {
      "cell_type": "code",
      "source": [
        "authors"
      ],
      "metadata": {
        "colab": {
          "base_uri": "https://localhost:8080/"
        },
        "id": "lXoKSP7pvPqQ",
        "outputId": "5208ab33-1168-4b0b-c997-04b305ea5bb8"
      },
      "execution_count": null,
      "outputs": [
        {
          "output_type": "execute_result",
          "data": {
            "text/plain": [
              "['Adam Smith']"
            ]
          },
          "metadata": {},
          "execution_count": 18
        }
      ]
    },
    {
      "cell_type": "code",
      "source": [
        "price = soup.find('span', class_='livro-preco-valor').string.strip('\\n ')\n",
        "price"
      ],
      "metadata": {
        "colab": {
          "base_uri": "https://localhost:8080/",
          "height": 35
        },
        "id": "Mb0dAiUGx7Yj",
        "outputId": "d2811ea2-e7d1-45dd-ec63-5ae574c5afeb"
      },
      "execution_count": null,
      "outputs": [
        {
          "output_type": "execute_result",
          "data": {
            "text/plain": [
              "'R$ 19,90'"
            ],
            "application/vnd.google.colaboratory.intrinsic+json": {
              "type": "string"
            }
          },
          "metadata": {},
          "execution_count": 34
        }
      ]
    },
    {
      "cell_type": "code",
      "source": [
        "specs = soup.find_all('p', class_='livro-specs')"
      ],
      "metadata": {
        "id": "4uJrmsavvQ0x"
      },
      "execution_count": null,
      "outputs": []
    },
    {
      "cell_type": "code",
      "source": [
        "year, publisher, isbn, language, book_info = '', '', '', '', ''\n",
        "for spec in specs:\n",
        "  if 'Ano' in str(spec.span.string):\n",
        "    year = spec.span.next_sibling.strip('\\n ')\n",
        "  elif 'Editora' in str(spec.span.string):\n",
        "    publisher = spec.a.span.string\n",
        "  elif 'ISBN' in str(spec.span.string):\n",
        "    isbn = spec.span.next_sibling.strip('\\n ')\n",
        "  elif 'Idioma' in str(spec.span.string):\n",
        "    language = spec.span.next_sibling.strip('\\n ')\n",
        "  elif 'Descrição' in str(spec.span.string):\n",
        "    book_info = spec.find('span', class_='description-text').string.strip('\\n ')\n",
        "year, publisher, isbn, language, book_info"
      ],
      "metadata": {
        "colab": {
          "base_uri": "https://localhost:8080/"
        },
        "id": "89I_jKcovnQb",
        "outputId": "55b07fea-c5ca-49cf-f9ab-f91ca9e1d634"
      },
      "execution_count": null,
      "outputs": [
        {
          "output_type": "execute_result",
          "data": {
            "text/plain": [
              "('1988',\n",
              " 'Nova Cultural',\n",
              " '0000000000',\n",
              " 'Português',\n",
              " 'Capa mostrando rasuras  páginas amareladas pelo tempo sem riscos  ou rasuras muito bom no todo.')"
            ]
          },
          "metadata": {},
          "execution_count": 33
        }
      ]
    },
    {
      "cell_type": "markdown",
      "source": [
        "#### Resultados"
      ],
      "metadata": {
        "id": "BOfFNooaxllw"
      }
    },
    {
      "cell_type": "code",
      "source": [
        "def extract_estante_info(soup):\n",
        "  title = soup.find('h1', class_='livro-titulo').string.strip('\\n ')\n",
        "  authors = soup.find('h2', class_='livro-autor').a.span.string.split('; ')\n",
        "  price = soup.find('span', class_='livro-preco-valor').string.strip('\\n ')\n",
        "  specs = soup.find_all('p', class_='livro-specs')\n",
        "  year, publisher, isbn, language, book_info = '', '', '', '', ''\n",
        "  for spec in specs:\n",
        "    if 'Ano' in str(spec.span.string):\n",
        "      year = spec.span.next_sibling.strip('\\n ')\n",
        "    elif 'Editora' in str(spec.span.string):\n",
        "      publisher = spec.a.span.string\n",
        "    elif 'ISBN' in str(spec.span.string):\n",
        "      isbn = spec.span.next_sibling.strip('\\n ')\n",
        "    elif 'Idioma' in str(spec.span.string):\n",
        "      language = spec.span.next_sibling.strip('\\n ')\n",
        "    elif 'Descrição' in str(spec.span.string):\n",
        "      book_info = spec.find('span', class_='description-text').string.strip('\\n ')\n",
        "  return {\n",
        "      \"title\": title,\n",
        "      \"authors\": authors,\n",
        "      \"publisher\": publisher,\n",
        "      \"price\": price,\n",
        "      \"info\": book_info,\n",
        "      \"year\": year,\n",
        "      \"isbn\": isbn,\n",
        "      \"edition\": '',\n",
        "      \"pages\": '',\n",
        "      \"language\": language\n",
        "  }"
      ],
      "metadata": {
        "id": "-koRWLqAxlJf"
      },
      "execution_count": null,
      "outputs": []
    },
    {
      "cell_type": "code",
      "source": [
        "books = ['https://www.estantevirtual.com.br/livrariamosaico/jorge-amado-capitaes-da-areia-1%C2%AA-edicao-2466551162?show_suggestion=0',\n",
        "  'https://www.estantevirtual.com.br/julianlivros/adam-smith-a-riqueza-das-nacoes-compendio-3271924492?show_suggestion=0',\n",
        "  'https://www.estantevirtual.com.br/bibliomania/malala-yousafzai-eu-sou-malala-3260307694?show_suggestion=0',\n",
        "  'https://www.estantevirtual.com.br/livraria-de-sueos/graciliano-ramos-vidas-secas-3272088254?show_suggestion=0',\n",
        "  'https://www.estantevirtual.com.br/wtrlivros/graciliano-ramos-vidas-secas-edicao-comemorativa-80-anos-record-3275573386?show_suggestion=0',\n",
        "  'https://www.estantevirtual.com.br/seboamigodolivro/laurentino-gomes-1889-3275008345?show_suggestion=0',\n",
        "  'https://www.estantevirtual.com.br/wtrlivros/fernando-haddad-o-terceiro-excluido-contribuicao-para-uma-antropologia-dialetica-3276639950?show_suggestion=0',\n",
        "  'https://www.estantevirtual.com.br/pook-book/laurentino-gomes-escravidao-volume-3-da-independencia-do-brasil-a-lei-aurea-3276914198?show_suggestion=0',\n",
        "  'https://www.estantevirtual.com.br/discosafins/ivan-idoeta-francisco-capuano-elementos-de-eletronica-digital-3266565323?show_suggestion=0',\n",
        "  'https://www.estantevirtual.com.br/cataventolivraria1/bram-stoker-dracula-3273679851?show_suggestion=0'\n",
        "]"
      ],
      "metadata": {
        "id": "NOFWwXqWyxBD"
      },
      "execution_count": null,
      "outputs": []
    },
    {
      "cell_type": "code",
      "source": [
        "for book in books:\n",
        "  opener = build_opener()\n",
        "  opener.addheaders = [('User-agent', 'Mozilla/5.0')]\n",
        "  print(extract_estante_info(BeautifulSoup(opener.open(book), 'html.parser')))"
      ],
      "metadata": {
        "colab": {
          "base_uri": "https://localhost:8080/"
        },
        "id": "b3S1aRqIz8Wn",
        "outputId": "6c2b876d-ac1b-4e8e-aafa-5c1b365480cf"
      },
      "execution_count": null,
      "outputs": [
        {
          "output_type": "stream",
          "name": "stdout",
          "text": [
            "{'title': 'Capitães da Areia - 1ª Edição', 'authors': ['Jorge Amado'], 'publisher': 'Livraria José Olympio', 'price': 'R$ 500,00', 'info': 'acervoap. Bom estado de conservação, sem páginas sublinhadas ou danificadas. Dedicatória ao antigo proprietário. Acabamento: Capa Dura de encadernação particular. Formato: Médio. Exemplar higienizado. Podemos enviar mais informações ou imagens através do whatsapp. 51998472886 - 201626881', 'year': '1937', 'isbn': '', 'edition': '', 'pages': '', 'language': 'Português'}\n",
            "{'title': 'A Riqueza das Nações - Compêndio', 'authors': ['Adam Smith'], 'publisher': 'Não Encontrada', 'price': 'R$ 22,00', 'info': 'Código: 2294451 Nota: A presente obra encontra-se em bom estado de conservação, contém, apenas, algumas manchas amareladas causadas pelo tempo. \\r\\n Ano: 2014 Nº de páginas: 205 Formato: 14 x 21  Conservação da capa: Bom Estado Conservação do miolo: Bom Estado Acabamento: Brochura Idioma: Português Curiosidade: Editora: Hunter', 'year': 'n/d', 'isbn': '8934242682138...', 'edition': '', 'pages': '', 'language': 'Português'}\n",
            "{'title': 'EU SOU MALALA', 'authors': ['MALALA YOUSAFZAI'], 'publisher': 'COMPANHIA DAS LETRAS', 'price': 'R$ 12,00', 'info': '342 pág. 14 X 21 - Um pouco de enrugamento', 'year': '2013', 'isbn': '9788535923438', 'edition': '', 'pages': '', 'language': 'Português'}\n",
            "{'title': 'Vidas Secas', 'authors': ['Graciliano Ramos'], 'publisher': 'Martins', 'price': 'R$ 10,00', 'info': 'Livro em bom estado, capas e páginas amareladas, marca de carimbo, nome feito a caneta, ponta da lombar reforçada com fita adesiva, desgastes e marcas de dobras e manuseios.', 'year': '1971', 'isbn': '', 'edition': '', 'pages': '', 'language': 'Português'}\n",
            "{'title': 'VIDAS SECAS - EDICAO COMEMORATIVA 80 ANOS - RECORD', 'authors': ['Graciliano Ramos'], 'publisher': 'GERAL', 'price': 'R$ 64,06', 'info': 'VIDAS SECAS - EDICAO COMEMORATIVA 80 ANOS - RECORD - Sinopse em desenvolvimento', 'year': 'n/d', 'isbn': '9788501114778', 'edition': '', 'pages': '', 'language': 'Português'}\n",
            "{'title': '1889', 'authors': ['Laurentino Gomes'], 'publisher': 'Globo Livros', 'price': 'R$ 22,90', 'info': 'Livro em bom estado de conservação. Capa, miolo e páginas em bom estado. Contém nome e pequena mancha na página de rosto, muitas frases grifadas de canetas marca texto azul e amarela e várias anotações de caneta por todo o livro não afetando a compreensão do texto. Apresentando leves sinais de manuseio nas bordas. Brochura, 415 páginas.', 'year': '2013', 'isbn': '9788525054463', 'edition': '', 'pages': '', 'language': 'Português'}\n",
            "{'title': 'O TERCEIRO EXCLUíDO: CONTRIBUIçãO PARA UMA ANTROPOLOGIA DIALéTICA', 'authors': ['Fernando Haddad'], 'publisher': 'JORGE ZAHAR', 'price': 'R$ 61,66', 'info': 'O Ex-Prefeito De São Paulo E Ex-Ministro Da Educação Mobiliza Os Principais Debates Contemporâneos Da Biologia, Da Antropologia E Da Linguística E Apresenta Novas Bases Teóricas Para A Emancipação Humana.\\\\N\\\\N\\\\NEm Outubro De 2018, O Então Candidato À Presidência Da República Fernando Haddad Recebeu O Professor Do Mit Noam Chomsky Em Sua Casa. O Brasil Vivia Seu Momento Mais Dramático Desde A Redemocratização E A Ameaça De Uma Guinada Autoritária Não Era Percebida Por Grande Parte Dos Eleitores. Da Conversa Sobre Política E Linguística Surgiu A Provocação Que Originou O Terceiro Excluído. \\\\NA Teoria Universalista De Chomsky Afirma Que É Possível Nos Entendermos Independentemente Da Cultura Em Que Estejamos Inseridos. O Que Explica Então O Atual Surto De Incomunicabilidade, Em Que Não Parece Haver Denominador Comum Para O Debate Público? O Que Nos Impede De Construir Um Futuro Melhor Para Todos, Com Menos Carências Materiais E Espirituais?', 'year': '2022', 'isbn': '9786559790616', 'edition': '', 'pages': '', 'language': 'Português'}\n",
            "{'title': 'ESCRAVIDÃO - VOLUME 3 - DA INDEPENDÊNCIA DO BRASIL À LEI ÁUREA', 'authors': ['Laurentino Gomes'], 'publisher': 'GLOBO LIVROS', 'price': 'R$ 58,72', 'info': 'O tão esperado terceiro e último volume da trilogia Escravidão, de Laurentino Gomes Do autor dos best-sellers 1808, 1822 e 1889Na tarde em que o príncipe dom Pedro chegou às margens do Ipiranga, em 7 de setembro de 1822, o Brasil estava empanturrado de escravidão. Comprar e vender gente era o maior negócio do novo país independente. Homens e mulheres escravizados perfaziam mais de um terço do total de habitantes, estimado em 4,7 milhões de pessoas. Outro terço era composto por negros forros e mestiços de origem africana - uma população pobre, analfabeta e carente de tudo, dominada pela minoria branca. Os indígenas, já dizimados por guerras, doenças e invasão de seus territórios, sequer apareciam nas estatísticas.O último livro da trilogia Escravidão é dedicado ao século XIX; à Independência; ao Primeiro e ao Segundo Reinados; ao movimento abolicionista, que resultou na Lei Áurea de 13 de maio de 1888; e ao legado da escravidão, que ainda hoje emperra a caminhada dos brasileiros em direção ao futuro. A escravidão era, na definição de José Bonifácio de Andrada e Silva, o Patriarca da Independência, \"um cancro que contaminava e roía as entranhas da sociedade brasileira\". Disseminado por todo o território, o escravismo perpassava todas as atividades e todas as classes sociais. Maior território escravista da América em 1822, o Brasil assim se manteria até o final do século XIX, com sua rotina pautada pelo chicote e pela violência contra homens e mulheres escravizados. Nenhum outro assunto é tão importante e tão definidor da nossa identidade nacional quanto a escravidão. Conhecê-lo ajuda a explicar o que fomos no passado, o que somos hoje e também o que seremos daqui para a frente. Em um texto impactante e ricamente ilustrado com imagens e gráficos, Laurentino Gomes lança o terceiro volume de sua obra, resultado de 6 anos de pesquisas, que incluíram viagens por 12 países e 3 continentes.', 'year': '2022', 'isbn': '9786559870523', 'edition': '', 'pages': '', 'language': 'Português'}\n",
            "{'title': 'Elementos de Eletrônica Digital', 'authors': ['Ivan Idoeta', 'Francisco Capuano'], 'publisher': 'Érica', 'price': 'R$ 8,40', 'info': 'Livro íntegro e bem conservado. Livro usado, apresenta marcas de uso e do tempo, Não apresenta rasuras Capa Em Bom Estado , Sem grifos e Sem rasuras, Livro usado com marcas de uso', 'year': '1984', 'isbn': '', 'edition': '', 'pages': '', 'language': 'Português'}\n",
            "{'title': 'Drácula', 'authors': ['Bram Stoker'], 'publisher': 'Heinemann Elt', 'price': 'R$ 6,00', 'info': 'Brochura. Livro em bom estado de conservação. Capa , contracapa e lombada com sinais de uso, manuseio e desgastes. Sem anotações ou grifos.. Idioma:  Inglês. Cat09-0780', 'year': '1992', 'isbn': '9780435272203', 'edition': '', 'pages': '', 'language': 'Inglês'}\n"
          ]
        }
      ]
    },
    {
      "cell_type": "markdown",
      "source": [
        "### Saraiva"
      ],
      "metadata": {
        "id": "xdvjlOJ-1bFG"
      }
    },
    {
      "cell_type": "code",
      "source": [
        "url = 'https://www.saraiva.com.br/box-hp-lovecraft-os-melhores-contos-3-volumes-10112985/p'\n",
        "opener = build_opener()\n",
        "opener.addheaders = [('User-agent', 'Mozilla/5.0')]\n",
        "soup = BeautifulSoup(opener.open(url), 'html.parser')"
      ],
      "metadata": {
        "id": "tMdG4Y7e1cuW"
      },
      "execution_count": null,
      "outputs": []
    },
    {
      "cell_type": "code",
      "source": [
        "soup"
      ],
      "metadata": {
        "colab": {
          "base_uri": "https://localhost:8080/"
        },
        "id": "SpdlgBhx2LwM",
        "outputId": "9df2b189-e678-46c6-fab4-fa789964ac1b"
      },
      "execution_count": null,
      "outputs": [
        {
          "output_type": "execute_result",
          "data": {
            "text/plain": [
              "<!-- 02/03/2020 18:37 SARAIVA PRODUCT MENU VUE -->\n",
              "<!DOCTYPE html >\n",
              "\n",
              "<html lang=\"pt-BR\" xmlns=\"http://www.w3.org/1999/xhtml\" xmlns:vtex=\"http://www.vtex.com.br/2009/vtex-common\" xmlns:vtex.cmc=\"http://www.vtex.com.br/2009/vtex-commerce\">\n",
              "<head prefix=\"og: http://ogp.me/ns# fb: http://ogp.me/ns/fb# product: http://ogp.me/ns/product#\"><meta content=\"pt-BR\" name=\"language\"/>\n",
              "<meta content=\"BRA\" name=\"country\"/>\n",
              "<meta content=\"R$\" name=\"currency\"/>\n",
              "<meta charset=\"utf-8\"/><meta content=\"text/html;charset=utf-8\" http-equiv=\"Content-Type\"/>\n",
              "<meta content=\"Cada vez mais a Economia assume protagonismo no cotidiano da República Federativa do Brasil. O cidadão brasileiro finalmente desperta: o bem-estar soc\" name=\"description\"/>\n",
              "<meta content=\"Box - HP Lovecraft - Os Melhores Contos - 3 Volumes\" name=\"Abstract\"/>\n",
              "<meta content=\"Saraiva\" name=\"author\"/>\n",
              "<meta content=\"Saraiva\" name=\"copyright\"/>\n",
              "<meta content=\"1.5.56.2482\" name=\"vtex-version\"/>\n",
              "<meta content=\"no-cache\" http-equiv=\"pragma\"/>\n",
              "<title>Box - HP Lovecraft - Os Melhores Contos - 3 Volumes - Saraiva</title><script language=\"javascript\" type=\"text/javascript\">var jscheckoutUrl = 'https://www.saraiva.com.br/checkout/#/cart';var jscheckoutAddUrl = 'https://www.saraiva.com.br/checkout/cart/add';var jscheckoutGiftListId = '';var jsnomeSite = 'lojasaraiva';var jsnomeLoja = 'lojasaraiva';var jssalesChannel = '1';var defaultStoreCurrency = 'R$';var localeInfo = {\"CountryCode\":\"BRA\",\"CultureCode\":\"pt-BR\",\"CurrencyLocale\":{\"RegionDisplayName\":\"Brazil\",\"RegionName\":\"BR\",\"RegionNativeName\":\"Brasil\",\"TwoLetterIsoRegionName\":\"BR\",\"CurrencyEnglishName\":\"Real\",\"CurrencyNativeName\":\"Real\",\"CurrencySymbol\":\"R$\",\"ISOCurrencySymbol\":\"BRL\",\"Locale\":1046,\"Format\":{\"CurrencyDecimalDigits\":2,\"CurrencyDecimalSeparator\":\",\",\"CurrencyGroupSeparator\":\".\",\"CurrencyGroupSize\":3,\"StartsWithCurrencySymbol\":true},\"FlagUrl\":\"http://www.geonames.org/flags/x/br.gif\"}};</script>\n",
              "<script language=\"javascript\" type=\"text/javascript\">vtxctx = {\"skus\":\"10112985\",\"searchTerm\":\"\",\"categoryId\":\"200\",\"categoryName\":\"Terror\",\"departmentyId\":\"4\",\"departmentName\":\"Livros\",\"isOrder\":\"0\",\"isCheck\":\"0\",\"isCart\":\"0\",\"actionType\":\"\",\"actionValue\":\"\",\"login\":null,\"url\":\"www.saraiva.com.br\",\"transurl\":\"www.saraiva.com.br\"};</script>\n",
              "<script language=\"javascript\" src=\"https://io.vtex.com.br/front-libs/jquery/1.8.3/jquery-1.8.3.min.js?v=1.5.56.2482\" type=\"text/javascript\"></script>\n",
              "<script language=\"javascript\" src=\"https://lojasaraiva.vteximg.com.br/scripts/swfobject.js?v=1.5.56.2482\" type=\"text/javascript\"></script>\n",
              "<script language=\"javascript\" src=\"https://lojasaraiva.vteximg.com.br/scripts/vtex.ajax.wait.js?v=1.5.56.2482\" type=\"text/javascript\"></script>\n",
              "<script language=\"javascript\" src=\"https://lojasaraiva.vteximg.com.br/scripts/vtex.common.js?v=1.5.56.2482\" type=\"text/javascript\"></script>\n",
              "<script language=\"javascript\" src=\"https://vtex.vtexassets.com/_v/public/assets/v1/npm/@vtex/render-extension-loader@0.1.6/lib/render-extension-loader.js?v=1.5.56.2482\" type=\"text/javascript\"></script>\n",
              "<script language=\"javascript\" src=\"https://io.vtex.com.br/rc/rc.js?v=1.5.56.2482\" type=\"text/javascript\"></script>\n",
              "<script language=\"javascript\" src=\"https://lojasaraiva.vteximg.com.br/scripts/vtex.tagmanager.helper.js?v=1.5.56.2482\" type=\"text/javascript\"></script>\n",
              "<script language=\"javascript\" src=\"https://io.vtex.com.br/portal-ui/v1.15.1/scripts/vtex-events-all.min.js?v=1.5.56.2482\" type=\"text/javascript\"></script>\n",
              "<script language=\"javascript\" src=\"https://io.vtex.com.br/portal-ui/v1.15.1/scripts/vtex-analytics.js?v=1.5.56.2482\" type=\"text/javascript\"></script>\n",
              "<script language=\"javascript\" src=\"https://io.vtex.com.br/front-libs/front-i18n/0.7.2/vtex-i18n.min.js?v=1.5.56.2482\" type=\"text/javascript\"></script>\n",
              "<script language=\"javascript\" src=\"https://io.vtex.com.br/front-libs/front-utils/3.0.8/underscore-extensions.js?v=1.5.56.2482\" type=\"text/javascript\"></script>\n",
              "<script language=\"javascript\" src=\"https://lojasaraiva.vteximg.com.br/scripts/currency-format.min.js?v=1.5.56.2482\" type=\"text/javascript\"></script>\n",
              "<script language=\"javascript\" src=\"https://io.vtex.com.br/front-libs/dustjs-linkedin/2.3.5/dust-core-2.3.5.min.js?v=1.5.56.2482\" type=\"text/javascript\"></script>\n",
              "<script language=\"javascript\" src=\"https://io.vtex.com.br/portal-plugins/2.9.13/js/catalog-sdk.min.js?v=1.5.56.2482\" type=\"text/javascript\"></script>\n",
              "<script language=\"javascript\" src=\"https://io.vtex.com.br/vtex.js/v2.13.0/vtex.min.js?v=1.5.56.2482\" type=\"text/javascript\"></script>\n",
              "<script language=\"javascript\" src=\"https://io.vtex.com.br/portal-plugins/2.9.13/js/portal-buy-button.min.js?v=1.5.56.2482\" type=\"text/javascript\"></script>\n",
              "<script language=\"javascript\" src=\"https://io.vtex.com.br/portal-plugins/2.9.13/js/portal-notify-me-with-template.min.js?v=1.5.56.2482\" type=\"text/javascript\"></script>\n",
              "<link href=\"https://cdnjs.cloudflare.com/ajax/libs/slick-carousel/1.9.0/slick.min.css\" rel=\"stylesheet\"/><link href=\"/arquivos/bootstrap.min-v3.css?v=28082020-v0\" rel=\"stylesheet\"/><link href=\"/arquivos/icons.min-v3.css?v=28082020-v0\" rel=\"stylesheet\"/><link href=\"/arquivos/app.min-v3.css?v=28082020-v0\" rel=\"stylesheet\"/><link href=\"/arquivos/select2.min-v3.css?v=28082020-v0\" rel=\"stylesheet\"/><link href=\"/arquivos/components-vue.min-v3.css?v=29082020-v0\" rel=\"stylesheet\"/><link href=\"https://cdnjs.cloudflare.com/ajax/libs/simple-line-icons/2.4.1/css/simple-line-icons.min.css\" rel=\"stylesheet\"/><link href=\"/arquivos/select2.min-v3.css?v=28082020-v0\" rel=\"stylesheet\"/><link href=\"/arquivos/jquery.toast.min-v3.css?v=28082020-v0\" rel=\"stylesheet\" type=\"text/css\"/><link href=\"/arquivos/product-details.min-v3.css?v=28082020-v0\" rel=\"stylesheet\" type=\"text/css\"/><script src=\"/arquivos/maintence.js?v=1\" type=\"text/javascript\"></script><meta charset=\"utf-8\"/><meta content=\"index, follow\" name=\"robots\"/><meta content=\"IE=Edge\" http-equiv=\"X-UA-Compatible\"/><meta content=\"width=device-width, initial-scale=1.0, maximum-scale=1.0, user-scalable=no\" name=\"viewport\"/><link href=\"/arquivos/v3-favicon.ico?v=637238654129930000\" rel=\"shortcut icon\"/><meta content=\"Saraiva\" name=\"apple-mobile-web-app-title\"/><meta content=\"yes\" name=\"apple-mobile-web-app-capable\"/><meta content=\"#ffdd00\" name=\"apple-mobile-web-app-status-bar-style\"/><meta content=\"#ffdd00\" name=\"theme-color\"/>\n",
              "<script src=\"https://lojasaraiva.vteximg.com.br/arquivos/gtm-container.js?v=636995116522500000\"></script>\n",
              "<script src=\"https://www.saraiva.com.br/files/vwo-smartcode.js\" type=\"text/javascript\"></script>\n",
              "<style>\n",
              "    #ajaxBusy {\n",
              "        display: none !important\n",
              "    }\n",
              "\n",
              "    linx-impulse-autocomplete {\n",
              "        margin-top: 0 !important;\n",
              "    }\n",
              "\n",
              "    @media (max-width: 991px) {\n",
              "        #topnav {\n",
              "            z-index: 2;\n",
              "        }\n",
              "    }\n",
              "    \n",
              "    .wrap-menu-vue {\n",
              "        margin-top: 65px !important;\n",
              "    }\n",
              "    \n",
              "    .pop-up-paypal-050520 {\n",
              "        display: none;\n",
              "    }\n",
              "    \n",
              "    .menu-level-one.menu-livros-em-ingles #menu-livros-ingles,\n",
              "\t .menu-level-one.menu-papelaria #menu-papelaria,\n",
              "\t .sub-item-slug__livros .menu-bold:nth-child(4){\n",
              "\t    display: none;\n",
              "\t }\n",
              "\t \n",
              "\t  @media (max-width:768px) {\n",
              "\t\t  .nav-mobile .nav-mobile-body ul li .menu-level li a#submenu-livros-outlet-livros-01 {\n",
              "            display: none;\n",
              "          }\n",
              "\t }\n",
              "</style><!-- Jquery Toast css --><div itemscope=\"itemscope\" itemtype=\"http://schema.org/Product\">\n",
              "<meta content=\"Box - HP Lovecraft - Os Melhores Contos - 3 Volumes\" itemprop=\"name\"/><meta content=\"Cada vez mais a Economia assume protagonismo no cotidiano da República Federativa do Brasil. O cidadão brasileiro finalmente desperta: o bem-estar social depende, antes de tudo, do bem-estar econômico. Assim, a academia jurídica não poderia ficar fora do debate entre o Direito e a Economia. Esta obra, fruto da evolução das Lições de Direito Econômico, que foi um livro de conteúdo pioneiro e à frente de seu tempo, foi devidamente atualizada de acordo com as condições e o processo de virtualização do mercado editorial. Mantendo as características de prosa única e interdisciplinar de seu autor, que a transformou em uma das principais obras na área, Direito Econômico se apresenta como um livro mais adequado às necessidades do leitor, seja o graduando, o pós-graduando ou o concursando. Trata-se de um livro que aborda os principais temas dos programas dos cursos acadêmicos e dos mais concorridos concursos públicos nacionais, regionais e locais. Aderindo à realidade da virtualização dos livros, com atenção às necessidades financeiras do mercado editorial e mantendo todo o conteúdo atualizado ao leitor, a obra aborda os pontos obrigatórios e essenciais ao estudo da disciplina. O primeiro capítulo é dedicado ao Direito Econômico Constitucional, estudando a Ordem Econômica pátria. No capítulo segundo, aborda-se o estudo do Direito Econômico Administrativo, analisando as principais normas infraconstitucionais: Direito Concorrencial, Agências Reguladoras e Sistema Financeiro Nacional. O capítulo terceiro estuda o Direito Econômico Internacional: Integração Econômica, OMC, Mercosul, União Europeia, Comércio Exterior e Defesa Comercial. No quarto capítulo, estuda-se o Direito Penal Econômico. Ademais, a versão virtual de Direito Econômico traz ao leitor os pontos complementares do estudo da matéria, a saber, Organismos Internacionais (BIRD, BID, FMI, ALCA, NAFTA, CAFTA-DR e UNASUL), Direito Econômico ao Desenvolvimento Tecnológico e Científico, Filosofia do Direito (Justiça Econômica), além de um banco de exercícios e questões de concurso público, interativo e com gabarito comentado pelo autor.?\" itemprop=\"description\"/><meta content=\"https://www.saraiva.com.br/box-hp-lovecraft-os-melhores-contos-3-volumes-10112985/p\" itemprop=\"url\"/><meta content=\"1623817\" itemprop=\"productID\"/><div itemprop=\"brand\" itemscope=\"itemscope\" itemtype=\"http://schema.org/brand\"><meta content=\"Pandorga\" itemprop=\"name\"/></div><meta content=\"https://lojasaraiva.vteximg.com.br/arquivos/ids/31751594-287-426/1011184432.jpg?v=637477819445330000\" itemprop=\"image\"/><meta content=\"9788584422821\" itemprop=\"gtin13\"/><meta content=\"10112985\" itemprop=\"sku\"/><div itemprop=\"height\" itemscope=\"itemscope\" itemtype=\"http://schema.org/QuantitativeValue\"><meta content=\"21,0000\" itemprop=\"value\"/><meta content=\"CMT\" itemprop=\"unitCode\"/></div><div itemprop=\"width\" itemscope=\"itemscope\" itemtype=\"http://schema.org/QuantitativeValue\"><meta content=\"14,0000\" itemprop=\"value\"/><meta content=\"CMT\" itemprop=\"unitCode\"/></div><div itemprop=\"depth\" itemscope=\"itemscope\" itemtype=\"http://schema.org/QuantitativeValue\"><meta content=\"3,0000\" itemprop=\"value\"/><meta content=\"CMT\" itemprop=\"unitCode\"/></div><div itemprop=\"weight\" itemscope=\"itemscope\" itemtype=\"http://schema.org/QuantitativeValue\"><meta content=\"500,0000\" itemprop=\"value\"/><meta content=\"GRM\" itemprop=\"unitCode\"/></div><div itemprop=\"offers\" itemscope=\"itemscope\" itemtype=\"http://schema.org/Offer\"><link href=\"http://schema.org/InStock\" itemprop=\"availability\"/><meta content=\"BRL\" itemprop=\"priceCurrency\"/><meta content=\"34.90\" itemprop=\"price\"/></div><div itemprop=\"additionalProperty\" itemscope=\"\" itemtype=\"http://schema.org/PropertyValue\"><meta content=\"sellers\" itemprop=\"name\"/><meta content=\"Saraiva\" itemprop=\"value\"/></div> </div>\n",
              "<meta content=\"og:product\" property=\"og:type\"/>\n",
              "<meta content=\"Box - HP Lovecraft - Os Melhores Contos - 3 Volumes\" property=\"og:title\"/><meta content=\"https://lojasaraiva.vteximg.com.br/arquivos/ids/31751594-287-426/1011184432.jpg?v=637477819445330000\" property=\"og:image\"/><meta content=\"Cada vez mais a Economia assume protagonismo no cotidiano da República Federativa do Brasil. O cidadão brasileiro finalmente desperta: o bem-estar social depende, antes de tudo, do bem-estar econômico. Assim, a academia jurídica não poderia ficar fora do debate entre o Direito e a Economia. Esta obra, fruto da evolução das Lições de Direito Econômico, que foi um livro de conteúdo pioneiro e à frente de seu tempo, foi devidamente atualizada de acordo com as condições e o processo de virtualização do mercado editorial. Mantendo as características de prosa única e interdisciplinar de seu autor, que a transformou em uma das principais obras na área, Direito Econômico se apresenta como um livro mais adequado às necessidades do leitor, seja o graduando, o pós-graduando ou o concursando. Trata-se de um livro que aborda os principais temas dos programas dos cursos acadêmicos e dos mais concorridos concursos públicos nacionais, regionais e locais. Aderindo à realidade da virtualização dos livros, com atenção às necessidades financeiras do mercado editorial e mantendo todo o conteúdo atualizado ao leitor, a obra aborda os pontos obrigatórios e essenciais ao estudo da disciplina. O primeiro capítulo é dedicado ao Direito Econômico Constitucional, estudando a Ordem Econômica pátria. No capítulo segundo, aborda-se o estudo do Direito Econômico Administrativo, analisando as principais normas infraconstitucionais: Direito Concorrencial, Agências Reguladoras e Sistema Financeiro Nacional. O capítulo terceiro estuda o Direito Econômico Internacional: Integração Econômica, OMC, Mercosul, União Europeia, Comércio Exterior e Defesa Comercial. No quarto capítulo, estuda-se o Direito Penal Econômico. Ademais, a versão virtual de Direito Econômico traz ao leitor os pontos complementares do estudo da matéria, a saber, Organismos Internacionais (BIRD, BID, FMI, ALCA, NAFTA, CAFTA-DR e UNASUL), Direito Econômico ao Desenvolvimento Tecnológico e Científico, Filosofia do Direito (Justiça Econômica), além de um banco de exercícios e questões de concurso público, interativo e com gabarito comentado pelo autor.?\" property=\"og:description\"/><meta content=\"https://www.saraiva.com.br/box-hp-lovecraft-os-melhores-contos-3-volumes-10112985/p\" property=\"og:url\"/><meta content=\"Box - HP Lovecraft - Os Melhores Contos - 3 Volumes\" property=\"product:plural_title\"/><meta content=\"34.90\" property=\"product:price:amount\"/><meta content=\"BRL\" property=\"product:price:currency\"/><style type=\"text/css\">\n",
              "        .pop-up-paypal-050520 {\n",
              "            display: none !important;\n",
              "        }\n",
              "    </style><script language=\"javascript\">var ___scriptPathTransac = '';</script><script language=\"javascript\">var ___scriptPath = '';</script>\n",
              "<!-- Start - WebAnalyticsViewPart -->\n",
              "<script> var defaultUtmFromFolder = '';</script>\n",
              "<!-- CommerceContext.Current.VirtualFolder.Name: @Produto@ -->\n",
              "<script>\n",
              "vtex.events.addData({\"pageCategory\":\"Product\",\"pageDepartment\":\"Livros\",\"pageUrl\":\"http://www.saraiva.com.br/box-hp-lovecraft-os-melhores-contos-3-volumes-10112985/p\",\"pageTitle\":\"Box - HP Lovecraft - Os Melhores Contos - 3 Volumes - Saraiva\",\"skuStockOutFromShelf\":[],\"skuStockOutFromProductDetail\":[],\"shelfProductIds\":[],\"accountName\":\"lojasaraiva\",\"pageFacets\":[],\"productId\":\"1623817\",\"productReferenceId\":\"10112985\",\"productEans\":[\"9788584422821\"],\"skuStocks\":{\"10112985\":21},\"productName\":\"Box - HP Lovecraft - Os Melhores Contos - 3 Volumes\",\"productBrandId\":34256,\"productBrandName\":\"Pandorga\",\"productDepartmentId\":4,\"productDepartmentName\":\"Livros\",\"productCategoryId\":200,\"productCategoryName\":\"Terror\",\"productListPriceFrom\":\"79.9\",\"productListPriceTo\":\"79.9\",\"productPriceFrom\":\"34.9\",\"productPriceTo\":\"34.9\",\"sellerId\":\"1\",\"sellerIds\":\"1\"});\n",
              "</script>\n",
              "<script>\n",
              "(function(w,d,s,l,i){w[l]=w[l]||[];w[l].push({'gtm.start':\n",
              "                            new Date().getTime(),event:'gtm.js'});var f=d.getElementsByTagName(s)[0],\n",
              "                            j=d.createElement(s),dl=l!='dataLayer'?'&l='+l:'';j.async=true;j.src=\n",
              "                            '//www.googletagmanager.com/gtm.js?id='+i+dl;f.parentNode.insertBefore(j,f);\n",
              "                            })(window,document,'script','dataLayer','GTM-5WH9DW7');\n",
              "</script>\n",
              "<script>\n",
              "var helper = new vtexTagManagerHelper('productView'); helper.init();\n",
              "</script>\n",
              "<!-- End - WebAnalyticsViewPart -->\n",
              "<link href=\"https://www.saraiva.com.br/box-hp-lovecraft-os-melhores-contos-3-volumes-10112985/p\" rel=\"canonical\"/><script>var skuJson_0 = {\"productId\":1623817,\"name\":\"Box - HP Lovecraft - Os Melhores Contos - 3 Volumes\",\"salesChannel\":\"1\",\"available\":true,\"displayMode\":\"especificacao\",\"dimensions\":[],\"dimensionsInputType\":{},\"dimensionsMap\":{},\"skus\":[{\"sku\":10112985,\"skuname\":\"Box - HP Lovecraft - Os Melhores Contos - 3 Volumes\",\"dimensions\":{},\"available\":true,\"availablequantity\":99999,\"cacheVersionUsedToCallCheckout\":\"2CD761159141CFA9B094B40CFB6E9645_\",\"listPriceFormated\":\"R$ 79,90\",\"fullSellingPrice\":\"R$ 34,90\",\"listPrice\":7990,\"taxFormated\":\"R$ 0,00\",\"taxAsInt\":0,\"bestPriceFormated\":\"R$ 34,90\",\"bestPrice\":3490,\"spotPrice\":3490,\"installments\":1,\"installmentsValue\":3490,\"installmentsInsterestRate\":0,\"image\":\"https://lojasaraiva.vteximg.com.br/arquivos/ids/31751594-287-426/1011184432.jpg?v=637477819445330000\",\"sellerId\":\"1\",\"seller\":\"Saraiva\",\"measures\":{\"cubicweight\":0.1715,\"height\":21.0000,\"length\":2.8000,\"weight\":300.0000,\"width\":14.0000},\"unitMultiplier\":1.0000,\"rewardValue\":0}]};CATALOG_SDK.setProductWithVariationsCache(skuJson_0.productId, skuJson_0); var skuJson = skuJson_0;</script></head>\n",
              "<body class=\"menubar-light boxed-layout\"><div class=\"ajax-content-loader\" rel=\"/no-cache/callcenter/disclaimer\"></div><main id=\"pdp-app\"><!-- Navigation Bar--><!-- Topbar Start --><header class=\"chaordic\" id=\"topnav\"><!--<div class=\"header__bar desktop d-sm-none d-md-block\" style=\"display: none; text-align: center; background-color: #404040; margin: 0 -12px;\">--><!--    <vtex:custombannerheader />--><!--</div>--><!--<div class=\"header__bar mobile d-none d-sm-block d-md-none\" style=\"display: none; background-color: #404040; margin: 0 -12px;\">--><!--     <vtex:custombannerheadermobile />--><!--</div>--><!-- Topbar Start --><div class=\"navbar-custom\"><div class=\"container-fluid\"><div class=\"top-bar-container d-flex align-items-center flex-wrap flex-lg-nowrap\"><!-- MENU HAMBURGUER --><div class=\"menu-hamburger list-unstyled topnav-menu mb-0 order-md-0\"><div class=\"dropdown notification-list\"><!-- Mobile menu toggle--><a class=\"navbar-toggle nav-link\"><div class=\"lines cd-nav-trigger js-nav-toggler\"><span></span><span></span><span></span></div></a><!-- End mobile menu toggle--></div></div><!-- LOGO --><div class=\"logo-box flex-grow-1 flex-md-grow-0\"><a class=\"logo text-center\" href=\"/\"><span class=\"logo-lg\"><img alt=\"\" height=\"28\" src=\"/arquivos/v3-logo-dark.png?v=637238654159500000\"/><!-- <span class=\"logo-lg-text-light\">UBold</span> --></span><span class=\"logo-sm\"><!-- <span class=\"logo-sm-text-dark\">U</span> --><img alt=\"\" height=\"18\" src=\"/arquivos/v3-logo-dark.png?v=637238654159500000\"/></span></a></div><!-- PROFILE --><div class=\"dropdown notification-list order-md-2 col-2 d-none d-lg-block\"><profile-component><a class=\"nav-link nav-user mr-0 waves-effect\" href=\"/account\" id=\"link-account\"><svg height=\"26\" width=\"26\" xmlns=\"http://www.w3.org/2000/svg\"><g fill=\"none\" stroke=\"#24282b\" stroke-linecap=\"round\" stroke-linejoin=\"round\" stroke-width=\"1.6\" transform=\"translate(-16.9 -19.4)\"><path d=\"M22.056 41.445a7.753 7.753 0 0 1 4.388-5.717m6.512 0a7.84 7.84 0 0 1 2.232 1.568 7.7 7.7 0 0 1 2.156 4.138\" data-name=\"Path 168\"></path><circle cx=\"12\" cy=\"12\" data-name=\"Ellipse 22\" r=\"12\" transform=\"translate(17.7 20.2)\"></circle><ellipse cx=\"4.944\" cy=\"5.652\" data-name=\"Ellipse 23\" rx=\"4.944\" ry=\"5.652\" transform=\"translate(24.756 25.841)\"></ellipse></g></svg><span class=\"pro-user-name ml-1\"><span>Entre ou<br/>cadastre-se</span></span></a></profile-component></div><!--WISHLIST --><div class=\"dropdown notification-list order-md-3\"><a class=\"nav-link right-bar-toggle waves-effect\" href=\"/_secure/wishlist/lista/?listindex=0\" id=\"link-wishlist\"><svg height=\"23\" width=\"27\" xmlns=\"http://www.w3.org/2000/svg\"><path d=\"M13.278 22.65a1.23 1.23 0 0 1-.827-.468l-2.314-2.322q-3.154-3.161-6.285-6.34A10.266 10.266 0 0 1 .934 8.272a5.859 5.859 0 0 1 1.8-5.579A6.254 6.254 0 0 1 6.542.86a5.477 5.477 0 0 1 .575-.03c1.96 0 3.889 1.067 5.579 3.085.2.246.393.506.588.778.185-.251.36-.49.55-.719C15.765 1.64 17.778.574 19.942.84a6.437 6.437 0 0 1 5.35 3.893 6.134 6.134 0 0 1-.148 5.143 12.826 12.826 0 0 1-2.944 4.191l-8.081 8.108a1.257 1.257 0 0 1-.841.475z\" data-name=\"Path 108\" fill=\"none\" stroke=\"#24282b\" stroke-linecap=\"round\" stroke-linejoin=\"round\" stroke-width=\"1.6\"></path></svg></a></div><!--CART --><div class=\"dropdown notification-list order-md-4\"><cart-component class=\"cart\" ref=\"cart\"><a class=\"nav-link waves-effect cart__trigger js-cart-toggler\" href=\"/checkout/#/cart\" id=\"link-cart\"><svg class=\"icon-cart\" height=\"25\" width=\"25\" xmlns=\"http://www.w3.org/2000/svg\"><path d=\"M0 0h24v24H0z\" fill=\"none\"></path><path d=\"M16.08 22.073a1.82 1.82 0 1 1 3.5-.683 1.8 1.8 0 0 1-1.8 1.8h-.02a1.822 1.822 0 0 1-1.68-1.117zm.586-1.164a1.2 1.2 0 1 0 1.113-.718h-.02a1.187 1.187 0 0 0-1.093.718zm-8.011 1.164a1.82 1.82 0 1 1 3.5-.683 1.8 1.8 0 0 1-1.8 1.8h-.02a1.832 1.832 0 0 1-1.68-1.117zm.59-1.164a1.2 1.2 0 1 0 1.113-.718h-.02a1.187 1.187 0 0 0-1.093.718zm-2-2.929l-3.6-16.844H.817a.318.318 0 0 1 0-.636h3.092a.316.316 0 0 1 .317.256l.678 3.165h18.308a.3.3 0 0 1 .307.369L21.082 15a.321.321 0 0 1-.318.244H7.327l.5 2.343h12.759a.318.318 0 0 1 0 .636v.008H7.555a.313.313 0 0 1-.312-.251zm.171-3.371h13.083l2.328-10.063H5.083z\" data-name=\"Union 6\" fill=\"#24282b\" stroke=\"#24282b\" stroke-linecap=\"round\" stroke-linejoin=\"round\" stroke-width=\".8\"></path></svg><span class=\"badge badge-dark rounded-circle noti-icon-badge cart__quantity\">0</span></a></cart-component></div><!-- SEARCH --><div class=\"chaordic order-md-1 flex-grow-1 col-md-6 col-lg-7 p-0\"><div class=\"search-container\"><searchtop-component class=\"search header__search\"><form action=\"https://busca.saraiva.com.br/busca\" class=\"app-search app-search-full\" method=\"get\"><div class=\"app-search-box\"><div class=\"input-group\"><input class=\"form-control\" name=\"q\" placeholder=\"O que você procura?\" type=\"text\"/><div class=\"input-group-append\"><button class=\"btn\" type=\"submit\"><i class=\"fe-search\"></i></button></div></div></div></form></searchtop-component></div></div></div></div></div><!-- end Topbar --></header><div class=\"wrap-menu-vue\"><top-menu></top-menu></div><!-- end Topbar --><!-- End Navigation Bar--><!-- ============================================================== --><!-- Start Page Content here --><!-- ============================================================== --><div class=\"wrapper\"><div class=\"container-fluid\"><!-- start page title --><div class=\"row\"><div class=\"col-12\"><div class=\"page-title-box\"><div class=\"page-title-left\"><div class=\"bread-crumb\" itemscope=\"\" itemtype=\"http://schema.org/BreadcrumbList\">\n",
              "<ul>\n",
              "<li itemprop=\"itemListElement\" itemscope=\"\" itemtype=\"http://schema.org/ListItem\"><a href=\"https://www.saraiva.com.br/\" itemprop=\"item\"><span itemprop=\"name\">Saraiva</span></a><meta content=\"1\" itemprop=\"position\"/></li>\n",
              "<li itemprop=\"itemListElement\" itemscope=\"\" itemtype=\"http://schema.org/ListItem\"><a href=\"https://www.saraiva.com.br/livros\" itemprop=\"item\"><span itemprop=\"name\">Livros</span></a><meta content=\"2\" itemprop=\"position\"/></li><li itemprop=\"itemListElement\" itemscope=\"\" itemtype=\"http://schema.org/ListItem\"><a href=\"https://www.saraiva.com.br/livros/literatura-estrangeira\" itemprop=\"item\"><span itemprop=\"name\">Literatura Estrangeira</span></a><meta content=\"3\" itemprop=\"position\"/></li><li class=\"last\" itemprop=\"itemListElement\" itemscope=\"\" itemtype=\"http://schema.org/ListItem\"><a href=\"https://www.saraiva.com.br/livros/literatura-estrangeira/terror\" itemprop=\"item\"><span itemprop=\"name\">Terror</span></a><meta content=\"4\" itemprop=\"position\"/></li></ul>\n",
              "</div>\n",
              "</div></div></div></div></div><!-- end page title --><div class=\"card-box pl-0 pr-0\"><div class=\"container-fluid\"><div class=\"row\"><div class=\"col-xl-5 gallery-product-details\"><div class=\"product-selo\"></div><!--Vurdere --><div id=\"ctx-socialexpressions-buttons\"></div><!--fim Vurdere --><a class=\"btn-clear product__favorite bl-product-trigger bl-product-trigger__only\" href=\"javascript:void(0)\" id=\"product-favorite-trigger\" rel=\"\"><i class=\"sa-institucional coracao\"></i></a><div class=\"indic_list\"><div class=\"itm class_ind\"><span class=\"label\"></span><span class=\"ratio\"></span></div></div><div class=\"tab-content pt-0\"></div><ul class=\"nav nav-pills mt-3 mb-4\"></ul></div><!-- end col --><div class=\"col-xl-7\"><div class=\"page-title-box\"><div class=\"page-title-right mt-0\"><span class=\"badge text-secondary shadow-none\">(Cód: <span id=\"sku\"></span>)</span></div><h1 class=\"title\"></h1><h3 class=\"sub-title\"><span class=\"author\"></span><span class=\"pipe\"> | </span><span class=\"brand\"></span></h3></div><div class=\"row\"><div class=\"col-10 pr-0 vurdere-pdp\"><!--Vurdere--><div class=\"mb-0\" id=\"ctx-socialanchors\"></div></div><div class=\"pre\"></div></div><!-- start price tabs --><div class=\"product-sob-encomenda\">PRODUTO SOB ENCOMENDA</div><ul class=\"nav nav-tabs nav-bordered nav-justified product-nav-seller mt-2\"></ul><div class=\"tab-content product-body-sellers pt-0\"><div class=\"tab-pane\" id=\"produto-fisico\"><div class=\"card-box\"><div class=\"row\"><div class=\"col-sm-4\"><p class=\"small-ofertas\">Escolha uma oferta</p><div aria-orientation=\"vertical\" class=\"nav flex-column nav-pills nav-pills-tab\" id=\"v-pills-tab\" role=\"tablist\"><!--Logista Abas--></div><div class=\"nav-link mb-2 nav-modal-link\"><a data-target=\"#marktplace-modal\" data-toggle=\"modal\" href=\"#\">Ver\n",
              "                                                        mais ofertas</a></div></div><!-- end col--><div class=\"col-sm-8\"><div class=\"tab-content p-2 pl-0 pb-3\"><div class=\"row\"><div class=\"col-12\"></div></div><!--Conteúdo lojista--></div></div><!-- end col--></div><!-- end row--></div><!-- end card-box--></div><div class=\"tab-pane\" id=\"produto-digital\"><div class=\"card-box\"><div class=\"row\"><div class=\"col-sm-4\"><p class=\"small-ofertas\">Escolha uma oferta</p><div aria-orientation=\"vertical\" class=\"nav flex-column nav-pills nav-pills-tab\" id=\"v-pills-tab\" role=\"tablist\"><!--Logista Abas--></div></div><!-- end col--><div class=\"col-sm-8\"><div class=\"tab-content p-2 pl-0 pb-3\"><div class=\"row\"><div class=\"col-12\"></div></div><!--Conteúdo lojista--></div></div><!-- end col--></div><!-- end row--></div></div></div><div id=\"magnific-view-shipping\"><div class=\"row cep-seller cep-seller-pdp\"><div class=\"col-xl-3\"><p class=\"text-blue mb-0\" style=\"line-height: 35px;\"><strong>Calcular a Entrega</strong></p><span class=\"badge text-secondary shadow-none d-none\">(Retire na Loja com Frete\n",
              "                                            Grátis)</span></div><div class=\"col-xl-9\"><form action=\"?\" class=\"form-inline\" id=\"busca-frete\" method=\"post\"><div class=\"form-group col-xl-9\"><label class=\"sr-only\" for=\"inputPassword2\">Digite seu CEP</label><input class=\"form-control\" data-mask-format=\"00000-000\" data-toggle=\"input-mask\" id=\"input-frete-pdp\" maxlength=\"9\" placeholder=\"Digite seu CEP\" type=\"text\"/></div><div class=\"form-group col-xl-3 pl-0 pr-0\"><button class=\"btn btn-block btn--md btn-blue waves-effect waves-light\" id=\"btn-frete-pdp\" type=\"submit\">CALCULAR</button></div><small class=\"error error-cep\"></small></form></div><div class=\"frete-seller mt-3\"><div class=\"col-xl-12\"><ul class=\"nav nav-tabs nav-bordered nav-justified tabs-options__list\"><li class=\"nav-item tab-receba-em-casa\"><a aria-expanded=\"true\" class=\"nav-link active\" data-toggle=\"tab\" href=\"#receba-em-casa\">\n",
              "                                                        Receba em casa\n",
              "                                                    </a></li><li class=\"nav-item tab-retirar-na-loja retirar-na-loja d-none\"><a aria-expanded=\"false\" class=\"nav-link\" data-toggle=\"tab\" href=\"#retirar-na-loja\">\n",
              "                                                        Retirar na loja\n",
              "                                                    </a></li></ul><div class=\"tab-content wrap-options__list\"><div class=\"tab-pane active\" id=\"receba-em-casa\"><div class=\"table-responsive\"><table class=\"table mb-0\"><tbody id=\"include-receba-em-casa\"></tbody></table></div></div><div class=\"tab-pane\" id=\"retirar-na-loja\"><div class=\"table-responsive\"><table class=\"table mb-0\"><tbody id=\"include-retirar-na-loja\"></tbody></table></div></div></div></div></div></div></div><div style=\"display:none\"><a class=\"buy-button buy-button-ref\" href=\"https://www.saraiva.com.br/checkout/cart/add?sku=10112985&amp;qty=1&amp;seller=1&amp;sc=1&amp;price=3490&amp;cv=2CD761159141CFA9B094B40CFB6E9645_&amp;sc=1\" style=\"display:block\" target=\"_top\">Comprar</a><script>$('.buy-button-ref').buyButton(1623817, {salesChannel: 1}, {})</script><p class=\"unavailable-button\" style=\"display:none\">Produto Esgotado</p><input class=\"buy-button-amount\" type=\"hidden\" value=\"1\"/><div class=\"portal-notify-me-ref\"></div><script>var notifyMeOptions = {'strings': {\"title\":\"Avise-Me\",\"explanation\":\"\\r\\n    Para ser avisado da disponibilidade deste Produto, basta preencher os campos abaixo.\\r\\n  \",\"loading\":\"Carregando...\",\"namePlaceholder\":\"Digite seu nome...\",\"emailPlaceholder\":\"Digite seu e-mail...\",\"success\":\"Cadastrado com sucesso, assim que o produto for disponibilizado você receberá um email avisando.\",\"error\":\"Não foi possível cadastrar. Tente mais tarde.\",\"emailErrorMessage\":\"O endereço de e-mail informado é inválido.\"}};\n",
              "$('.portal-notify-me-ref').notifyMe(1623817, notifyMeOptions);</script></div></div><!-- end col --></div><!-- end row --></div></div><!-- end card--></div><!-- end col--><div class=\"container-fluid\"><conteudo-especial></conteudo-especial><div class=\"row section-outlet\"><div class=\"col-xl-12\"><div class=\"card hide-text-pdp product-usado\"><div class=\"card-body\"><p class=\"card-title pdp-title-card section__title mb-0\">Saiba mais sobre produtos usados\n",
              "                            </p><div class=\"collapse pt-3 section__body\" id=\"product-usado\"><p>Os produtos classificados como \"REEMBALADOS\" foram devolvidos por um cliente ou\n",
              "                                    tiveram\n",
              "                                    sua embalagem original danificada. São reembalados e oferecidos com desconto\n",
              "                                    após\n",
              "                                    passarem por uma inspeção técnica, em condições viáveis e funcionais para o uso.\n",
              "                                </p><div class=\"row m-t-30\"><div class=\"col-xl-6\"><div class=\"row\"><div class=\"col-xl-2\"><svg data-name=\"Layer 1\" id=\"icon-boxes\" viewbox=\"0 0 256 256\" xmlns=\"http://www.w3.org/2000/svg\"><path d=\"M199.86 219.15h25.23a4.81 4.81 0 0 0 4.81-4.81v-37.85a4.81 4.81 0 0 0-4.81-4.81h-7.81V105a4.81 4.81 0 0 0-4.81-4.81h-37.24V33.52a4.81 4.81 0 0 0-4.81-4.81h-84.1a4.81 4.81 0 0 0-4.81 4.81v66.68H44.27a4.81 4.81 0 0 0-4.81 4.8v66.68h-7.81a4.81 4.81 0 0 0-4.81 4.81v37.85a4.81 4.81 0 0 0 4.81 4.81h25.23a4.81 4.81 0 0 0 4.81-4.81v-7.81h49.26v7.81a4.81 4.81 0 0 0 4.81 4.81H141a4.81 4.81 0 0 0 4.81-4.81v-7.81h49.26v7.81a4.81 4.81 0 0 0 4.79 4.81zm7.81-109.33v61.87h-74.49v-61.88zM91.13 38.32h74.49v61.88H91.13zm-42.05 71.49h74.49v61.87H49.08zM141 196.92a4.81 4.81 0 0 0-4.81 4.81v7.81h-15.63v-7.81a4.81 4.81 0 0 0-4.81-4.81H56.88a4.81 4.81 0 0 0-4.81 4.81v7.81H36.46V181.3h183.82v28.23h-15.61v-7.81a4.81 4.81 0 0 0-4.81-4.81z\"></path></svg></div><div class=\"col-xl-10\"><p class=\"outlet-title\">DISPONIBILIDADE DE ESTOQUE</p><p>Para produtos de Outlet o estoque é limitado e por esse motivo as\n",
              "                                                    oportunidades de compra são únicas. Se após a compra forem\n",
              "                                                    apontados\n",
              "                                                    vícios de fabricação do produto, o consumidor poderá solicitar a\n",
              "                                                    devolução dos valores cobrados de acordo com a política de\n",
              "                                                    devoluções da\n",
              "                                                    Saraiva.</p></div></div></div><div class=\"col-xl-6\"><div class=\"row\"><div class=\"col-xl-2\"><svg data-name=\"Layer 1\" id=\"icon-image\" viewbox=\"0 0 256 256\" xmlns=\"http://www.w3.org/2000/svg\"><path d=\"M222.1 41.4H30.29A9.3 9.3 0 0 0 21 50.69v154.95a9.3 9.3 0 0 0 9.29 9.29H222.1a9.3 9.3 0 0 0 9.29-9.29V50.69a9.3 9.3 0 0 0-9.29-9.29zm0 164.24H30.29V50.69H222.1z\"></path><path d=\"M47.72 175.41h156.95a4.64 4.64 0 0 0 4.64-4.64V68.12a4.64 4.64 0 0 0-4.64-4.64H47.72a4.64 4.64 0 0 0-4.64 4.64v102.65a4.64 4.64 0 0 0 4.64 4.64zm4.64-16.72l49.79-49.78 57.22 57.22h-107zm120.14 7.44l-19.59-19.59L167.47 132 199 163.46a4.64 4.64 0 0 0 1.07.8v1.87H172.5zM200 72.77v78.62l-29.27-29.27a4.65 4.65 0 0 0-6.57 0L146.34 140l-40.91-40.94a4.65 4.65 0 0 0-6.57 0l-46.5 46.5V72.77z\"></path><path d=\"M146.06 116.7a17.56 17.56 0 1 0-17.56-17.56 17.58 17.58 0 0 0 17.56 17.56zm0-25.83a8.27 8.27 0 1 1-8.27 8.27 8.28 8.28 0 0 1 8.27-8.27zM47.72 195.17h40.4a4.64 4.64 0 0 0 0-9.29h-40.4a4.64 4.64 0 0 0 0 9.29zM119.9 185.88h-10.6a4.64 4.64 0 1 0 0 9.29h10.6a4.64 4.64 0 1 0 0-9.29z\"></path></svg></div><div class=\"col-xl-10\"><p class=\"outlet-title\">IMAGENS NO SITE</p><p>As imagens são meramente ilustrativas de um produto novo e não\n",
              "                                                    correspondem com exatidão ao estado dos produtos reembalados e\n",
              "                                                    suas\n",
              "                                                    embalagens. Os produtos reembalados são exibidos no site com o\n",
              "                                                    selo\n",
              "                                                    REEMBALADO para que se destaquem dos demais produtos.</p></div></div></div></div><div class=\"row m-t-15\"><div class=\"col-xl-6\"><div class=\"row\"><div class=\"col-xl-2\"><svg data-name=\"Layer 1\" id=\"icon-garantee\" viewbox=\"0 0 256 256\" xmlns=\"http://www.w3.org/2000/svg\"><g clip-path=\"url(#bsa)\"><path d=\"M127.94 66.74a61 61 0 1 0 61 61 61 61 0 0 0-61-61zm0 111.62a50.63 50.63 0 1 1 50.63-50.63 50.69 50.69 0 0 1-50.63 50.63zm0 0\"></path><path d=\"M222.15 131a6.85 6.85 0 0 1 0-8l3.59-5.11a17.25 17.25 0 0 0-5.92-25.15l-5.49-3a6.87 6.87 0 0 1-3.55-7.19l1.06-6.17a17.23 17.23 0 0 0-16.23-20.08l-6.26-.25a6.83 6.83 0 0 1-6.3-4.94l-1.82-6a17.27 17.27 0 0 0-23.37-11l-5.75 2.45a7 7 0 0 1-7.82-1.73l-4.18-4.65a17.21 17.21 0 0 0-25.82.17l-4.06 4.73a7 7 0 0 1-7.86 1.92l-5.79-2.37A17.62 17.62 0 0 0 90 33.31 17.24 17.24 0 0 0 73.42 46l-1.65 6a6.87 6.87 0 0 1-6.26 5l-6.21.38a17.19 17.19 0 0 0-15.93 20.35l1.14 6.13a6.87 6.87 0 0 1-3.42 7.27l-5.45 3a17.24 17.24 0 0 0-5.54 25.27l3.68 5a6.85 6.85 0 0 1 0 8l-3.59 5.11a17.25 17.25 0 0 0 5.92 25.15l5.49 3a6.86 6.86 0 0 1 3.55 7.18L44.13 179a17.23 17.23 0 0 0 16.23 20.08l6.25.25a6.83 6.83 0 0 1 6.3 4.94l1.73 6a17.27 17.27 0 0 0 23.37 11l5.75-2.45a7 7 0 0 1 7.82 1.73l4.18 4.65a17.21 17.21 0 0 0 25.82-.17l4.1-4.73a7 7 0 0 1 7.82-1.86l5.79 2.37a17.62 17.62 0 0 0 6.55 1.31 17.23 17.23 0 0 0 16.61-12.68l1.65-6a6.87 6.87 0 0 1 6.26-5l6.26-.38a17.19 17.19 0 0 0 15.93-20.29l-1.14-6.13a6.87 6.87 0 0 1 3.42-7.27l5.45-3a17.24 17.24 0 0 0 5.54-25.23zm-3.51 16.69a6.81 6.81 0 0 1-3.38 4.52l-5.45 3a17.2 17.2 0 0 0-8.58 18.17l1.14 6.13a6.74 6.74 0 0 1-1.35 5.49 6.83 6.83 0 0 1-5 2.62l-6.21.38a17.19 17.19 0 0 0-15.64 12.64l-1.65 6a6.87 6.87 0 0 1-6.63 5.07 7.1 7.1 0 0 1-2.62-.51l-5.79-2.37a17.57 17.57 0 0 0-6.55-1.31 17.3 17.3 0 0 0-13 5.92l-4.1 4.69a6.88 6.88 0 0 1-10.31.08l-4.18-4.65a17.3 17.3 0 0 0-12.85-5.75 17 17 0 0 0-6.8 1.4l-5.75 2.45a6.74 6.74 0 0 1-2.7.55 6.88 6.88 0 0 1-6.59-4.94l-1.73-6A17.27 17.27 0 0 0 67 188.92l-6.26-.25a6.86 6.86 0 0 1-6.47-8l1.06-6.17a17.19 17.19 0 0 0-8.88-18l-5.49-3a6.76 6.76 0 0 1-3.42-4.5 6.62 6.62 0 0 1 1.1-5.54l3.59-5.11a17.2 17.2 0 0 0-.17-20.12l-3.68-5a6.65 6.65 0 0 1-1.14-5.54 6.82 6.82 0 0 1 3.38-4.52l5.45-3A17.2 17.2 0 0 0 54.66 82l-1.1-6.09a6.74 6.74 0 0 1 1.35-5.5 6.82 6.82 0 0 1 5-2.62l6.21-.38a17.23 17.23 0 0 0 15.67-12.67l1.65-6a6.87 6.87 0 0 1 6.64-5.07 7.06 7.06 0 0 1 2.62.51l5.79 2.37A17.57 17.57 0 0 0 105 47.8a17.3 17.3 0 0 0 13-5.92l4.1-4.69a6.88 6.88 0 0 1 10.31-.08l4.18 4.65a17.29 17.29 0 0 0 12.85 5.75 17.06 17.06 0 0 0 6.8-1.4l5.75-2.45a6.75 6.75 0 0 1 2.7-.55 6.88 6.88 0 0 1 6.59 4.94l1.73 6a17.27 17.27 0 0 0 15.81 12.43l6.26.25a6.82 6.82 0 0 1 5.07 2.54 6.73 6.73 0 0 1 1.44 5.45l-1.06 6.17a17.2 17.2 0 0 0 8.88 18l5.5 3a6.88 6.88 0 0 1 2.41 10l-3.54 5.11a17.2 17.2 0 0 0 .17 20.12l3.68 5a7.44 7.44 0 0 1 1 5.54zm0 0\"></path></g><path d=\"M142.95 110.95l-22.66 22.53-7.35-7.4a5.19 5.19 0 0 0-7.36 7.31l11 11.07a5.15 5.15 0 0 0 7.31 0l26.33-26.16a5.19 5.19 0 0 0-7.31-7.36zm0 0\"></path></svg></div><div class=\"col-xl-10\"><p class=\"outlet-title\">GARANTIA</p><p>Todos os produtos REEMBALADOS foram inspecionados, estão em\n",
              "                                                    perfeitas\n",
              "                                                    condições de uso e têm garantia para vícios de fabricação com o\n",
              "                                                    fornecedor. Caso constate algum defeito de fabricação, encaminhe\n",
              "                                                    o\n",
              "                                                    produto ao fornecedor para análise.</p></div></div></div><div class=\"col-xl-6\"><div class=\"row\"><div class=\"col-xl-2\"><svg data-name=\"Layer 1\" id=\"icon-box\" viewbox=\"0 0 256 256\" xmlns=\"http://www.w3.org/2000/svg\"><path d=\"M239.06 79.13a4.29 4.29 0 0 0-2.51-3.9l-103.3-46.85a4.28 4.28 0 0 0-3.54 0L26.41 75.23a4.29 4.29 0 0 0-2.51 3.9v89.81a4.29 4.29 0 0 0 2.52 3.91l103.3 46.62a4.28 4.28 0 0 0 3.52 0l103.28-46.61a4.29 4.29 0 0 0 2.52-3.91V79.13zm-191.8 3.6h79.94v34.67l-5.1-2.21zm88.51 34.66V82.73h38.58a4.29 4.29 0 0 0 0-8.57h-38.58V38.93L224.21 79l-83.34 36.14zm-8.57-43.23H49.52l77.68-35.23zm-94.73 11.5l6.38 2.77 88.35 38.31v82.19l-94.73-42.75zm198 80.52l-94.73 42.75v-82.19l88.35-38.31 6.38-2.77z\"></path><path d=\"M192.35 74.16h-3a4.29 4.29 0 0 0 0 8.57h3a4.29 4.29 0 1 0 0-8.57zM204.47 121.49a4.29 4.29 0 0 0-4.06-.35l-32.7 14.18a4.29 4.29 0 0 0-2.58 3.93v29a4.29 4.29 0 0 0 6 3.91l32.7-14.76a4.29 4.29 0 0 0 2.52-3.91v-28.42a4.29 4.29 0 0 0-1.88-3.58zm-6.64 29.25l-24.13 10.89v-19.57l24.13-10.46z\"></path></svg></div><div class=\"col-xl-10\"><p class=\"outlet-title\">EMBALAGEM E CONTEÚDO</p><p>Os produtos são entregues na embalagem original retrabalhada, com\n",
              "                                                    possíveis alterações, ou em embalagens neutras lacradas. Recuse\n",
              "                                                    o\n",
              "                                                    recebimento de qualquer encomenda que tenha indícios de violação\n",
              "                                                    na\n",
              "                                                    embalagem. Contém todos os acessórios e manual, conforme\n",
              "                                                    inclusos\n",
              "                                                    originalmente pelo fornecedor.</p></div></div></div></div><div class=\"row m-t-15\"><div class=\"col-xl-6\"><div class=\"row\"><div class=\"col-xl-2\"><svg data-name=\"Layer 1\" id=\"icon-change\" viewbox=\"0 0 256 256\" xmlns=\"http://www.w3.org/2000/svg\"><path d=\"M27.18 110.6a4.94 4.94 0 0 0 3.95-.1l39-17.74a5 5 0 0 0 2.35-6.7 4.93 4.93 0 0 0-6.45-2.4l-27.3 12.45c13-39 49.38-65.13 91.22-65.13 43.83 0 82.17 29.29 93.22 71.23a5 5 0 0 0 9.65-2.55C220.61 53.37 178.33 21 129.94 21 83.81 21 43.67 49.77 29.18 92.86l-11.5-28.74a5 5 0 1 0-9.5 3.1 3.06 3.06 0 0 0 .25.6l15.94 40a5 5 0 0 0 2.81 2.78zM247.65 184.08l-15.94-40a5 5 0 0 0-2.8-2.8 5.15 5.15 0 0 0-3.95.1l-39 17.74a5 5 0 0 0 3.85 9.25l.3-.15 27.34-12.45c-13.15 39-49.53 65.13-91.32 65.13-43.83 0-82.17-29.29-93.22-71.23a5 5 0 1 0-9.65 2.55c12.15 46.33 54.48 78.67 102.86 78.67 46.13 0 86.22-28.79 100.77-71.88l11.5 28.74a5 5 0 1 0 9.4-3.4.71.71 0 0 1-.1-.3z\"></path></svg></div><div class=\"col-xl-10\"><p class=\"outlet-title\">DEVOLUÇÃO</p><p>O prazo para desistir da compra é de até 7 (sete) dias corridos,\n",
              "                                                    a\n",
              "                                                    contar\n",
              "                                                    da data de entrega. O produto deve ser encaminhado com todos os\n",
              "                                                    seus\n",
              "                                                    componentes e na mesma embalagem em que foi recebido. Devido ao\n",
              "                                                    estoque\n",
              "                                                    limitado das mercadorias, não é possível trocar os produtos,\n",
              "                                                    apenas\n",
              "                                                    devolvê-los e solicitar a restituição do valor pago. O valor\n",
              "                                                    pago\n",
              "                                                    será\n",
              "                                                    restituído pelo mesmo meio de pagamento utilizado na compra.\n",
              "                                                    Para\n",
              "                                                    mais\n",
              "                                                    informações, verifique nossa Política de Trocas e Devoluções.\n",
              "                                                </p></div></div></div><div class=\"col-xl-6\"><div class=\"row\"><div class=\"col-xl-2\"><svg data-name=\"Layer 1\" id=\"icon-settings\" viewbox=\"0 0 256 256\" xmlns=\"http://www.w3.org/2000/svg\"><path d=\"M138.28 239h-20.11a11.86 11.86 0 0 1-11.67-10c-.63-4.22-1.24-8.57-1.81-12.91a1.28 1.28 0 0 0-.91-1.08A91.33 91.33 0 0 1 83 206.34a1.28 1.28 0 0 0-1.42.12c-3.47 2.67-7 5.31-10.41 7.85a11.86 11.86 0 0 1-15.34-1.16l-14.25-14.22a11.86 11.86 0 0 1-1.16-15.34c2.54-3.44 5.19-6.94 7.85-10.41a1.28 1.28 0 0 0 .12-1.42 91.32 91.32 0 0 1-8.63-20.82 1.28 1.28 0 0 0-1.08-.91c-4.33-.57-8.67-1.17-12.91-1.81a11.86 11.86 0 0 1-10-11.67v-20.1a11.86 11.86 0 0 1 10-11.67c4.23-.63 8.58-1.24 12.91-1.81a1.28 1.28 0 0 0 1.08-.91 91.32 91.32 0 0 1 8.64-20.81 1.28 1.28 0 0 0-.12-1.42c-2.66-3.46-5.3-7-7.85-10.41a11.86 11.86 0 0 1 1.16-15.34L55.8 39.87a11.86 11.86 0 0 1 15.34-1.16c3.43 2.54 6.94 5.18 10.41 7.85a1.29 1.29 0 0 0 1.42.12 91.31 91.31 0 0 1 20.82-8.63 1.28 1.28 0 0 0 .91-1.08c.57-4.34 1.17-8.68 1.81-12.91a11.86 11.86 0 0 1 11.67-10h20.11a11.86 11.86 0 0 1 11.67 10c.63 4.22 1.24 8.57 1.81 12.91a1.27 1.27 0 0 0 .91 1.08 91.32 91.32 0 0 1 20.82 8.63 1.28 1.28 0 0 0 1.42-.12c3.47-2.67 7-5.31 10.41-7.85a11.86 11.86 0 0 1 15.34 1.16l14.22 14.22A11.86 11.86 0 0 1 216 69.43c-2.55 3.44-5.19 6.94-7.85 10.41a1.28 1.28 0 0 0-.12 1.42 91.32 91.32 0 0 1 8.63 20.82 1.28 1.28 0 0 0 1.08.91c4.33.57 8.68 1.17 12.91 1.81a11.86 11.86 0 0 1 10 11.67v20.11a11.86 11.86 0 0 1-10 11.67c-4.23.63-8.57 1.24-12.91 1.81a1.28 1.28 0 0 0-1.08.91 91.33 91.33 0 0 1-8.66 20.79 1.28 1.28 0 0 0 .12 1.42c2.67 3.46 5.31 7 7.85 10.41a11.86 11.86 0 0 1-1.16 15.34l-14.22 14.22a11.86 11.86 0 0 1-15.34 1.16c-3.43-2.54-6.94-5.18-10.41-7.85a1.29 1.29 0 0 0-1.42-.12 91.32 91.32 0 0 1-20.76 8.66 1.28 1.28 0 0 0-.91 1.08c-.57 4.34-1.17 8.68-1.81 12.91A11.86 11.86 0 0 1 138.28 239zm-55.92-43.33a11.73 11.73 0 0 1 5.8 1.53 80.79 80.79 0 0 0 18.42 7.63 11.76 11.76 0 0 1 8.53 9.85c.56 4.28 1.16 8.55 1.78 12.71a1.29 1.29 0 0 0 1.28 1.08h20.11a1.29 1.29 0 0 0 1.28-1.08c.62-4.16 1.22-8.44 1.78-12.71a11.76 11.76 0 0 1 8.53-9.85 80.82 80.82 0 0 0 18.42-7.63 11.76 11.76 0 0 1 13 .93c3.42 2.63 6.87 5.23 10.25 7.73a1.29 1.29 0 0 0 1.67-.14l14.22-14.22a1.29 1.29 0 0 0 .14-1.67c-2.51-3.39-5.11-6.84-7.73-10.25a11.76 11.76 0 0 1-.93-13 80.81 80.81 0 0 0 7.63-18.42 11.76 11.76 0 0 1 9.85-8.53c4.27-.56 8.55-1.15 12.71-1.78a1.29 1.29 0 0 0 1.08-1.28v-20.12a1.29 1.29 0 0 0-1.08-1.28c-4.17-.62-8.44-1.22-12.71-1.78a11.76 11.76 0 0 1-9.85-8.53 80.79 80.79 0 0 0-7.63-18.42 11.77 11.77 0 0 1 .93-13c2.63-3.41 5.23-6.86 7.73-10.25a1.29 1.29 0 0 0-.14-1.67L193.22 47.3a1.29 1.29 0 0 0-1.67-.14c-3.38 2.5-6.83 5.1-10.25 7.73a11.76 11.76 0 0 1-13 .93 80.83 80.83 0 0 0-18.42-7.63 11.76 11.76 0 0 1-8.53-9.85c-.56-4.28-1.16-8.55-1.78-12.71a1.29 1.29 0 0 0-1.28-1.08h-20.12a1.29 1.29 0 0 0-1.28 1.08c-.62 4.16-1.22 8.44-1.78 12.71a11.76 11.76 0 0 1-8.53 9.85 80.81 80.81 0 0 0-18.42 7.63 11.77 11.77 0 0 1-13-.93 689.23 689.23 0 0 0-10.25-7.73 1.29 1.29 0 0 0-1.67.14L49 61.52a1.29 1.29 0 0 0-.14 1.67C51.38 66.58 54 70 56.6 73.43a11.76 11.76 0 0 1 .93 13 80.8 80.8 0 0 0-7.63 18.42 11.76 11.76 0 0 1-9.9 8.55c-4.27.56-8.54 1.15-12.71 1.78a1.29 1.29 0 0 0-1.08 1.28v20.11a1.29 1.29 0 0 0 1.08 1.28c4.17.62 8.45 1.22 12.71 1.78a11.76 11.76 0 0 1 9.85 8.53 80.81 80.81 0 0 0 7.63 18.42 11.76 11.76 0 0 1-.93 13c-2.63 3.42-5.23 6.86-7.73 10.25a1.29 1.29 0 0 0 .18 1.67l14.22 14.22a1.29 1.29 0 0 0 1.67.14c3.38-2.5 6.83-5.1 10.25-7.73a11.81 11.81 0 0 1 7.22-2.46z\"></path><path d=\"M128.22 175.34A48.83 48.83 0 1 1 177 126.51a48.88 48.88 0 0 1-48.78 48.83zm0-87.15a38.32 38.32 0 1 0 38.32 38.32 38.37 38.37 0 0 0-38.32-38.32z\"></path></svg></div><div class=\"col-xl-10\"><p class=\"outlet-title\">APARÊNCIA E FUNCIONAMENTO</p><p>São produtos em perfeito estado estético e com aparência de\n",
              "                                                    novos.\n",
              "                                                    Todos\n",
              "                                                    os produtos reembalados foram inspecionados e estão em perfeito\n",
              "                                                    funcionamento</p></div></div></div></div></div></div><footer class=\"card-footer section__footer text-center\"><a aria-controls=\"product-usado\" aria-expanded=\"false\" class=\"open-text link\" data-open=\"product-usado\" data-toggle=\"collapse\" href=\"#product-usado\" role=\"button\">\n",
              "                                VER DESCRIÇÃO COMPLETA</a></footer><!-- /.section__footer --></div></div></div><div class=\"row section-outlet-livro\"><div class=\"col-xl-12\"><div class=\"card hide-text-pdp product-livro-usado\"><div class=\"card-body\"><p class=\"card-title pdp-title-card section__title mb-0\">Saiba mais sobre produtos usados\n",
              "                            </p><div class=\"collapse pt-3 section__body\" id=\"section-outlet-livro\"><p>Os livros USADOS vendidos na nossa categoria Outlet são livros com avarias mas que\n",
              "                                    mantém\n",
              "                                    sua integridade de conteúdo original permitindo uma leitura muito próxima dos livros\n",
              "                                    novos. Esses produtos podem apresentar páginas ou capas amassadas, manchas, com\n",
              "                                    riscos\n",
              "                                    ou sinais de uso além de poder estar fora de sua embalagem original.</p><div class=\"row m-t-30\"><div class=\"col-xl-6\"><div class=\"row\"><div class=\"col-xl-2\"><svg data-name=\"Layer 1\" id=\"icon-boxes\" viewbox=\"0 0 256 256\" xmlns=\"http://www.w3.org/2000/svg\"><path d=\"M199.86 219.15h25.23a4.81 4.81 0 0 0 4.81-4.81v-37.85a4.81 4.81 0 0 0-4.81-4.81h-7.81V105a4.81 4.81 0 0 0-4.81-4.81h-37.24V33.52a4.81 4.81 0 0 0-4.81-4.81h-84.1a4.81 4.81 0 0 0-4.81 4.81v66.68H44.27a4.81 4.81 0 0 0-4.81 4.8v66.68h-7.81a4.81 4.81 0 0 0-4.81 4.81v37.85a4.81 4.81 0 0 0 4.81 4.81h25.23a4.81 4.81 0 0 0 4.81-4.81v-7.81h49.26v7.81a4.81 4.81 0 0 0 4.81 4.81H141a4.81 4.81 0 0 0 4.81-4.81v-7.81h49.26v7.81a4.81 4.81 0 0 0 4.79 4.81zm7.81-109.33v61.87h-74.49v-61.88zM91.13 38.32h74.49v61.88H91.13zm-42.05 71.49h74.49v61.87H49.08zM141 196.92a4.81 4.81 0 0 0-4.81 4.81v7.81h-15.63v-7.81a4.81 4.81 0 0 0-4.81-4.81H56.88a4.81 4.81 0 0 0-4.81 4.81v7.81H36.46V181.3h183.82v28.23h-15.61v-7.81a4.81 4.81 0 0 0-4.81-4.81z\"></path></svg></div><div class=\"col-xl-10\"><p class=\"outlet-title\">DISPONIBILIDADE DE ESTOQUE</p><p>Para produtos de Outlet o estoque é limitado e por esse motivo as\n",
              "                                                    oportunidades de compra são únicas. Se após a compra forem apontados\n",
              "                                                    defeitos de funcionamento do produto, o consumidor poderá solicitar\n",
              "                                                    a\n",
              "                                                    devolução dos valores cobrados de acordo com a política de\n",
              "                                                    devoluções da\n",
              "                                                    Saraiva.</p></div></div></div><div class=\"col-xl-6\"><div class=\"row\"><div class=\"col-xl-2\"><svg data-name=\"Layer 1\" id=\"icon-image\" viewbox=\"0 0 256 256\" xmlns=\"http://www.w3.org/2000/svg\"><path d=\"M222.1 41.4H30.29A9.3 9.3 0 0 0 21 50.69v154.95a9.3 9.3 0 0 0 9.29 9.29H222.1a9.3 9.3 0 0 0 9.29-9.29V50.69a9.3 9.3 0 0 0-9.29-9.29zm0 164.24H30.29V50.69H222.1z\"></path><path d=\"M47.72 175.41h156.95a4.64 4.64 0 0 0 4.64-4.64V68.12a4.64 4.64 0 0 0-4.64-4.64H47.72a4.64 4.64 0 0 0-4.64 4.64v102.65a4.64 4.64 0 0 0 4.64 4.64zm4.64-16.72l49.79-49.78 57.22 57.22h-107zm120.14 7.44l-19.59-19.59L167.47 132 199 163.46a4.64 4.64 0 0 0 1.07.8v1.87H172.5zM200 72.77v78.62l-29.27-29.27a4.65 4.65 0 0 0-6.57 0L146.34 140l-40.91-40.94a4.65 4.65 0 0 0-6.57 0l-46.5 46.5V72.77z\"></path><path d=\"M146.06 116.7a17.56 17.56 0 1 0-17.56-17.56 17.58 17.58 0 0 0 17.56 17.56zm0-25.83a8.27 8.27 0 1 1-8.27 8.27 8.28 8.28 0 0 1 8.27-8.27zM47.72 195.17h40.4a4.64 4.64 0 0 0 0-9.29h-40.4a4.64 4.64 0 0 0 0 9.29zM119.9 185.88h-10.6a4.64 4.64 0 1 0 0 9.29h10.6a4.64 4.64 0 1 0 0-9.29z\"></path></svg></div><div class=\"col-xl-10\"><p class=\"outlet-title\">IMAGENS NO SITE</p><p>As imagens são meramente ilustrativas de um livro novo com exemplos\n",
              "                                                    de\n",
              "                                                    unidades que apresentam sinais de uso, os quais podem ou não estar\n",
              "                                                    presentes na unidade posta à venda. Os livros usados são exibidos no\n",
              "                                                    site com o selo USADO para que se destaquem dos demais produtos.</p></div></div></div></div><div class=\"row m-t-15\"><div class=\"col-xl-6\"><div class=\"row\"><div class=\"col-xl-2\"><svg height=\"48\" viewbox=\"0 0 48 48\" width=\"48\" xmlns=\"http://www.w3.org/2000/svg\" xmlns:xlink=\"http://www.w3.org/1999/xlink\"><defs><clippath id=\"a\"><rect fill=\"#fff\" height=\"48\" stroke=\"#707070\" stroke-width=\"1\" transform=\"translate(5053 4022)\" width=\"48\"></rect></clippath><pattern height=\"100%\" id=\"b\" preserveaspectratio=\"none\" viewbox=\"0 0 101 102\" width=\"100%\"><image height=\"102\" width=\"101\" xlink:href=\"data:image/png;base64,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\"/></pattern></defs><g clip-path=\"url(#a)\" transform=\"translate(-5053 -4022)\"><rect fill=\"url(#b)\" height=\"72\" transform=\"translate(5040 4011)\" width=\"71\"></rect></g></svg></div><div class=\"col-xl-10\"><p class=\"outlet-title\">CARIMBO DE LIVRO USADO</p><p>Os livros usados recebem o carimbo de \"Vendido no Estado, Troca não\n",
              "                                                    Autorizada\" na capa e/ou contra-capa para identificar os produtos\n",
              "                                                    que\n",
              "                                                    não podem ser trocados.</p></div></div></div><div class=\"col-xl-6\"><div class=\"row\"><div class=\"col-xl-2\"><svg data-name=\"Layer 1\" id=\"icon-box\" viewbox=\"0 0 256 256\" xmlns=\"http://www.w3.org/2000/svg\"><path d=\"M239.06 79.13a4.29 4.29 0 0 0-2.51-3.9l-103.3-46.85a4.28 4.28 0 0 0-3.54 0L26.41 75.23a4.29 4.29 0 0 0-2.51 3.9v89.81a4.29 4.29 0 0 0 2.52 3.91l103.3 46.62a4.28 4.28 0 0 0 3.52 0l103.28-46.61a4.29 4.29 0 0 0 2.52-3.91V79.13zm-191.8 3.6h79.94v34.67l-5.1-2.21zm88.51 34.66V82.73h38.58a4.29 4.29 0 0 0 0-8.57h-38.58V38.93L224.21 79l-83.34 36.14zm-8.57-43.23H49.52l77.68-35.23zm-94.73 11.5l6.38 2.77 88.35 38.31v82.19l-94.73-42.75zm198 80.52l-94.73 42.75v-82.19l88.35-38.31 6.38-2.77z\"></path><path d=\"M192.35 74.16h-3a4.29 4.29 0 0 0 0 8.57h3a4.29 4.29 0 1 0 0-8.57zM204.47 121.49a4.29 4.29 0 0 0-4.06-.35l-32.7 14.18a4.29 4.29 0 0 0-2.58 3.93v29a4.29 4.29 0 0 0 6 3.91l32.7-14.76a4.29 4.29 0 0 0 2.52-3.91v-28.42a4.29 4.29 0 0 0-1.88-3.58zm-6.64 29.25l-24.13 10.89v-19.57l24.13-10.46z\"></path></svg></div><div class=\"col-xl-10\"><p class=\"outlet-title\">EMBALAGEM E CONTEÚDO</p><p>Os produtos são entregues na embalagem original retrabalhada, com\n",
              "                                                    possíveis alterações, ou em embalagens neutras lacradas. Pode não\n",
              "                                                    conter\n",
              "                                                    capas e/ou invólucros especiais, especialmente em kits e boxes.</p></div></div></div></div><div class=\"row m-t-15\"><div class=\"col-xl-6\"><div class=\"row\"><div class=\"col-xl-2\"><svg data-name=\"Layer 1\" id=\"icon-change\" viewbox=\"0 0 256 256\" xmlns=\"http://www.w3.org/2000/svg\"><path d=\"M27.18 110.6a4.94 4.94 0 0 0 3.95-.1l39-17.74a5 5 0 0 0 2.35-6.7 4.93 4.93 0 0 0-6.45-2.4l-27.3 12.45c13-39 49.38-65.13 91.22-65.13 43.83 0 82.17 29.29 93.22 71.23a5 5 0 0 0 9.65-2.55C220.61 53.37 178.33 21 129.94 21 83.81 21 43.67 49.77 29.18 92.86l-11.5-28.74a5 5 0 1 0-9.5 3.1 3.06 3.06 0 0 0 .25.6l15.94 40a5 5 0 0 0 2.81 2.78zM247.65 184.08l-15.94-40a5 5 0 0 0-2.8-2.8 5.15 5.15 0 0 0-3.95.1l-39 17.74a5 5 0 0 0 3.85 9.25l.3-.15 27.34-12.45c-13.15 39-49.53 65.13-91.32 65.13-43.83 0-82.17-29.29-93.22-71.23a5 5 0 1 0-9.65 2.55c12.15 46.33 54.48 78.67 102.86 78.67 46.13 0 86.22-28.79 100.77-71.88l11.5 28.74a5 5 0 1 0 9.4-3.4.71.71 0 0 1-.1-.3z\"></path></svg></div><div class=\"col-xl-10\"><p class=\"outlet-title\">DEVOLUÇÃO</p><p>O prazo para desistir da compra é de até 7 (sete) dias corridos, a\n",
              "                                                    contar\n",
              "                                                    da data de entrega. O produto deve ser encaminhado com todos os seus\n",
              "                                                    componentes e na mesma embalagem em que foi recebido. Devido ao\n",
              "                                                    estoque\n",
              "                                                    limitado das mercadorias, não é possível trocar os produtos, apenas\n",
              "                                                    devolvê-los e solicitar a restituição do valor pago. O valor pago\n",
              "                                                    será\n",
              "                                                    restituído pelo mesmo meio de pagamento utilizado na compra. Para\n",
              "                                                    mais\n",
              "                                                    informações, verifique nossa Política de Trocas e Devoluções.</p></div></div></div><div class=\"col-xl-6\"><div class=\"row\"><div class=\"col-xl-2\"><svg data-name=\"Layer 1\" id=\"icon-settings\" viewbox=\"0 0 256 256\" xmlns=\"http://www.w3.org/2000/svg\"><path d=\"M138.28 239h-20.11a11.86 11.86 0 0 1-11.67-10c-.63-4.22-1.24-8.57-1.81-12.91a1.28 1.28 0 0 0-.91-1.08A91.33 91.33 0 0 1 83 206.34a1.28 1.28 0 0 0-1.42.12c-3.47 2.67-7 5.31-10.41 7.85a11.86 11.86 0 0 1-15.34-1.16l-14.25-14.22a11.86 11.86 0 0 1-1.16-15.34c2.54-3.44 5.19-6.94 7.85-10.41a1.28 1.28 0 0 0 .12-1.42 91.32 91.32 0 0 1-8.63-20.82 1.28 1.28 0 0 0-1.08-.91c-4.33-.57-8.67-1.17-12.91-1.81a11.86 11.86 0 0 1-10-11.67v-20.1a11.86 11.86 0 0 1 10-11.67c4.23-.63 8.58-1.24 12.91-1.81a1.28 1.28 0 0 0 1.08-.91 91.32 91.32 0 0 1 8.64-20.81 1.28 1.28 0 0 0-.12-1.42c-2.66-3.46-5.3-7-7.85-10.41a11.86 11.86 0 0 1 1.16-15.34L55.8 39.87a11.86 11.86 0 0 1 15.34-1.16c3.43 2.54 6.94 5.18 10.41 7.85a1.29 1.29 0 0 0 1.42.12 91.31 91.31 0 0 1 20.82-8.63 1.28 1.28 0 0 0 .91-1.08c.57-4.34 1.17-8.68 1.81-12.91a11.86 11.86 0 0 1 11.67-10h20.11a11.86 11.86 0 0 1 11.67 10c.63 4.22 1.24 8.57 1.81 12.91a1.27 1.27 0 0 0 .91 1.08 91.32 91.32 0 0 1 20.82 8.63 1.28 1.28 0 0 0 1.42-.12c3.47-2.67 7-5.31 10.41-7.85a11.86 11.86 0 0 1 15.34 1.16l14.22 14.22A11.86 11.86 0 0 1 216 69.43c-2.55 3.44-5.19 6.94-7.85 10.41a1.28 1.28 0 0 0-.12 1.42 91.32 91.32 0 0 1 8.63 20.82 1.28 1.28 0 0 0 1.08.91c4.33.57 8.68 1.17 12.91 1.81a11.86 11.86 0 0 1 10 11.67v20.11a11.86 11.86 0 0 1-10 11.67c-4.23.63-8.57 1.24-12.91 1.81a1.28 1.28 0 0 0-1.08.91 91.33 91.33 0 0 1-8.66 20.79 1.28 1.28 0 0 0 .12 1.42c2.67 3.46 5.31 7 7.85 10.41a11.86 11.86 0 0 1-1.16 15.34l-14.22 14.22a11.86 11.86 0 0 1-15.34 1.16c-3.43-2.54-6.94-5.18-10.41-7.85a1.29 1.29 0 0 0-1.42-.12 91.32 91.32 0 0 1-20.76 8.66 1.28 1.28 0 0 0-.91 1.08c-.57 4.34-1.17 8.68-1.81 12.91A11.86 11.86 0 0 1 138.28 239zm-55.92-43.33a11.73 11.73 0 0 1 5.8 1.53 80.79 80.79 0 0 0 18.42 7.63 11.76 11.76 0 0 1 8.53 9.85c.56 4.28 1.16 8.55 1.78 12.71a1.29 1.29 0 0 0 1.28 1.08h20.11a1.29 1.29 0 0 0 1.28-1.08c.62-4.16 1.22-8.44 1.78-12.71a11.76 11.76 0 0 1 8.53-9.85 80.82 80.82 0 0 0 18.42-7.63 11.76 11.76 0 0 1 13 .93c3.42 2.63 6.87 5.23 10.25 7.73a1.29 1.29 0 0 0 1.67-.14l14.22-14.22a1.29 1.29 0 0 0 .14-1.67c-2.51-3.39-5.11-6.84-7.73-10.25a11.76 11.76 0 0 1-.93-13 80.81 80.81 0 0 0 7.63-18.42 11.76 11.76 0 0 1 9.85-8.53c4.27-.56 8.55-1.15 12.71-1.78a1.29 1.29 0 0 0 1.08-1.28v-20.12a1.29 1.29 0 0 0-1.08-1.28c-4.17-.62-8.44-1.22-12.71-1.78a11.76 11.76 0 0 1-9.85-8.53 80.79 80.79 0 0 0-7.63-18.42 11.77 11.77 0 0 1 .93-13c2.63-3.41 5.23-6.86 7.73-10.25a1.29 1.29 0 0 0-.14-1.67L193.22 47.3a1.29 1.29 0 0 0-1.67-.14c-3.38 2.5-6.83 5.1-10.25 7.73a11.76 11.76 0 0 1-13 .93 80.83 80.83 0 0 0-18.42-7.63 11.76 11.76 0 0 1-8.53-9.85c-.56-4.28-1.16-8.55-1.78-12.71a1.29 1.29 0 0 0-1.28-1.08h-20.12a1.29 1.29 0 0 0-1.28 1.08c-.62 4.16-1.22 8.44-1.78 12.71a11.76 11.76 0 0 1-8.53 9.85 80.81 80.81 0 0 0-18.42 7.63 11.77 11.77 0 0 1-13-.93 689.23 689.23 0 0 0-10.25-7.73 1.29 1.29 0 0 0-1.67.14L49 61.52a1.29 1.29 0 0 0-.14 1.67C51.38 66.58 54 70 56.6 73.43a11.76 11.76 0 0 1 .93 13 80.8 80.8 0 0 0-7.63 18.42 11.76 11.76 0 0 1-9.9 8.55c-4.27.56-8.54 1.15-12.71 1.78a1.29 1.29 0 0 0-1.08 1.28v20.11a1.29 1.29 0 0 0 1.08 1.28c4.17.62 8.45 1.22 12.71 1.78a11.76 11.76 0 0 1 9.85 8.53 80.81 80.81 0 0 0 7.63 18.42 11.76 11.76 0 0 1-.93 13c-2.63 3.42-5.23 6.86-7.73 10.25a1.29 1.29 0 0 0 .18 1.67l14.22 14.22a1.29 1.29 0 0 0 1.67.14c3.38-2.5 6.83-5.1 10.25-7.73a11.81 11.81 0 0 1 7.22-2.46z\"></path><path d=\"M128.22 175.34A48.83 48.83 0 1 1 177 126.51a48.88 48.88 0 0 1-48.78 48.83zm0-87.15a38.32 38.32 0 1 0 38.32 38.32 38.37 38.37 0 0 0-38.32-38.32z\"></path></svg></div><div class=\"col-xl-10\"><p class=\"outlet-title\">APARÊNCIA E FUNCIONAMENTO</p><p>O livros usados podem apresentar amassados, marcas, manchas, riscos\n",
              "                                                    ou\n",
              "                                                    sinais de uso. Esses sinais estéticos não comprometerão o a leitura\n",
              "                                                    nem\n",
              "                                                    a integridade do conteúdo original. Todos os produtos usados foram\n",
              "                                                    inspecionados e estão em condições de leitura.</p></div></div></div></div></div></div><footer class=\"card-footer section__footer text-center\"><a aria-controls=\"section-outlet-livro\" aria-expanded=\"false\" class=\"open-text link\" data-open=\"section-outlet-livro\" data-toggle=\"collapse\" href=\"#section-outlet-livro\" role=\"button\">\n",
              "                                VER DESCRIÇÃO COMPLETA</a></footer><!-- /.section__footer --></div></div></div><div class=\"row section-outlet-usado\"><div class=\"col-xl-12\"><div class=\"card hide-text-pdp product-livro-usado\"><div class=\"card-body\"><p class=\"card-title pdp-title-card section__title mb-0\">Exemplos de Aparência e Estado\n",
              "                            </p><div class=\"collapse pt-3 section__body\" id=\"section-outlet-usado\"><div class=\"row m-t-30\"><div class=\"col-xl-6\"><div class=\"row\"><div class=\"col-xl-2\"><img src=\"https://lojasaraiva.vteximg.com.br/arquivos/saraiva.livro-usado-amassado.png?v=636947641825100000\"/></div><div class=\"col-xl-10\"><p class=\"outlet-title\">AMASSADO OU DOBRADO</p><p>Apresenta capa e/ou páginas amassadas ou com dobras.</p></div></div></div><div class=\"col-xl-6\"><div class=\"row\"><div class=\"col-xl-2\"><img src=\"https://lojasaraiva.vteximg.com.br/arquivos/saraiva.livro-usado-rasgos.png?v=636947641843870000\"/></div><div class=\"col-xl-10\"><p class=\"outlet-title\">RASGOS E DANOS</p><p>Pode apresentar caixa ou capa danificada e/ou ausência de invólucro.\n",
              "                                                </p></div></div></div></div><div class=\"row m-t-15\"><div class=\"col-xl-6\"><div class=\"row\"><div class=\"col-xl-2\"><img src=\"https://lojasaraiva.vteximg.com.br/arquivos/saraiva.livro-usado-riscado.png?v=636947641854370000\"/></div><div class=\"col-xl-10\"><p class=\"outlet-title\">RISCADO, MANCHADO OU DESGASTADO</p><p>Interferências perceptíveis na capa ou páginas.</p></div></div></div><div class=\"col-xl-6\"><div class=\"row\"><div class=\"col-xl-2\"><img src=\"https://lojasaraiva.vteximg.com.br/arquivos/saraiva.livro-usado-etiquetas.png?v=636947641834200000\"/></div><div class=\"col-xl-10\"><p class=\"outlet-title\">ETIQUETAS COLADAS</p><p>Pode apresentar etiquetas coladas na capa.</p></div></div></div></div></div></div><footer class=\"card-footer section__footer text-center\"><a aria-controls=\"section-outlet-usado\" aria-expanded=\"false\" class=\"open-text link\" data-open=\"section-outlet-usado\" data-toggle=\"collapse\" href=\"#section-outlet-usado\" role=\"button\">\n",
              "                                VER DESCRIÇÃO COMPLETA</a></footer><!-- /.section__footer --></div></div></div><div class=\"row\"><div class=\"col-xl-12\"><div class=\"card hide-text-pdp descricao\"><div class=\"card-body\"><h2 class=\"card-title pdp-title-card mb-0\">Descrição</h2><div class=\"collapse pt-3\" id=\"descricao\"></div></div><footer class=\"card-footer section__footer text-center\"><a aria-controls=\"descricao\" aria-expanded=\"false\" class=\"open-text\" data-open=\"descricao\" data-toggle=\"collapse\" href=\"#descricao\" role=\"button\">\n",
              "                                VER DESCRIÇÃO COMPLETA</a></footer><!-- /.section__footer --></div></div></div><div class=\"component-vue component-chaordic\"><chaordic-init-component pagename=\"product\"></chaordic-init-component><chaordic-component has_carroucel=\"true\" position=\"top\"></chaordic-component></div><div class=\"row\"><div class=\"col-xl-12\"><div class=\"card hide-text-pdp caracteristicas\"><div class=\"card-body\"><h2 class=\"card-title pdp-title-card mb-0\">Características</h2><div class=\"collapse pt-3 table-responsive\" id=\"caracteristicas\"><div class=\"tab-content\"><div class=\"tab-pane active\" id=\"receba\"><div class=\"table-responsive\"><table class=\"table mb-0\"><tbody></tbody></table></div></div></div></div></div><footer class=\"card-footer section__footer text-center\"><a aria-controls=\"caracteristicas\" aria-expanded=\"false\" class=\"open-text\" data-open=\"caracteristicas\" data-toggle=\"collapse\" href=\"#caracteristicas\" role=\"button\">VER TODAS\n",
              "                                AS CARACTERÍSTICAS</a></footer><!-- /.section__footer --></div></div></div><div class=\"component-vue component-chaordic\"><chaordic-component has_carroucel=\"true\" position=\"middle\"></chaordic-component></div><!--Vurdere--><div id=\"ctx-socialexpressions\"></div><!--Vurdere--><div id=\"ctx-socialreviews\"></div><!--Vurdere--><div id=\"ctx-socialdisplays\"></div><div class=\"percycle-container\"></div><div class=\"component-vue component-chaordic\"><chaordic-component has_carroucel=\"true\" is_especial=\"true\" position=\"bottom\"></chaordic-component></div></div><!-- end wrapper --><!-- ============================================================== --><!-- End Page content --><!-- ============================================================== --><footer class=\"footer\"><div class=\"container-fluid text-center pb-4\"><div class=\"row\"><div class=\"col-md-4 col-xl-4 box box-meios-de-pagamento\"><p class=\"footer__subtitle footer__subtitle--spacer-1\">Meios de Pagamento</p><ul class=\"footer-list list-unstyled\"><li><img alt=\"Cartão Saraiva\" src=\"https://lojasaraiva.vteximg.com.br/arquivos/saraiva.card1.png?v=636918867979230000\"/></li><li><img alt=\"Visa\" src=\"https://lojasaraiva.vteximg.com.br/arquivos/logo-visav1.png?v=637370881682930000\" style=\"max-width: 39px;\"/></li><li><img alt=\"Mastercard\" src=\"https://lojasaraiva.vteximg.com.br/arquivos/Saraiva_Master.png?v=637352819774700000\" style=\"max-width: 39px;\"/></li><li><img alt=\"Elo\" src=\"https://lojasaraiva.vteximg.com.br/arquivos/saraiva.card10.png?v=636918872954130000\"/></li><li><img alt=\"Hiper\" src=\"https://lojasaraiva.vteximg.com.br/arquivos/Saraiva_Hiper.png?v=637352819778470000\" style=\"max-width: 30px;\"/></li><li><img alt=\"Hipercard\" src=\"https://lojasaraiva.vteximg.com.br/arquivos/saraiva.card12.png?v=637087445704670000\"/></li><li><img alt=\"Paypal\" src=\"https://lojasaraiva.vteximg.com.br/arquivos/saraiva.card14.png?v=637087379490330000\" style=\"width: 43px;\"/></li><li><img alt=\"Amex\" src=\"https://lojasaraiva.vteximg.com.br/arquivos/saraiva.card6.png?v=636918872869500000\"/></li><li><img alt=\"Visa Eletron\" src=\"https://lojasaraiva.vteximg.com.br/arquivos/Saraiva_Visa Eletron.jpg?v=637352819776130000\" style=\"max-width: 39px;\"/></li><li><img alt=\"Maestro\" src=\"https://lojasaraiva.vteximg.com.br/arquivos/Saraiva_Maestro.png?v=637352819776600000\" style=\"max-width: 39px;\"/></li><li><img alt=\"Vale cultura\" src=\"https://lojasaraiva.vteximg.com.br/arquivos/saraiva.card8.png?v=636918872909570000\"/></li><li><img alt=\"Boleto\" src=\"https://lojasaraiva.vteximg.com.br/arquivos/saraiva.card9.png?v=636918872929100000\"/></li><li><img alt=\"Alelo\" src=\"https://lojasaraiva.vteximg.com.br/arquivos/Saraiva_Alelo.jpg?v=637352819786600000\" style=\"max-width: 39px;\"/></li><li><img alt=\"Vale Cultura Alelo\" src=\"https://lojasaraiva.vteximg.com.br/arquivos/logo.alelo.1.png?v=637388149551700000\" style=\"max-width: 39px;\"/></li><li><img alt=\"Vale Cultura Sodexo\" src=\"https://lojasaraiva.vteximg.com.br/arquivos/logo.sodexo.1.png?v=637388149553100000\" style=\"max-width: 39px;\"/></li></ul></div><div class=\"col-md-4 col-xl-4 text-center\"><p class=\"footer__subtitle\">Site Seguro</p><ul class=\"footer-list security list-unstyled\"><li><i alt=\"Verified by Visa\" class=\"sa-security sa-verified-visa\"></i></li><li><i alt=\"Internet Segura\" class=\"sa-security sa-internet-segura\"></i></li><li><i alt=\"Trust Sign\" class=\"sa-security sa-trust-sign\"></i></li></ul><ul class=\"footer-list ebit list-unstyled\"><li class=\"d-none\"><!-- a id=\"seloEbit\" href=\"http://www.ebit.com.br/648\" target=\"_blank\" data-noop=\"redir(this.href)\">\n",
              "                            <i class=\"sa-security sa-ebit-ouro\" alt=\"Selo Ebit - Loja Ouro\"></i>\n",
              "                        </a --></li><li style=\"width: 80px;\"><a href=\"http://www.ebit.com.br/648\" target=\"_blank\"><img src=\"https://lojasaraiva.vteximg.com.br/arquivos/logo-ebit-ouro.png?v=637203076717470000\"/></a></li><li class=\"ml-3\"><img alt=\"\" src=\"https://lojasaraiva.vteximg.com.br/arquivos/logo-premio-ebit-2019.png?v=637203065647470000\"/><i alt=\"Selo Ebit - Loja Mais Querida\" class=\"sa-security sa-ebit-mais-querida d-none\"></i></li></ul></div><div class=\"col-md-4 col-xl-4\"><p class=\"footer__subtitle footer__subtitle--spacer-2\">Redes Sociais</p><div class=\"socials\"><ul class=\"footer-list social list-unstyled\"><li><a class=\"social-link-fb\" href=\"https://www.facebook.com/saraivaonline\" id=\"social-link-fb\" target=\"_blank\" title=\"Facebook\"><i class=\"sa-social facebook\"></i></a></li><li><a class=\"social-link-twitter\" href=\"https://twitter.com/saraiva\" id=\"social-link-twitter\" target=\"_blank\" title=\"Twitter\"><i class=\"sa-social twitter\"></i></a></li><li><a class=\"social-link-instagram\" href=\"https://www.instagram.com/saraivaonline\" id=\"social-link-instagram\" target=\"_blank\" title=\"Instagram\"><i class=\"sa-social instagram\"></i></a></li><li><a class=\"social-link-youtube\" href=\"https://www.youtube.com/saraiva\" id=\"social-link-youtube\" target=\"_blank\" title=\"youtube\"><i class=\"sa-social youtube\"></i></a></li><li><a class=\"social-link-linkedin\" href=\"https://www.linkedin.com/company-beta/83757\" id=\"social-link-linkedin\" target=\"_blank\" title=\"Linkedin\"><i class=\"sa-social linkedin\"></i></a></li></ul></div></div></div></div><div class=\"container-fluid text-center pb-3\"><div class=\"row\"><div class=\"col-12\"><div class=\"card-deck-wrapper\"><div class=\"card-deck\"><div class=\"card text-gray-saraiva-dark bg-gray-saraiva text-xs-center\"><a href=\"/central-de-atendimento\" id=\"link-cms-central-de-atendimento\" title=\"Central de Atendimento\"><div class=\"card-body\"><figure><i class=\"sa-institucional duvidas\"></i></figure><p class=\"title\"><strong>Central de Atendimento</strong></p><p class=\"text-muted\">Utilize nosso FAQ, chat online ou email para solucionar suas\n",
              "                                        dúvidas.\n",
              "                                    </p></div></a></div><div class=\"card text-gray-saraiva-dark bg-gray-saraiva text-xs-center\"><a href=\"/nossas-lojas\" id=\"link-cms-nossas-lojas\" title=\"Nossas Lojas\"><div class=\"card-body\"><figure><i class=\"sa-institucional lojas\"></i></figure><p class=\"title\"><strong>Nossas Lojas</strong></p><p class=\"text-muted\">Encontre uma loja Saraiva mais perto de você.</p></div></a></div><div class=\"card text-gray-saraiva-dark bg-gray-saraiva text-xs-center\"><a href=\"https://www.bb.com.br/pbb/pagina-inicial/voce/produtos-e-servicos/cartoes/cartoes-com-promocoes-e-vantagens-especiais/cartao-de-credito-saraiva#/\" id=\"link-cms-cartao-saraiva\" target=\"_blank\" title=\"Cartão Saraiva\"><div class=\"card-body\"><figure><i class=\"sa-institucional cartao-saraiva\"></i></figure><p class=\"title\"><strong>Cartão Saraiva</strong></p><p class=\"text-muted\">Condições Especiais para suas compras em nossas lojas e site.\n",
              "                                    </p></div></a></div><div class=\"card text-gray-saraiva-dark bg-gray-saraiva text-xs-center\"><a href=\"https://jobs.kenoby.com/saraiva\" id=\"link-cms-work-us\" target=\"_blank\" title=\"Trabalhe Conosco\"><div class=\"card-body\"><figure><i class=\"sa-institucional trabalhe\"></i></figure><p class=\"title\"><strong>Trabalhe Conosco</strong></p><p class=\"text-muted\">Venha fazer parte do nosso time!</p></div></a></div></div></div></div></div></div><div class=\"container-fluid pb-4\"><div class=\"row\"><div class=\"col-md-3 col-xl-3 box d-none\"><h4 class=\"footer__title d-none\">Televendas</h4><ul class=\"mini-ul list-unstyled d-none\"><li><span>Todas as regiões*</span><strong class=\"tel pb-1\">(11) 3003-0009</strong></li><li><span>Vendas Corporativas</span><strong class=\"tel pb-1\">(11) 2388-8245</strong></li></ul><p class=\"small d-none\">*Não é necessário DDD. Custo de ligação local, mais imposto local,\n",
              "                    conforme estado de origem.</p></div><!--<div class=\"col-md-3 col-xl-3 box hidden\">\n",
              "                <h4 class=\"footer__title\">Serviços</h4>\n",
              "                <nav class=\"footer__nav\">\n",
              "                    <ul class=\"mini-ul\">\n",
              "                        <li><a id=\"link-cms-work-garantia\" href=\"/garantia-estendida\"\n",
              "                                title=\"Garantia Estendida\">Garantia Estendida</a></li>\n",
              "                        <li><a id=\"link-cms-protecao-saraiva\" href=\"/protecao-saraiva\" title=\"Proteção Saraiva\">Proteção\n",
              "                                Saraiva</a></li>\n",
              "                        <li><a id=\"link-cms-programa-de-afiliados\" href=\"/institucional/programa-de-afiliados\"\n",
              "                                title=\"Programa de Afiliados\">Programa de Afiliados</a></li>\n",
              "                        <li><a id=\"link-cms-venda-na-saraiva\" href=\"/marketplace\" title=\"Venda na Saraiva\">Venda na\n",
              "                                Saraiva</a></li>\n",
              "                        <li><a id=\"link-cms-venda-na-saraiva\" href=\"/retire-na-loja\" title=\"Retire na Loja\">Retire na Loja</a></li>\n",
              "                    </ul>\n",
              "                </nav>\n",
              "            </div>--><div class=\"col-md-3 col-xl-3 box\"><h4 class=\"footer__title\">Institucional</h4><nav class=\"footer__nav\"><ul class=\"mini-ul\"><li><a href=\"/central-de-atendimento/politica\" id=\"link-cms-central-de-atendimento-politica\" title=\"Política de Venda e Troca\">Políticas de Vendas, Trocas e Privacidade</a></li><li><a href=\"http://www.saraivari.com.br/default_pt.asp?idioma=0&amp;conta=28\" id=\"link-cms-relacoes-com-investidores\" target=\"_blank\" title=\"Relações com Investidores\">\n",
              "                                Relações com Investidores\n",
              "                            </a></li><!--<li>--><!--    <a id=\"link-cms-instituto-saraiva\" href=\"http://www.institutojorgesaraiva.org.br/\"--><!--        target=\"_blank\" title=\"Instituto Jorge Saraiva\">Instituto Jorge Saraiva</a>--><!--</li>--><li><a href=\"https://blog.saraiva.com.br/eventos/\" id=\"link-cms-eventos\" target=\"_blank\" title=\"Eventos\">Eventos</a></li><li><a href=\"/institucional/termos-e-condicoes-de-compra\" id=\"link-cms-eventos\" title=\"Termos e Condições de Compra\">Termos e Condições de Compra</a></li></ul></nav></div></div></div><!-- line five --><div class=\"container-fluid text-center\"><div class=\"row justify-content-md-center\"><div class=\"col-md-12 col-xl-12\">\n",
              "<div class=\"footer__copyright\" style=\"font-family: Arial\">\n",
              "<p class=\"small\" style=\"font-family: Arial\">\n",
              "        As ofertas são válidas por tempo determinado e/ou enquanto durarem os estoques. Nosso serviço de entregas não permite encomendas feitas com endereçamento de Caixa Postal.\n",
              "        <br/>\n",
              "        Os preços apresentados no site não são obrigatoriamente iguais aos apresentados na rede de lojas físicas da Saraiva, e somente são válidos para as compras efetuadas no ato de sua exibição. Saraiva.com.br é uma empresa do grupo Saraiva e Siciliano S.A., CNPJ nº 61.365.284/0001-04, Rua Henrique Schaumann, nº 270, São Paulo – SP.\n",
              "    </p>\n",
              "</div>\n",
              "</div></div></div></footer><div class=\"pop-up-paypal-050520\"><div class=\"_fixed\"><div class=\"inner\"><span>x</span><a class=\"desktop\" href=\"https://cutt.ly/ayTlHMi\"><img src=\"https://lojasaraiva.vteximg.com.br/arquivos/1405_pop_upSS-20838.png?v=637254083060500000\"/></a><a class=\"mobile\" href=\"https://cutt.ly/IyTlJEu\"><img src=\"https://lojasaraiva.vteximg.com.br/arquivos/1405_pop_up-SS-20838-mb.png?v=637254083065070000\"/></a></div></div></div><div class=\"__menu-banners\" style=\"display: none;\"><script>\n",
              "        window.__menu_banners = {};\n",
              "        window.__menu_banners['livros'] = `0704_banner_menu_livros_campeoes-1.png;https://busca.saraiva.com.br/hotsite/especial-livros-campeoes;Livros\n",
              "0704_banner_menu-mini-romances.jpg;https://www.saraiva.com.br/listas/livros/romances?promo_id=lista-romances&promo_name=lista-romances-menuexp-livros&promo_creative=banmini&promo_position=slot1 ;Romance\n",
              "0704_banner_menu-mini-netflix.jpg;https://www.saraiva.com.br/listas/livros/netflix?promo_id=lista-netflix&promo_name=lista-netflix-menuexp-livros&promo_creative=banmini&promo_position=slot2;Netflix<!-- ATENÇÃO, esse erro prejudica a performance do seu site, o conteudo de nome 210422-livros não foi renderizado por nao ser um XDocument válido, erro: - '=' is an unexpected token. The expected token is ';'. Line 2, position 120.-->`;\n",
              "        window.__menu_banners['em-ingles-e-outros-idiomas'] = `2101_banner-menu-becodiagonal.png;https://busca.saraiva.com.br/hotsite/hp-importados?promo_id=harry-potter&promo_name=harry-potter-menuexp-livrosimp&promo_creative=bandestaq&promo_position=slot1;Beco Diagonal\n",
              "2101_banner_menu_mini_taros-e-oraculos.png;https://busca.saraiva.com.br/hotsite/taros-importados?promo_id=taros-oraculos&promo_name=taros-oraculos-menuexp-livrosimp&promo_creative=banmini&promo_position=slot1;Tarôs e Oráculos\n",
              "2101_banner_menu_the-h-g-wells-collection.png;https://www.saraiva.com.br/the-h-g-wells-collection-10615462/p?promo_id=h-g-wells-collection&promo_name=h-g-wells-collection-menuexp-livrosimp&promo_creative=banmini&promo_position=slot2;The H. G. Wells Collection<!-- ATENÇÃO, esse erro prejudica a performance do seu site, o conteudo de nome Importados não foi renderizado por nao ser um XDocument válido, erro: - '=' is an unexpected token. The expected token is ';'. Line 1, position 124.-->`;\n",
              "        window.__menu_banners['e-books'] = `1304_banner_menu_colecao-os-invenciveis.png;https://busca.saraiva.com.br/hotsite/ebooks-invenciveis?promo_id=colecao-invenciveis&promo_name=colecao-invenciveis-menuexp-ebooks&promo_creative=bandestaq&promo_position=slot1; Coleção Os Invencíveis\n",
              "1304_banner_mini_a-maravilhosa-terra-de-oz-copia.png;https://www.saraiva.com.br/a-maravilhosa-terra-de-oz-9197139/p?promo_id=terra-de-oz&promo_name=terra-de-oz-menuexp-ebooks&promo_creative=banmini&promo_position=slot1; A Maravilhosa Terra de Oz\n",
              "1304_banner_mini_gravity-falls.png;https://www.saraiva.com.br/gravity-falls-aventuras-em-dobro-10650901/p?promo_id=gravity-falls&promo_name=gravity-falls-menuexp-ebooks&promo_creative=banmini&promo_position=slot2; Gravity Falls: Aventuras em dobro<!-- ATENÇÃO, esse erro prejudica a performance do seu site, o conteudo de nome banner não foi renderizado por nao ser um XDocument válido, erro: - '=' is an unexpected token. The expected token is ';'. Line 1, position 146.-->`;\n",
              "        window.__menu_banners['games'] = `210330-banner-menu-games-prince-of-persia-remake.png;https://busca.saraiva.com.br/hotsite/prince-of-persia-remake;Domine as lendárias areias do tempo;Prince Of Persia\n",
              "1302_banner_mini_mochilas.jpg;https://busca.saraiva.com.br/hotsite/mochilas-case-logic?promo_id=mochila-case-logic&promo_name=mochila-case-logic-menuexp-musicas&promo_creative=banmini&promo_position=slot1;1903_banner_menu_mini_life_is_strange_2; Mochilas<!-- ATENÇÃO, esse erro prejudica a performance do seu site, o conteudo de nome Sy - Prince of Persia não foi renderizado por nao ser um XDocument válido, erro: - '=' is an unexpected token. The expected token is ';'. Line 2, position 126.-->`;\n",
              "        window.__menu_banners['filmes-e-series'] = `1006_banner-menu-dora-1.png;https://busca.saraiva.com.br/hotsite/filme-dora?promo_id=filme-dora&promo_name=filme-dora-desktop-home-filmes&promo_creative=botsetsup&promo_position=slot1;Dora e A Cidade Perdida - DVDO Exterminador do Futuro\n",
              "1006_banner_menu-mini-facasesegredos-1.png;https://busca.saraiva.com.br/hotsite/entre-facas-e-segredos?promo_id=entre-facas-e-segredos&promo_name=entre-facas-e-segredos-desktop-home-filmes&promo_creative=botsetinf&promo_position=slot1;Entre Facas e Segredos - DVD\n",
              "1006_banner_menu-mini-pintassilgo-1.png;https://busca.saraiva.com.br/hotsite/o-pitassilgo?promo_id=o-pitassilgo&promo_name=o-pitassilgo-desktop-home-filmes&promo_creative=botsetinf&promo_position=slot2;O Pintassilgo<!-- ATENÇÃO, esse erro prejudica a performance do seu site, o conteudo de nome 210422-banners não foi renderizado por nao ser um XDocument válido, erro: - '=' is an unexpected token. The expected token is ';'. Line 1, position 113.-->`;\n",
              "        window.__menu_banners['musicas'] = `3103_banner_menu_maria-bethania.png;https://busca.saraiva.com.br/hotsite/maria-bethania?promo_id=maria-bethania&promo_name=maria-bethania-menuexp-musicas&promo_creative=bandestaq&promo_position=slot1;Maria Bethânia\n",
              "3103_banner_mini_green-day.png;https://busca.saraiva.com.br/hotsite/green-day?promo_id=green-day&promo_name=green-day-menuexp-musicas&promo_creative=banmini&promo_position=slot1;Green Day - Father Of All\n",
              "3103_banner_mini_shawn-mendess.png;https://busca.saraiva.com.br/hotsite/shawn-mendes?promo_id=shawn-mendes&promo_name=shawn-mendes-menuexp-musicas&promo_creative=banmini&promo_position=slot2;Shawn Mendes - CD Deluxe<!-- ATENÇÃO, esse erro prejudica a performance do seu site, o conteudo de nome html não foi renderizado por nao ser um XDocument válido, erro: - '=' is an unexpected token. The expected token is ';'. Line 1, position 129.-->`;\n",
              "        window.__menu_banners['papelaria'] = `1607_banner_menu-agendas-2020.png;https://busca.saraiva.com.br/hotsite/papelaria-agendas;Agendas 2020 com 50% Off\n",
              "1607_banner_mini_calculadoras.png;https://busca.saraiva.com.br/hotsite/papelaria-calculadoras;Calculadoras Casio 20% Off\n",
              "1607_banner_mini_midias-maxprint.png;https://busca.saraiva.com.br/hotsite/papelaria-midias;Mídias Maxprint 30% Off`;\n",
              "        window.__menu_banners['smartphones'] = `1410-banner-iphone.jpg;https://www.saraiva.com.br/telefones-e-celulares/smartphones/iphone?promo_id=iphone-&promo_name=especial-iphone-desktop&promo_creative=banner-destaque&promo_position=slot1;Iphone\n",
              "1410_banner-menu-mini-xiomi.jpg;https://busca.saraiva.com.br/hotsite/smartphone-xiaomi?promo_id=xiaomi&promo_name=xiaomi-desktop-menuexp-telef&promo_creative=banmini&promo_position=slot1;Xiaomi\n",
              "1410_banner-menu-mini-cartao-de-memoria.jpg;https://busca.saraiva.com.br/hotsite/cartao-de-memoria?promo_id=cartao-de-memoria&promo_name=cartao-de-memoria%20desktop-menuexp-telef&promo_creative=banmini&promo_position=slot2;Cartão de memória<!-- ATENÇÃO, esse erro prejudica a performance do seu site, o conteudo de nome b não foi renderizado por nao ser um XDocument válido, erro: - '=' is an unexpected token. The expected token is ';'. Line 1, position 125.-->`;\n",
              "        window.__menu_banners['informatica'] = `2211-banner-menu-informatica-teclados.jpg;https://busca.saraiva.com.br/hotsite/teclado-gamer?promo_id=teclado-gamer&promo_name=teclado-gamer-desktop-menuexp-telef&promo_creative=bandestaq&promo_position=slot1;Teclados\n",
              "0912_banner_menu-mini-case.jpg;https://www.saraiva.com.br/informatica/notebook---bolsa-mala-mochila-e-adesivos?promo_id=notebook-bolsas&promo_name=notebook-bolsas-desktop-home&promo_creative=banner-menu-mini&promo_position=slot1;Bolsas, malas e mochila\n",
              "2211_banner-menu-mini-bolsas-notebooks.jpg;https://busca.saraiva.com.br/hotsite/bolsa-para-notebook?promo_id=bolsa-de-notebook&promo_name=bolsa-de-notebook-desktop-menuexp-telef&promo_creative=banmini&promo_position=slot2;Maleta para notebooks<!-- ATENÇÃO, esse erro prejudica a performance do seu site, o conteudo de nome b não foi renderizado por nao ser um XDocument válido, erro: - '=' is an unexpected token. The expected token is ';'. Line 1, position 133.-->`;\n",
              "        window.__menu_banners['brinquedos'] = `1710_banner-menu-jogos-de-mesa-e-tabuleiro.jpg;https://busca.saraiva.com.br/busca?q=tabuleiro&common_filter[1]=225436&?promo_id=tabuleiro&promo_name=tabuleiro-menuexp-brinq&promo_creative=bandestaq&promo_position=slot1;Tabuleiro\n",
              "1710_banner_menu_mini_triciclo-eletrico-infantil.jpg?v=2;https://www.saraiva.com.br/brinquedos/bicicleta-infantil?promo_id=bicleta-infantil&promo_name=bicleta-infantil-desktop-menuexp-brinq&promo_creative=banmini&promo_position=slot1;Bike infantil\n",
              "1710_banner_menu_mini_bike-infantil.jpg;https://www.saraiva.com.br/brinquedos/mini-veiculos/triciclo-eletrico-infantil?promo_id=triciclo&promo_name=triciclo-menuexp-brinq&promo_creative=banmini&promo_position=slot2;Mini Veículos Elétricos<!-- ATENÇÃO, esse erro prejudica a performance do seu site, o conteudo de nome b não foi renderizado por nao ser um XDocument válido, erro: - '[' is an unexpected token. The expected token is ';'. Line 1, position 114.-->`;\n",
              "    </script></div><!-- Right bar overlay--><div class=\"rightbar-overlay\"></div><div aria-hidden=\"true\" aria-labelledby=\"full-width-modalLabel\" class=\"modal fade\" id=\"marktplace-modal\" role=\"dialog\" style=\"display: none;\" tabindex=\"-1\"><div class=\"modal-dialog modal-lg modal-dialog-centered\"><div class=\"modal-content\"><div class=\"modal-header\"><p class=\"modal-title h4 m-0\" id=\"myLargeModalLabel\">Veja as ofertas com este produto</p><button aria-hidden=\"true\" class=\"close\" data-dismiss=\"modal\" type=\"button\">×</button></div><div class=\"modal-body p-0\"><div class=\"table-responsive\"><table class=\"table table-bordered table-centered mb-0 mktPlace-modal\"><thead class=\"thead-light\"><tr><th>Lojas</th><th>Preço produto</th><th class=\"product-body-sellers\">Forma de Pagamento</th><th>Frete</th><th></th></tr></thead><tbody></tbody></table></div></div><div class=\"m-2\" id=\"magnific-view-shipping\"><div class=\"row cep-seller cep-celler-modal\"><div class=\"col-xl-3\"><p class=\"text-blue mb-0\"><strong>Calcular a Entrega</strong></p><span class=\"badge text-secondary shadow-none\">(Retire na Loja com Frete\n",
              "                            Grátis)</span></div><div class=\"col-xl-9\"><form action=\"?\" class=\"form-inline\" id=\"busca-frete\" method=\"post\"><div class=\"form-group col-xl-9\"><label class=\"sr-only\" for=\"inputPassword2\">Digite seu CEP</label><input class=\"form-control\" data-mask-format=\"00000-000\" data-toggle=\"input-mask\" id=\"input-modal-frete-pdp\" maxlength=\"9\" placeholder=\"Digite seu CEP\" type=\"text\"/></div><div class=\"form-group col-xl-3 pl-0 pr-0\"><button class=\"btn btn-block btn--md btn-blue waves-effect waves-light\" id=\"btn-modal-frete-pdp\" type=\"submit\">CALCULAR</button></div><small class=\"error error-cep\"></small></form></div></div></div></div><!-- /.modal-content --></div><!-- /.modal-dialog --></div><div aria-hidden=\"true\" aria-labelledby=\"myModalLabel\" class=\"modal fade\" id=\"modalUsados\" role=\"dialog\" tabindex=\"-1\"><div class=\"modal-dialog\"><div class=\"modal-content\"><div class=\"modal-header\"><p class=\"modal-title h4 m-0\" id=\"tipo-produto-usado\">Tipo de Produto <span class=\"tipo-produto-escolhido\"></span></p><button aria-hidden=\"true\" class=\"close\" data-dismiss=\"modal\" type=\"button\">×</button></div><div class=\"modal-body\"><div class=\"usados-reembalado-incomm\"><p>Você escolheu um produto <span class=\"tipo-produto-escolhido\"></span></p><p>Para ser revendido, ele passou por avaliações técnicas que certificaram seu perfeito\n",
              "                        funcionamento.\n",
              "                    </p></div><div class=\"onlineIncomm\"><p class=\"m-b-5 m-t-5 h5\">Termos de Uso</p><p>Não é possível a devolução e/ou troca do Cartão pré-pago digital independente da forma de\n",
              "                        pagamento.</p><p>Obs: O envio do código será realizado em até 2 dias uteis após a confirmação do pagamento.</p><div class=\"alert alert-danger bg-danger text-white border-0 m-b-5 m-t-5\"><b>Atenção:</b> o código será enviado por e-mail, confirme seus dados antes de finalizar a\n",
              "                        compra.\n",
              "                    </div><div class=\"checkbox checkbox-info ct-checkbox mb-2\"><input id=\"confirm-digital-card-check\" type=\"checkbox\"/><label for=\"confirm-digital-card-check\">\n",
              "                            Li e aceito os termos e condições\n",
              "                        </label></div></div></div><div class=\"modal-footer\"></div></div><!-- /.modal-content --></div><!-- /.modal-dialog --></div><div class=\"product-bar product-bar-cta\"><a class=\"product__toggler\"><svg height=\"10\" width=\"20\" xmlns=\"http://www.w3.org/2000/svg\"><path d=\"M19.081.5l-8.407 7.57a1.319 1.319 0 0 1-1.769 0L.5.5\" fill=\"none\" stroke=\"#000\" stroke-linecap=\"round\" stroke-linejoin=\"round\"></path></svg></a><div class=\"container-fluid\"><div class=\"product__inner\"><figure class=\"product__image\"><img src=\"\"/></figure><div class=\"product__content\"><h3 class=\"product__title\"></h3></div><div class=\"product__details\"><p class=\"product__category\">Vendido e entregue por: <strong class=\"_seller\"></strong></p><del class=\"product__price-old\"></del><strong class=\"product__price\"></strong><span class=\"product__quantity\"></span></div><div class=\"product__actions\"><a class=\"btn btn-block btn-md btn-saraiva waves-effect waves-light mt-0\">Comprar</a></div></div></div></div></main><script>\n",
              "    jQuery.noConflict();\n",
              "  </script><script src=\"/arquivos/core.min-v3.js?v=28082020-v0\"></script><script src=\"/arquivos/app.min-v3.js?v=28082020-v0\"></script><script src=\"/arquivos/helper-v3.js?v=28082020-v0\"></script><script src=\"/arquivos/slick.min-v3.js?v=28082020-v0\"></script><script src=\"/arquivos/vue-2.6.10.min-v3.js?v=28082020-v0\"></script><script src=\"/arquivos/corebiz.sdk-v3.js?v=28082020-v0\"></script><script src=\"/arquivos/savana.min-v3.js?v=28082020-v0\"></script><script src=\"https://lojasaraiva.vteximg.com.br/arquivos/NavXShop.js?v=19022020-v0\" type=\"text/javascript\"></script><div class=\"____navxshop\" style=\"display: none;\"><script>\n",
              "        window.__navxshop = `Promoções;https://www.saraiva.com.br/promocoes;Promoções\n",
              "Cupom de Desconto;https://www.saraiva.com.br/cupom-de-desconto;Cupom de Desconto`;\n",
              "    </script></div><!-- Product Js --><!--<script src=\"/arquivos/product-details-min-v3.js?v=28082020-v0\"></script>--><script src=\"/arquivos/product-details-min-v4.js?v=11082021\"></script><script src=\"/arquivos/product-deliverys-min-v3.js?v=12012021\"></script><script src=\"/arquivos/pdp-app-v4.js?v=637493565342930000\"></script><!-- /arquivos/pdp-app-v3.js?v=28082020-v0 --><!-- Plugins js --><script src=\"/arquivos/jquery.mask.min-v3.js?v=28082020-v0\"></script><script src=\"/arquivos/autoNumeric-min-v3.js?v=28082020-v0\"></script><script src=\"/arquivos/form-masks.init-v3.js?v=28082020-v0\"></script><script src=\"/arquivos/select2.min-v3.js?v=28082020-v0\"></script><script src=\"/arquivos/notify.min-v3.js?v=28082020-v0\"></script><!-- Product Js WISHLIST --><script src=\"/arquivos/jquery.buylist-v3.js?v=28082020-v0\"></script><script async=\"true\" src=\"https://lojasaraiva.mais.social/loader.js\" type=\"text/javascript\"></script><!-- Tost Prod --><script src=\"/arquivos/jquery.toast.min-v3.js?v=28082020-v0\"></script><!-- Toast init prod--><script src=\"/arquivos/toastr.init.pdp-min-v3.js?v=28082020-v0\"></script><script language=\"javascript\" src=\"https://lojasaraiva.vteximg.com.br/scripts/track.js?v=1.5.56.2482\" type=\"text/javascript\"></script>\n",
              "<script language=\"javascript\" src=\"https://lojasaraiva.vteximg.com.br/scripts/thickbox.js?v=1.5.56.2482\" type=\"text/javascript\"></script>\n",
              "<script language=\"javascript\" src=\"https://lojasaraiva.vteximg.com.br/scripts/json2.js?v=1.5.56.2482\" type=\"text/javascript\"></script>\n",
              "<script language=\"javascript\" src=\"https://lojasaraiva.vteximg.com.br/scripts/vtex.viewpart.callcenterdisclaimer.js?v=1.5.56.2482\" type=\"text/javascript\"></script>\n",
              "<script language=\"javascript\" src=\"https://lojasaraiva.vteximg.com.br/scripts/vtex.viewpart.ajaxloader_v2.js?v=1.5.56.2482\" type=\"text/javascript\"></script>\n",
              "<script language=\"javascript\" src=\"https://lojasaraiva.vteximg.com.br/scripts/vtex.jsevents.js?v=1.5.56.2482\" type=\"text/javascript\"></script>\n",
              "<script language=\"javascript\" src=\"https://lojasaraiva.vteximg.com.br/scripts/vtex.skuevents.js?v=1.5.56.2482\" type=\"text/javascript\"></script>\n",
              "<script language=\"javascript\" src=\"https://lojasaraiva.vteximg.com.br/scripts/vtex.skuevents.skudatafetcher.js?v=1.5.56.2482\" type=\"text/javascript\"></script>\n",
              "</body>\n",
              "</html>"
            ]
          },
          "metadata": {},
          "execution_count": 50
        }
      ]
    },
    {
      "cell_type": "code",
      "source": [
        "title = soup.find('h1', class_='title').string.strip()\n",
        "title"
      ],
      "metadata": {
        "colab": {
          "base_uri": "https://localhost:8080/",
          "height": 183
        },
        "id": "1BRIWnVo1zvy",
        "outputId": "6a73f222-b1c1-4ef1-8ea3-eca3f6378e8c"
      },
      "execution_count": null,
      "outputs": [
        {
          "output_type": "error",
          "ename": "AttributeError",
          "evalue": "ignored",
          "traceback": [
            "\u001b[0;31m---------------------------------------------------------------------------\u001b[0m",
            "\u001b[0;31mAttributeError\u001b[0m                            Traceback (most recent call last)",
            "\u001b[0;32m<ipython-input-43-fb16239628d1>\u001b[0m in \u001b[0;36m<module>\u001b[0;34m()\u001b[0m\n\u001b[0;32m----> 1\u001b[0;31m \u001b[0mtitle\u001b[0m \u001b[0;34m=\u001b[0m \u001b[0msoup\u001b[0m\u001b[0;34m.\u001b[0m\u001b[0mfind\u001b[0m\u001b[0;34m(\u001b[0m\u001b[0;34m'h1'\u001b[0m\u001b[0;34m,\u001b[0m \u001b[0mclass_\u001b[0m\u001b[0;34m=\u001b[0m\u001b[0;34m'title'\u001b[0m\u001b[0;34m)\u001b[0m\u001b[0;34m.\u001b[0m\u001b[0mstring\u001b[0m\u001b[0;34m.\u001b[0m\u001b[0mstrip\u001b[0m\u001b[0;34m(\u001b[0m\u001b[0;34m)\u001b[0m\u001b[0;34m\u001b[0m\u001b[0;34m\u001b[0m\u001b[0m\n\u001b[0m\u001b[1;32m      2\u001b[0m \u001b[0mtitle\u001b[0m\u001b[0;34m\u001b[0m\u001b[0;34m\u001b[0m\u001b[0m\n",
            "\u001b[0;31mAttributeError\u001b[0m: 'NoneType' object has no attribute 'strip'"
          ]
        }
      ]
    }
  ]
}