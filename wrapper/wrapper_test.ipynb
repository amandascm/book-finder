{
  "nbformat": 4,
  "nbformat_minor": 0,
  "metadata": {
    "colab": {
      "name": "wrapper-test.ipynb",
      "provenance": [],
      "authorship_tag": "ABX9TyPemsmsDTwI2mhuAlaq+o3F"
    },
    "kernelspec": {
      "name": "python3",
      "display_name": "Python 3"
    },
    "language_info": {
      "name": "python"
    }
  },
  "cells": [
    {
      "cell_type": "markdown",
      "source": [
        "## Passo a passo\n",
        "1. Criar um wrapper para cada site\n",
        "  - Criação do conjunto rotulado\n",
        "2. Implementar uma solução para todos os sites\n",
        "  - Extra: implementar mais uma solução e fazer análise de erros\n",
        "3. Comparar estratégias (Accuracy, precision, recall...)"
      ],
      "metadata": {
        "id": "eR5BEGYNfmAI"
      }
    },
    {
      "cell_type": "markdown",
      "source": [
        "## Dependências"
      ],
      "metadata": {
        "id": "LuB6W5xCcGJ0"
      }
    },
    {
      "cell_type": "code",
      "execution_count": 1,
      "metadata": {
        "id": "ESBq-_zGcEJK"
      },
      "outputs": [],
      "source": [
        "import re\n",
        "from urllib.request import urlopen, build_opener\n",
        "from bs4 import BeautifulSoup"
      ]
    },
    {
      "cell_type": "code",
      "source": [
        "from google.colab import drive\n",
        "drive.mount('/content/drive')"
      ],
      "metadata": {
        "colab": {
          "base_uri": "https://localhost:8080/"
        },
        "id": "H_MCTLtjMsJg",
        "outputId": "1d2af5e7-6aea-42a2-edb2-40cd82783107"
      },
      "execution_count": 2,
      "outputs": [
        {
          "output_type": "stream",
          "name": "stdout",
          "text": [
            "Mounted at /content/drive\n"
          ]
        }
      ]
    },
    {
      "cell_type": "code",
      "source": [
        "base_path = '/content/drive/MyDrive/2022.1/RI'"
      ],
      "metadata": {
        "id": "KHTyoe-lM3BN"
      },
      "execution_count": 3,
      "outputs": []
    },
    {
      "cell_type": "markdown",
      "source": [
        "## Extratores"
      ],
      "metadata": {
        "id": "xCAO5STudYpS"
      }
    },
    {
      "cell_type": "markdown",
      "source": [
        "### Amazon"
      ],
      "metadata": {
        "id": "IkCWzW5cda3h"
      }
    },
    {
      "cell_type": "markdown",
      "source": [
        "#### Testes"
      ],
      "metadata": {
        "id": "RaBRoGCONyDD"
      }
    },
    {
      "cell_type": "code",
      "source": [
        "file = f'{base_path}/amazon/2022-08-07_18.16.30.962588.html'\n",
        "html = open(file,'r')\n",
        "soup = BeautifulSoup(html, 'html.parser')"
      ],
      "metadata": {
        "id": "JTL2UOTddaGy"
      },
      "execution_count": null,
      "outputs": []
    },
    {
      "cell_type": "code",
      "source": [
        "title = soup.find('span', id='productTitle').string.strip('\\n ')"
      ],
      "metadata": {
        "id": "13VXy7InjbHL"
      },
      "execution_count": null,
      "outputs": []
    },
    {
      "cell_type": "code",
      "source": [
        "title"
      ],
      "metadata": {
        "colab": {
          "base_uri": "https://localhost:8080/",
          "height": 35
        },
        "id": "H_8t2waljlQ-",
        "outputId": "f3861ee9-8d8d-49bb-e3ae-3f9e226ea6d6"
      },
      "execution_count": null,
      "outputs": [
        {
          "output_type": "execute_result",
          "data": {
            "text/plain": [
              "'Disciplina É Liberdade: Manual do Campo'"
            ],
            "application/vnd.google.colaboratory.intrinsic+json": {
              "type": "string"
            }
          },
          "metadata": {},
          "execution_count": 68
        }
      ]
    },
    {
      "cell_type": "code",
      "source": [
        "description_div = soup.find('div', id='bookDescription_feature_div')\n",
        "description_div"
      ],
      "metadata": {
        "colab": {
          "base_uri": "https://localhost:8080/"
        },
        "id": "nxXmilhIN5Ey",
        "outputId": "d8558047-227a-4c68-fb24-d0a539158839"
      },
      "execution_count": null,
      "outputs": [
        {
          "output_type": "execute_result",
          "data": {
            "text/plain": [
              "<div class=\"celwidget\" data-csa-c-id=\"u3yptp-u0uv3c-xgklqn-3nbu45\" data-feature-name=\"bookDescription\" id=\"bookDescription_feature_div\">\n",
              "<div class=\"a-expander-collapsed-height a-row a-expander-container a-spacing-base a-expander-partial-collapse-container\" data-a-expander-collapsed-height=\"140\" data-a-expander-name=\"book_description_expander\" style=\"max-height: none; height: 140px;\"> <div aria-expanded=\"false\" class=\"a-expander-content a-expander-partial-collapse-content\" style=\"padding-bottom: 20px;\"> <span>Os métodos de Jocko Willink para o sucesso nasceram nas equipes SEAL da marinha norte-americana, onde passou grande parte de sua vida adulta, alistando-se depois de sair do ensino médio e subindo na hierarquia até se tornar comandante das operações especiais com as mais altas condecorações na Guerra do Iraque. Em Disciplina É Liberdade, o coautor do livro Responsabilidade Extrema, best-seller do New York Times, descreve como vive segundo este mantra: as disciplinas mental e física que ele impõe a si mesmo para ter liberdade em todos os aspectos da vida. Muitos livros aconselham como superar obstáculos e alcançar seus objetivos, mas tal conselho costuma omitir o ingrediente mais crítico: a disciplina. Sem ela, não há progresso real. A obra Disciplina É Liberdade cobre tudo, inclusive estratégias e táticas para vencer a fraqueza, a procrastinação e o medo. Também apresenta um treinamento físico específico com exercícios para atletas iniciantes, intermediários e avançados, assim como melhores hábitos de sono e ingestão de alimentos recomendados para otimizar a performance. Nestas páginas, descubra o segredo para ser mais forte, mais inteligente, mais rápido e mais saudável. Só há um caminho para alcançar a verdadeira liberdade: O Caminho da Disciplina. Leia este livro e entenda.</span> </div> <div class=\"a-expander-header a-expander-partial-collapse-header\" style=\"opacity: 1; display: block;\"><div class=\"a-expander-content-fade\"></div><a aria-expanded=\"false\" class=\"a-declarative\" data-a-expander-toggle='{\"allowLinkDefault\":true, \"expand_prompt\":\"Leia mais\", \"collapse_prompt\":\"Leia menos\"}' data-action=\"a-expander-toggle\" data-csa-c-func-deps=\"aui-da-a-expander-toggle\" data-csa-c-id=\"jmmuj5-ml3l4j-zgjxo1-c17wmt\" data-csa-c-type=\"widget\" data-csa-interaction-events=\"click\" href=\"javascript:void(0)\" role=\"button\"><i class=\"a-icon a-icon-extender-expand\"></i><span class=\"a-expander-prompt\">Leia mais</span></a></div> </div> </div>"
            ]
          },
          "metadata": {},
          "execution_count": 69
        }
      ]
    },
    {
      "cell_type": "code",
      "source": [
        "info = description_div.div.div.span.string.strip('\\n ')\n",
        "info"
      ],
      "metadata": {
        "colab": {
          "base_uri": "https://localhost:8080/",
          "height": 140
        },
        "id": "lV9BV9w5Oum6",
        "outputId": "78b75ec1-a854-4435-c3b7-2e190c28c981"
      },
      "execution_count": null,
      "outputs": [
        {
          "output_type": "execute_result",
          "data": {
            "text/plain": [
              "'Os métodos de Jocko Willink para o sucesso nasceram nas equipes SEAL da marinha norte-americana, onde passou grande parte de sua vida adulta, alistando-se depois de sair do ensino médio e subindo na hierarquia até se tornar comandante das operações especiais com as mais altas condecorações na Guerra do Iraque. Em Disciplina É Liberdade, o coautor do livro Responsabilidade Extrema, best-seller do New York Times, descreve como vive segundo este mantra: as disciplinas mental e física que ele impõe a si mesmo para ter liberdade em todos os aspectos da vida. Muitos livros aconselham como superar obstáculos e alcançar seus objetivos, mas tal conselho costuma omitir o ingrediente mais crítico: a disciplina. Sem ela, não há progresso real. A obra Disciplina É Liberdade cobre tudo, inclusive estratégias e táticas para vencer a fraqueza, a procrastinação e o medo. Também apresenta um treinamento físico específico com exercícios para atletas iniciantes, intermediários e avançados, assim como melhores hábitos de sono e ingestão de alimentos recomendados para otimizar a performance. Nestas páginas, descubra o segredo para ser mais forte, mais inteligente, mais rápido e mais saudável. Só há um caminho para alcançar a verdadeira liberdade: O Caminho da Disciplina. Leia este livro e entenda.'"
            ],
            "application/vnd.google.colaboratory.intrinsic+json": {
              "type": "string"
            }
          },
          "metadata": {},
          "execution_count": 70
        }
      ]
    },
    {
      "cell_type": "code",
      "source": [
        "authors_div = soup.find('div', id='bylineInfo')\n",
        "authors_div\n",
        "authors_spans = authors_div.find_all('span', class_='author')\n",
        "authors_spans"
      ],
      "metadata": {
        "colab": {
          "base_uri": "https://localhost:8080/"
        },
        "id": "Of_RNWzqPXRa",
        "outputId": "fe5c5b51-6788-4f36-b08f-9432da179578"
      },
      "execution_count": null,
      "outputs": [
        {
          "output_type": "execute_result",
          "data": {
            "text/plain": [
              "[<span class=\"author notFaded\" data-width=\"\">\n",
              " <div class=\"a-popover-preload\" id=\"a-popover-contributor-info-B00ZY7MWW8\"> <div class=\"a-section\"> <table class=\"a-normal\"> <tbody><tr> <td id=\"contributorImageContainerB00ZY7MWW8\"></td> <script data-a-state='{\"key\":\"popoverImage-state\"}' type=\"a-state\">{\"isAjaxComplete_B00ZY7MWW8\":\"0\",\"isAjaxInProgress_B00ZY7MWW8\":\"0\"}</script> <td class=\"a-size-base\"> <div class=\"a-row\"> <span class=\"a-size-medium\">Jocko Willink  <span class=\"a-color-secondary\">(Autor)</span> </span> </div> <div class=\"a-row\"> <span class=\"a-text-bold\">› </span><a class=\"a-link-normal\" href=\"/Jocko-Willink/e/B00ZY7MWW8/ref=dp_byline_cont_pop_book_1\">Visite a página de Jocko Willink</a> </div> <div class=\"a-row a-spacing-base\"> Encontre todos os livros, leia sobre o autor, e muito mais. </div> <div class=\"a-row\"> <span class=\"a-size-small\">Consulte <a class=\"a-link-normal\" href=\"/s/ref=dp_byline_sr_pop_book_1?ie=UTF8&amp;field-author=Jocko+Willink&amp;text=Jocko+Willink&amp;sort=relevancerank&amp;search-alias=stripbooks\">Resultados da pesquisa</a> para este autor</span> </div> </td> </tr> </tbody></table> </div> </div> <span class=\"a-declarative\" data-a-popover='{\"closeButtonLabel\":\"Fechar popover de diálogo do autor\",\"name\":\"contributor-info-B00ZY7MWW8\",\"position\":\"triggerBottom\",\"popoverLabel\":\"Popover de diálogo do autor\",\"allowLinkDefault\":\"true\"}' data-action=\"a-popover\" data-csa-c-func-deps=\"aui-da-a-popover\" data-csa-c-id=\"4cpybo-fmh2a0-y7sodi-7e2z79\" data-csa-c-type=\"widget\"> <a class=\"a-link-normal contributorNameID\" data-asin=\"B00ZY7MWW8\" href=\"/Jocko-Willink/e/B00ZY7MWW8/ref=dp_byline_cont_book_1\">Jocko Willink</a> <a class=\"a-popover-trigger a-declarative\" href=\"javascript:void(0)\" role=\"button\"><i class=\"a-icon a-icon-popover\"></i></a> </span> <span class=\"contribution\" spacing=\"none\">\n",
              " <span class=\"a-color-secondary\">(Autor)</span> </span>\n",
              " </span>]"
            ]
          },
          "metadata": {},
          "execution_count": 71
        }
      ]
    },
    {
      "cell_type": "code",
      "source": [
        "authors = []\n",
        "for author in authors_spans:\n",
        "  if 'Autor' in str(author.find('span', class_='contribution').span.string):\n",
        "    if author.a:\n",
        "      result = str(author.a.string)\n",
        "      authors.append(result if 'Visite' not in result else result.replace('Visite a página de ', ''))"
      ],
      "metadata": {
        "id": "u5WMxWXjP30I"
      },
      "execution_count": null,
      "outputs": []
    },
    {
      "cell_type": "code",
      "source": [
        "authors"
      ],
      "metadata": {
        "colab": {
          "base_uri": "https://localhost:8080/"
        },
        "id": "7bra_sTDQs8Z",
        "outputId": "d440f51d-d69b-498d-d419-7c49a0db312e"
      },
      "execution_count": null,
      "outputs": [
        {
          "output_type": "execute_result",
          "data": {
            "text/plain": [
              "['Jocko Willink']"
            ]
          },
          "metadata": {},
          "execution_count": 75
        }
      ]
    },
    {
      "cell_type": "code",
      "source": [
        "price_span = soup.find('span', id='price')\n",
        "price_span"
      ],
      "metadata": {
        "colab": {
          "base_uri": "https://localhost:8080/"
        },
        "id": "zDI8a7U_UmIn",
        "outputId": "8cf62895-d6d7-47a3-9e6c-70f2c2656c35"
      },
      "execution_count": null,
      "outputs": [
        {
          "output_type": "execute_result",
          "data": {
            "text/plain": [
              "<span class=\"a-size-medium a-color-price header-price a-text-normal\" id=\"price\">R$ 47,93</span>"
            ]
          },
          "metadata": {},
          "execution_count": 81
        }
      ]
    },
    {
      "cell_type": "code",
      "source": [
        "price = ''\n",
        "if price_span:\n",
        "  price = str(price_span.string).replace(u'\\xa0', u' ')\n",
        "\n",
        "price"
      ],
      "metadata": {
        "colab": {
          "base_uri": "https://localhost:8080/",
          "height": 35
        },
        "id": "1QWEs2e4VASE",
        "outputId": "76aeda47-2741-4bb0-a297-2b9dd82cb661"
      },
      "execution_count": null,
      "outputs": [
        {
          "output_type": "execute_result",
          "data": {
            "text/plain": [
              "'R$ 47,93'"
            ],
            "application/vnd.google.colaboratory.intrinsic+json": {
              "type": "string"
            }
          },
          "metadata": {},
          "execution_count": 83
        }
      ]
    },
    {
      "cell_type": "code",
      "source": [
        "details = soup.find('div', id='detailBulletsWrapper_feature_div')"
      ],
      "metadata": {
        "id": "rJnVpgCBVa8A"
      },
      "execution_count": null,
      "outputs": []
    },
    {
      "cell_type": "code",
      "source": [
        "publisher, year, isbn, edition, pages, language = '', '', '', '', '', ''\n",
        "for li in details.div.ul.find_all('li'):\n",
        "  field = str(li.span.span.string)\n",
        "  content = str(li.span.find_all('span')[-1].string)\n",
        "  if 'Editora' in field:  \n",
        "    publication_info = content\n",
        "    if ';' in publication_info:\n",
        "      split_publication_info = publication_info.split(';')\n",
        "      publisher = split_publication_info[0]\n",
        "      year_and_edition_info = split_publication_info[1].split(' edição ')\n",
        "      edition = year_and_edition_info[0]\n",
        "      year = re.search(r'[0-9][0-9][0-9][0-9]', year_and_edition_info[1]).group(0)\n",
        "    else:\n",
        "      publisher = li.span.find_all('span')[-1].string\n",
        "  if 'Idioma' in field:\n",
        "    language = content\n",
        "  if 'página' in content:\n",
        "    pages = re.search(r'[0-9]+', content).group(0)\n",
        "  if 'ISBN' in field:\n",
        "    isbn = content\n",
        "publisher, year, isbn, edition, pages, language"
      ],
      "metadata": {
        "colab": {
          "base_uri": "https://localhost:8080/"
        },
        "id": "orJ4f7IYW6X7",
        "outputId": "9bf19b88-6742-479c-f197-847bc8d27121"
      },
      "execution_count": null,
      "outputs": [
        {
          "output_type": "execute_result",
          "data": {
            "text/plain": [
              "('Alta Books', '2022', '978-6555204865', ' 1ª', '256', 'Português')"
            ]
          },
          "metadata": {},
          "execution_count": 108
        }
      ]
    },
    {
      "cell_type": "markdown",
      "source": [
        "#### Resultados"
      ],
      "metadata": {
        "id": "savvZjbkbAcz"
      }
    },
    {
      "cell_type": "code",
      "source": [
        "def extract_amazon_info(soup):\n",
        "  title = soup.find('span', id='productTitle').string.strip('\\n ')\n",
        "  info = ''\n",
        "  description_div = soup.find('div', id='bookDescription_feature_div')\n",
        "  if description_div:\n",
        "    info = description_div.div.div.text.strip('\\n ')\n",
        "  authors_spans = soup.find('div', id='bylineInfo').find_all('span', class_='author')\n",
        "  authors = []\n",
        "  if authors_spans:\n",
        "    for author in authors_spans:\n",
        "      if 'Autor' in str(author.find('span', class_='contribution').span.string):\n",
        "        if author.a:\n",
        "          result = str(author.a.string)\n",
        "          authors.append(result if 'Visite' not in result else result.replace('Visite a página de ', ''))\n",
        "  price_span = soup.find('span', id='price')\n",
        "  price = ''\n",
        "  if price_span:\n",
        "    price = str(price_span.string).replace(u'\\xa0', u' ')\n",
        "  details = soup.find('div', id='detailBulletsWrapper_feature_div')\n",
        "  publisher, year, isbn, edition, pages, language = '', '', '', '', '', ''\n",
        "  for li in details.div.ul.find_all('li'):\n",
        "    field = str(li.span.span.string)\n",
        "    content = str(li.span.find_all('span')[-1].string)\n",
        "    if 'Editora' in field:  \n",
        "      publication_info = content\n",
        "      if ';' in publication_info:\n",
        "        split_publication_info = publication_info.split(';')\n",
        "        publisher = split_publication_info[0]\n",
        "        if 'edição' in split_publication_info[1]:\n",
        "          year_and_edition_info = split_publication_info[1].split(' edição ')\n",
        "          edition = year_and_edition_info[0]\n",
        "          year = re.search(r'[0-9][0-9][0-9][0-9]', year_and_edition_info[1]).group(0)\n",
        "        else:\n",
        "          year = re.search(r'[0-9][0-9][0-9][0-9]', split_publication_info[1]).group(0)\n",
        "      else:\n",
        "        publisher = li.span.find_all('span')[-1].string\n",
        "    elif 'Idioma' in field:\n",
        "      language = content\n",
        "    elif 'página' in content:\n",
        "      pages = re.search(r'[0-9]+', content).group(0)\n",
        "    elif 'ISBN' in field:\n",
        "      isbn = content\n",
        "  return {\n",
        "      \"title\": title,\n",
        "      \"publisher\": publisher,\n",
        "      \"price\": price,\n",
        "      \"info\": info,\n",
        "      \"authors\": authors,\n",
        "      \"year\": year,\n",
        "      \"isbn\": isbn,\n",
        "      \"edition\": edition,\n",
        "      \"pages\": pages,\n",
        "      \"language\": language\n",
        "  }"
      ],
      "metadata": {
        "id": "4_5G1YbCa-mj"
      },
      "execution_count": null,
      "outputs": []
    },
    {
      "cell_type": "code",
      "source": [
        "file = f'{base_path}/amazon/2022-08-07_18.16.30.962588.html'\n",
        "html = open(file,'r')\n",
        "soup = BeautifulSoup(html, 'html.parser')"
      ],
      "metadata": {
        "id": "O1qXRQKSbyPN"
      },
      "execution_count": null,
      "outputs": []
    },
    {
      "cell_type": "code",
      "source": [
        "import os"
      ],
      "metadata": {
        "id": "Z2sWcUbOb_AJ"
      },
      "execution_count": null,
      "outputs": []
    },
    {
      "cell_type": "code",
      "source": [
        "path = f'{base_path}/amazon'\n",
        "for book in os.listdir(path):\n",
        "  file = os.path.join(path, book)\n",
        "  if '.html' in file:\n",
        "    html = open(file,'r')\n",
        "    print(extract_amazon_info(BeautifulSoup(html, 'html.parser')))"
      ],
      "metadata": {
        "colab": {
          "base_uri": "https://localhost:8080/"
        },
        "id": "YPmoerYQb0X1",
        "outputId": "cca7035e-daa8-4397-eeda-39e97a743fc8"
      },
      "execution_count": null,
      "outputs": [
        {
          "output_type": "stream",
          "name": "stdout",
          "text": [
            "{'title': 'Disciplina É Liberdade: Manual do Campo', 'publisher': 'Alta Books', 'price': 'R$ 47,93', 'info': 'Os métodos de Jocko Willink para o sucesso nasceram nas equipes SEAL da marinha norte-americana, onde passou grande parte de sua vida adulta, alistando-se depois de sair do ensino médio e subindo na hierarquia até se tornar comandante das operações especiais com as mais altas condecorações na Guerra do Iraque. Em Disciplina É Liberdade, o coautor do livro Responsabilidade Extrema, best-seller do New York Times, descreve como vive segundo este mantra: as disciplinas mental e física que ele impõe a si mesmo para ter liberdade em todos os aspectos da vida. Muitos livros aconselham como superar obstáculos e alcançar seus objetivos, mas tal conselho costuma omitir o ingrediente mais crítico: a disciplina. Sem ela, não há progresso real. A obra Disciplina É Liberdade cobre tudo, inclusive estratégias e táticas para vencer a fraqueza, a procrastinação e o medo. Também apresenta um treinamento físico específico com exercícios para atletas iniciantes, intermediários e avançados, assim como melhores hábitos de sono e ingestão de alimentos recomendados para otimizar a performance. Nestas páginas, descubra o segredo para ser mais forte, mais inteligente, mais rápido e mais saudável. Só há um caminho para alcançar a verdadeira liberdade: O Caminho da Disciplina. Leia este livro e entenda.', 'authors': ['Jocko Willink'], 'year': '2022', 'isbn': '978-6555204865', 'edition': ' 1ª', 'pages': '256', 'language': 'Português'}\n",
            "{'title': 'O código do herói: Lições aprendidas das vidas que vivemos', 'publisher': 'Academia', 'price': 'R$ 39,90', 'info': 'Faça a diferença no mundo! Quando era um menino, William McRaven sonhava em ser um super-herói. Ansiava por vestir uma capa e usar seus superpoderes para salvar a terra da destruição. Na primeira vez que visitou a cidade de Nova York com o pai, ficava olhando para o alto, a espera de ver o Super-Homem ou o Batman no topo dos edifícios. O código do herói é uma homenagem do almirante William W. McRaven aos heróis reais e cotidianos que ele conheceu nos campos de batalha, nos hospitais, nas universidades, em todos os lugares por onde passou. Pessoas que estão fazendo a sua parte para melhorar a vida de todo mundo. Homens e mulheres que não são fortes e nem usam capa, mas possuem outras qualidades: coragem física e moral, humildade, disposição para se sacrificar e um profundo senso de integridade. O autor resgata esses exemplos e apresenta quais são as qualidades inatas que qualquer pessoa pode desenvolver para se transformar em um super-herói na sua comunidade. E fazer, de fato, a diferença na vida das pessoas.', 'authors': ['William H. McRaven'], 'year': '2021', 'isbn': '978-6555353273', 'edition': ' 1ª', 'pages': '160', 'language': 'Português'}\n",
            "{'title': 'A Arte da Guerra Segundo os Seals da Marinha Norte-Americana', 'publisher': 'Cultrix', 'price': 'R$ 45,00', 'info': 'Com a experiência adquirida durante as décadas em que serviu nos SEALs da Marinha dos Estados Unidos, Rob Roy demonstra como as habilidades que permitem às equipes SEALs alcançarem o impossível no campo de batalha podem ajudar executivos e profissionais de todas as áreas a tomar decisões melhores e a formar equipes mais entrosadas e de alta performance. O livro traz exercícios e práticas inéditos do programa de treinamento dos SEALs, histórias de frente de batalha e de empresas de vários setores, além de lições inspiradas no clássico A Arte da Guerra, de Sun Tzu.', 'authors': ['Rob Roy', 'Chris Lawson'], 'year': '2016', 'isbn': '978-8531613562', 'edition': ' 1ª', 'pages': '216', 'language': 'Português'}\n",
            "{'title': 'Candlestick: um Método Para Ampliar Lucros na Bolsa de Valores', 'publisher': 'Novatec Editora', 'price': 'R$ 63,54', 'info': 'A análise dos gráficos de Candlestick é uma técnica amplamente utilizada pelos operadores de bolsas de valores no mundo inteiro. De origem japonesa, esse refinado método avalia o comportamento do mercado, sendo muito eficaz na previsão de mudanças em tendências, o que permite desvendar fatores psicológicos por trás dos gráficos, incrementando a lucratividade dos investimentos. Candlestick – Um método para ampliar lucros na Bolsa de Valores é uma obra bem estruturada e totalmente ilustrada. A preocupação do autor em utilizar uma linguagem clara e acessível a torna leve e de fácil assimilação, mesmo para leigos. Cada padrão de análise abordado possui um modelo com sua figura clássica, facilitando a identificação. Depois das características, das peculiaridades e dos fatores psicológicos do padrão, é apresentado o gráfico de um caso real aplicado a uma ação negociada na Bovespa. Este livro possui, ainda, um índice resumido dos padrões para pesquisa rápida na utilização cotidiana.', 'authors': ['Carlos Alberto Debastiani'], 'year': '2021', 'isbn': '978-6586057676', 'edition': ' 2ª', 'pages': '288', 'language': 'Português'}\n",
            "{'title': 'Fundamentos de Circuitos Elétricos', 'publisher': 'AMGH', 'price': 'R$ 166,17', 'info': 'Este livro é uma das referências mais tradicionais para a conceituação da análise de circuitos elétricos. A metodologia de ensino, mantida de edições anteriores, foi elaborada com o objetivo de exercitar o senso crítico dos estudantes e habilitá-los a analisar e interpretar determinados problemas da área.\\xa0Trata-se de leitura essencial para estudantes de engenharia elétrica que desejam compreender melhor a teoria sobre o tema e desenvolver habilidades básicas de projeto.\\xa0Razões para comprar:\\xa0Conteúdo pedagógico (termos-chave e fórmulas mais importantes em destaque, hipertextos que apresentam dicas ou lembretes conectando conceitos);\\xa0Cerca de 400 problemas novos ou modificados divididos em práticos, teóricos e computacionais (programas: Matlab, Pspice e KCIDE);\\xa0Seção especial, em todos os capítulos, que fundamenta um método de seis etapas para a resolução de problemas envolvendo circuitos.', 'authors': ['Charles K. Alexander', 'Matthew Sadiku'], 'year': '2013', 'isbn': '978-8580551723', 'edition': ' 5ª', 'pages': '896', 'language': 'Português'}\n",
            "{'title': 'O Hobbit + pôster', 'publisher': 'HarperCollins', 'price': 'R$ 29,39', 'info': 'Bilbo Bolseiro era um dos mais respeitáveis hobbits de todo o Condado até que, um dia, o mago Gandalf bate à sua porta. A partir de então, toda sua vida pacata e campestre soprando anéis de fumaça com seu belo cachimbo começa a mudar. Ele é convocado a participar de uma aventura por ninguém menos do que Thorin Escudo-de-Carvalho, um príncipe do poderoso povo dos Anãos. Esta jornada fará Bilbo, Gandalf e 13 anãos atravessarem a Terra-média, passando por inúmeros perigos, sejam eles, os imensos trols, as Montanhas Nevoentas infestadas de gobelins ou a muito antiga e misteriosa Trevamata, até chegarem (se conseguirem) na Montanha Solitária. Lá está um incalculável tesouro, mas há um porém. Deitado em cima dele está Smaug, o Dourado, um dragão malicioso que... bem, você terá que ler e descobrir.Lançado em 1937, O Hobbit é um divisor de águas na literatura fantástica mundial. Mais de 80 anos após a sua publicação, o livro que antecede os ocorridos em O Senhor dos Anéis continua arrebatando fãs de todas as idades, talvez pelo seu tom brincalhão com uma pitada de magia élfica, ou talvez porque J.R.R. Tolkien tenha escrito o melhor livro infanto-juvenil de todos os tempos.', 'authors': ['J.R.R. Tolkien'], 'year': '2019', 'isbn': '978-8595084742', 'edition': ' 1ª', 'pages': '336', 'language': 'Português'}\n",
            "{'title': 'A revolução dos bichos: Um conto de fadas', 'publisher': 'Companhia das Letras', 'price': 'R$ 9,90', 'info': 'Verdadeiro clássico moderno, concebido por um dos mais influentes escritores do século XX, A revolução dos bichos é uma fábula sobre o poder. Narra a insurreição dos animais de uma granja contra seus donos. Progressivamente, porém, a revolução degenera numa tirania ainda mais opressiva que a dos humanos. Escrita em plena Segunda Guerra Mundial e publicada em 1945 depois de ter sido rejeitada por várias editoras, essa pequena narrativa causou desconforto ao satirizar ferozmente a ditadura stalinista numa época em que os soviéticos ainda eram aliados do Ocidente na luta contra o eixo nazifascista. De fato, são claras as referências: o despótico Napoleão seria Stálin, o banido Bola-de-Neve seria Trotsky, e os eventos políticos - expurgos, instituição de um estado policial, deturpação tendenciosa da História - mimetizam os que estavam em curso na União Soviética. Com o acirramento da Guerra Fria, as mesmas razões que causaram constrangimento na época de sua publicação levaram A revolução dos bichos a ser amplamente usada pelo Ocidente nas décadas seguintes como arma ideológica contra o comunismo. O próprio Orwell, adepto do socialismo e inimigo de qualquer forma de manipulação política, sentiu-se incomodado com a utilização de sua fábula como panfleto. Depois das profundas transformações políticas que mudaram a fisionomia do planeta nas últimas décadas, a pequena obra-prima de Orwell pode ser vista sem o viés ideológico reducionista. Mais de sessenta anos depois de escrita, ela mantém o viço e o brilho de uma alegoria perene sobre as fraquezas humanas que levam à corrosão dos grandes projetos de revolução política. É irônico que o escritor, para fazer esse retrato cruel da humanidade, tenha recorrido aos animais como personagens. De certo modo, a inteligência política que humaniza seus bichos é a mesma que animaliza os homens. Escrito com perfeito domínio da narrativa, atenção às minúcias e extraordinária capacidade de criação de personagens e situações, A revolução dos bichos combina de maneira feliz duas ricas tradições literárias: a das fábulas morais, que remontam a Esopo, e a da sátira política, que teve talvez em Jonathan Swift seu representante máximo. \"A melhor sátira já escrita sobre a face negra da história moderna.\" Malcolm Bradbury \"Um livro para todos os tipos de leitor, seu brilho ainda intacto depois de sessenta anos.\" Ruth Rendell', 'authors': ['George Orwell'], 'year': '2007', 'isbn': '978-8535909555', 'edition': ' 1ª', 'pages': '152', 'language': 'Português'}\n",
            "{'title': '1984', 'publisher': 'Tricaju', 'price': 'R$ 9,91', 'info': 'Publicado em 1949, o texto de Orwell nasceu destinado à polêmica. Traduzido em mais de sessenta países, virou minissérie, filmes, quadrinhos, mangás e até uma ópera. Ganhou holofotes em 1999, quando uma produtora holandesa batizou seu reality show de Big Brother. 1984 foi responsável pela popularização de muitos termos e conceitos, como Grande Irmão, duplopensar, novidioma, buraco da memória e 2 2 5. O trabalho de Winston, o herói de 1984, é reescrever artigos de jornais do passado, de modo que o registro histórico sempre apoie a ideologia do Partido. Grande parte do Ministério também destrói os documentos que não foram revisados, dessa forma não há como provar que o governo esteja mentindo. Winston é um trabalhador diligente e habilidoso, mas odeia secretamente o Partido e sonha com a rebelião contra o Grande Irmão.', 'authors': ['George Orwell'], 'year': '2021', 'isbn': '978-6589678007', 'edition': ' Texto integral traduzido do original em inglês', 'pages': '336', 'language': 'Português'}\n",
            "{'title': 'A arte da guerra', 'publisher': 'Principis', 'price': 'R$ 9,76', 'info': '\"A guerra é um assunto de importância vital para o Estado; o reino da vida ou da morte; o caminho para a sobrevivência ou a ruína. É indispensável estudá-la profundamente.\" Sun Tzu', 'authors': ['Sun Tzu'], 'year': '2019', 'isbn': '978-8594318596', 'edition': ' 3ª', 'pages': '160', 'language': 'Português'}\n",
            "{'title': 'O Príncipe: Texto Integral', 'publisher': 'Edipro', 'price': 'R$ 14,68', 'info': 'Nesta obra, que é um clássico sobre pensamento político, o grande escritor Maquiavel mostra como funciona a ciência política. Discorre sobre os diferentes tipos de Estado e ensina como um príncipe pode conquistar e manter o domínio sobre um Estado. Trata daquilo que é o seu objetivo principal: as virtudes que o governante deve adquirir e os vícios que deve evitar para manter-se no poder. Maquiavel mostra em\\xa0O Príncipe\\xa0que a moralidade e a ciência política são separadas. Ele aponta a contradição entre governar um Estado e, ao mesmo tempo, levar uma vida moral.', 'authors': ['Nicolau Maquiavel'], 'year': '2018', 'isbn': '978-8572839044', 'edition': '', 'pages': '96', 'language': 'Português'}\n",
            "{'title': 'O Contrato Social: Princípios do Direito Político', 'publisher': 'Edipro', 'price': 'R$ 13,84', 'info': 'Publicado em 1762, \"O Contrato Social\" ou Princípios do Direito Político é um impactante clássico que fundamenta o nascimento dos Direitos Humanos e dos ideais igualitários.É um estudo dos princípios do Direito Político e da Teoria do Estado.Considerada a obra-prima do filósofo iluminista Jean-Jacques Rousseau, expõe a ideia de que o poder político está no povo, portanto, este é soberano e responsável pelo seu próprio destino.A obra traz texto integral, traduzido direto do idioma original (francês), pelo consagrado tradutor de clássicos Edson Bini.', 'authors': ['Jean-Jacques Rousseau'], 'year': '2017', 'isbn': '978-8572839297', 'edition': '', 'pages': '128', 'language': 'Português'}\n",
            "{'title': 'Pai Rico, Pai Pobre - Edição de 20 anos atualizada e ampliada: O que os ricos ensinam a seus filhos sobre dinheiro', 'publisher': 'Alta Books', 'price': 'R$ 32,90', 'info': 'Celebrando 20 anos com o livro n° 1 em finanças pessoais.A escola prepara as crianças para o mundo real?\\xa0\\xa0Essa é a primeira pergunta com a qual o leitor se depara neste livro.\\xa0\\xa0O recado é ousado e direto: boa formação e notas altas não bastam para assegurar o sucesso de alguém.\\xa0O mundo mudou; a maioria dos jovens tem cartão de crédito, antes mesmo de concluir os estudos, e nunca teve aula sobre dinheiro, investimentos, juros etc.\\xa0Ou seja, eles vão para a escola, mas continuam financeiramente improficientes, despreparados para enfrentar um mundo que valoriza mais as despesas do que a poupança.Para o autor,\\xa0o conselho mais perigoso que se pode dar a um jovem nos dias de hoje é: “Vá para a escola, tire notas altas e depois procure um trabalho seguro.”\\xa0\\xa0O fato é que agora as regras são outras, e não existe mais emprego garantido para ninguém.\\xa0\\xa0Pai Rico, Pai Pobre demonstra que a questão não é ser empregado ou empregador, mas ter o controle do próprio destino ou delegá-lo a alguém.\\xa0\\xa0É essa a tese de Robert Kiyosaki neste livro substancial e visionário.\\xa0\\xa0Para ele, a formação proporcionada pelo sistema educacional não prepara os jovens para o mundo que encontrarão depois de formados\\xa0E como os pais podem ensinar aos filhos o que a escola relega? Essa é outra das muitas perguntas que o leitor encontra em Pai Rico, Pai Pobre.\\xa0Nesse sentido, a proposta do autor é facilitar a tarefa dos pais. Quem entende de contabilidade deve esquecer seus conhecimentos acadêmicos, pois muitas das teorias expostas por Robert Kiyosaki contrariam os princípios contábeis comumente aceitos, e apresentam uma valiosa e moderna percepção do modo como se realizam os investimentos.A sociedade sofre mudanças radicais e, talvez, de proporções maiores do que as ocorridas em séculos passados. Não existe bola de cristal, mas algo é certo: a perspectiva global de transformações transcende nossa realidade imediata. Aconteça o que acontecer,só existem duas alternativas: segurança ou independência financeira.\\xa0E o objetivo de Pai Rico, Pai Pobre é instruir o leitor e despertar sua inteligência financeira e a de seus filhos.\"A principal razão pela qual as pessoas têm problemas financeiros é que passaram anos na escola, mas não aprenderam nada sobre dinheiro. O resultado é que elas aprendem a trabalhar por dinheiro… mas nunca a fazê-lo trabalhar para elas.\"- Robert Kiyosaki.', 'authors': ['Robert T. Kiyosaki'], 'year': '2018', 'isbn': '978-8550801483', 'edition': '', 'pages': '336', 'language': 'Português'}\n",
            "{'title': 'O Capital [Livro I]: crítica da economia política. O processo de produção do capital', 'publisher': 'Boitempo', 'price': 'R$ 85,18', 'info': \"Em 2011, a Boitempo deu início a uma de suas maiores empreitadas editoriais: a tradução completa de O capital, a principal obra de maturidade de Karl Marx. Em março de 2013, em meio ao projeto MARX: a criação destruidora, um conjunto de eventos que reuniu milhares de pessoas para debater a atualidade de seu pensamento, foi lançado o primeiro livro, O processo de produção do capital, traduzido pela primeira vez a partir da edição preparada no âmbito do projeto alemão MEGA-2 (Marx-Engels Gesamtausgabe), com tradução de Rubens Enderle.O clássico de Marx foi originalmente publicado na Alemanha em 1867 e é considerado a mais profunda investigação crítica do modo de produção capitalista. O capital, da Boitempo, é o décimo sexto volume da Coleção Marx e Engels e conta com introduções de Jacob Gorender, José Arthur Giannotti e Louis Althusser, além de texto de orelha de Francisco de Oliveira.O capital é uma contribuição basilar ao pensamento anticapitalista, em especial a tradição marxista, que de certo modo se consolida com este livro. O objetivo de Marx era, por meio de uma crítica da economia política, compreender como o capitalismo funciona. Diante desse desafio, ele desenvolveu um aparato conceitual e metodológico para entender toda a complexidade do capitalismo, as categorias que constituem a articulação interna da sociedade burguesa e a relação direta entre acumulação de capital e exploração da força de trabalho.O percurso a ser seguido para entender a lógica do capital é árduo, lembra Francisco de Oliveira, no texto de orelha. Segundo ele, a leitura de O capital tem de ser feita de maneira paciente e disciplinada, tendo em vista a complexidade do objeto de análise de Marx. 'Ele examina antes de tudo a mercadoria e sua formação, pois o capitalismo continua a ser, mesmo em sua fase amplamente financeirizada, um modo de produção de mercadorias', explica o sociólogo.José Arthur Giannotti realça em sua apresentação que a obra de Marx nunca perdeu seu interesse e sua relevância, a despeito das idas e vindas das modas atuais do pensar e dos novos paradigmas em que a ciência econômica se alicerça. Como explicar essa permanência? 'Parece-me que isso ocorre porque ela é mais do que um texto científico. Ao salientar a especificidade das relações fetichizadas do capital, a análise retoma a antiga questão do ser social e de sua historicidade', afirma o filósofo. E termina com um desafio: 'A questão hoje em dia é mais do que teórica. A grande crise pela qual estamos passando coloca em pauta a alienação do capital, em particular do capital financeiro, e a necessidade de alguma regulamentação internacional dos mercados. No fim das contas, que futuro queremos ter? É possível pensar o futuro sem levar em conta as análises deste livro chamado O capital?'.\", 'authors': ['Karl Marx'], 'year': '2011', 'isbn': '978-8575595480', 'edition': ' 2ª', 'pages': '894', 'language': 'Português'}\n",
            "{'title': 'Manifesto Comunista', 'publisher': 'Boitempo', 'price': 'R$ 35,81', 'info': 'No final de fevereiro de 1848, foi publicado em Londres um pequeno panfleto que acabaria por se tornar o documento político mais importante de todos os tempos: o Manifesto Comunista, de Karl Marx e Friedrich Engels. Passado mais de um século e meio, a atualidade e o vigor deste texto continuam reconhecidos por intelectuais das mais diversas correntes de pensamento.A Boitempo Editorial utilizou, com alguns ajustes ortográficos, a tradução feita por Álvaro Pina a partir da edição alemã de 1890, prefaciada e anotada por Engels. O cotejo foi feito de forma minuciosa com as principais edições inglesa, francesa e italiana, confrontadas com duas edições brasileiras anteriores.Além do Manifesto Comunista em si, o volume traz ainda a reflexão de seis especialistas sobre as múltiplas facetas desta que é, ainda hoje, a obra política mais lida e difundida em todo o mundo. Com organização de Osvaldo Coggiola, o livro tem ensaios de Antonio Labriola, Jean Jaurès, Leon Trotsky, Harold Laski, Lucien Martin e James Petras. A edição compila ainda sete prefácios de Marx e Engels à obra, feitos em diferentes períodos.', 'authors': ['Karl Marx', 'Friedrich Engels'], 'year': '1998', 'isbn': '978-8585934231', 'edition': ' 1ª', 'pages': '254', 'language': 'Português'}\n",
            "{'title': 'Eu sou Malala: A história da garota que defendeu o direito à educação e foi baleada pelo Talibã', 'publisher': 'Companhia das Letras', 'price': 'R$ 33,53', 'info': 'Quando o Talibã tomou controle do vale do Swat, uma menina levantou a voz. Malala Yousafzai recusou-se a permanecer em silêncio e lutou pelo seu direito à educação. Mas em 9 de outubro de 2012, uma terça-feira, ela quase pagou o preço com a vida. Malala foi atingida na cabeça por um tiro à queima-roupa dentro do ônibus no qual voltava da escola. Poucos acreditaram que ela sobreviveria. Mas a recuperação milagrosa de Malala a levou em uma viagem extraordinária de um vale remoto no norte do Paquistão para as salas das Nações Unidas em Nova York. Aos dezesseis anos, ela se tornou um símbolo global de protesto pacífico e a candidata mais jovem da história a receber o Prêmio Nobel da Paz. Eu sou Malala é a história de uma família exilada pelo terrorismo global, da luta pelo direito à educação feminina e dos obstáculos à valorização da mulher em uma sociedade que valoriza filhos homens. O livro acompanha a infância da garota no Paquistão, os primeiros anos de vida escolar, as asperezas da vida numa região marcada pela desigualdade social, as belezas do deserto e as trevas da vida sob o Talibã. Escrito em parceria com a jornalista britânica Christina Lamb, este livro é uma janela para a singularidade poderosa de uma menina cheia de brio e talento, mas também para um universo religioso e cultural cheio de interdições e particularidades, muitas vezes incompreendido pelo Ocidente. “Sentar numa cadeira, ler meus livros rodeada pelos meus amigos é um direito meu”, ela diz numa das últimas passagens do livro. A história de Malala renova a crença na capacidade de uma pessoa de inspirar e modificar o mundo.', 'authors': ['Malala Yousafzai', 'Christina Lamb'], 'year': '2013', 'isbn': '978-8535923438', 'edition': ' 1ª', 'pages': '360', 'language': 'Português'}\n"
          ]
        }
      ]
    },
    {
      "cell_type": "markdown",
      "source": [
        "### Cultura"
      ],
      "metadata": {
        "id": "oosLtqcwlJEl"
      }
    },
    {
      "cell_type": "markdown",
      "source": [
        "#### Testes"
      ],
      "metadata": {
        "id": "iHgLODbayuNL"
      }
    },
    {
      "cell_type": "code",
      "source": [
        "url = 'https://www3.livrariacultura.com.br/corpo-fala-61038/p'\n",
        "opener = build_opener()\n",
        "opener.addheaders = [('User-agent', 'Mozilla/5.0')]\n",
        "soup = BeautifulSoup(opener.open(url), 'html.parser')"
      ],
      "metadata": {
        "id": "RFjXgoLslLUu"
      },
      "execution_count": null,
      "outputs": []
    },
    {
      "cell_type": "code",
      "source": [
        "title = soup.find(\"h1\", {\"class\": \"title_product\"}).div.string"
      ],
      "metadata": {
        "id": "k3K26oWamIxf"
      },
      "execution_count": null,
      "outputs": []
    },
    {
      "cell_type": "code",
      "source": [
        "title"
      ],
      "metadata": {
        "colab": {
          "base_uri": "https://localhost:8080/",
          "height": 35
        },
        "id": "x7qgm3aom7KJ",
        "outputId": "bf5788ea-735a-4e50-d82d-29b2920480b7"
      },
      "execution_count": null,
      "outputs": [
        {
          "output_type": "execute_result",
          "data": {
            "text/plain": [
              "'CORPO FALA'"
            ],
            "application/vnd.google.colaboratory.intrinsic+json": {
              "type": "string"
            }
          },
          "metadata": {},
          "execution_count": 63
        }
      ]
    },
    {
      "cell_type": "code",
      "source": [
        "author_div = soup.find(class_='meta authors')\n",
        "author = author_div.h2.a.string if author_div.h2.a else ''"
      ],
      "metadata": {
        "id": "na3IPqd0nZhL"
      },
      "execution_count": null,
      "outputs": []
    },
    {
      "cell_type": "code",
      "source": [
        "author"
      ],
      "metadata": {
        "colab": {
          "base_uri": "https://localhost:8080/",
          "height": 35
        },
        "id": "sRL9rnhqoQde",
        "outputId": "0acfabdb-561c-41e8-aa6b-077bcd0ccf14"
      },
      "execution_count": null,
      "outputs": [
        {
          "output_type": "execute_result",
          "data": {
            "text/plain": [
              "''"
            ],
            "application/vnd.google.colaboratory.intrinsic+json": {
              "type": "string"
            }
          },
          "metadata": {},
          "execution_count": 65
        }
      ]
    },
    {
      "cell_type": "code",
      "source": [
        "publisher_div = soup.find('div', class_='publisher')\n",
        "publisher = publisher_div.h2.div.a.string if publisher_div.h2.div else ''"
      ],
      "metadata": {
        "id": "nc65ttuWpUau"
      },
      "execution_count": null,
      "outputs": []
    },
    {
      "cell_type": "code",
      "source": [
        "publisher"
      ],
      "metadata": {
        "colab": {
          "base_uri": "https://localhost:8080/",
          "height": 35
        },
        "id": "0WQn48d1qNQg",
        "outputId": "7f1a8cc7-f6fc-425a-f431-733c719617e8"
      },
      "execution_count": null,
      "outputs": [
        {
          "output_type": "execute_result",
          "data": {
            "text/plain": [
              "'VOZES'"
            ],
            "application/vnd.google.colaboratory.intrinsic+json": {
              "type": "string"
            }
          },
          "metadata": {},
          "execution_count": 67
        }
      ]
    },
    {
      "cell_type": "code",
      "source": [
        "info_div = soup.find('div', id='info-product')\n",
        "book_info = info_div.string if info_div else ''"
      ],
      "metadata": {
        "id": "ugF6ExJQrT3J"
      },
      "execution_count": null,
      "outputs": []
    },
    {
      "cell_type": "code",
      "source": [
        "book_info"
      ],
      "metadata": {
        "colab": {
          "base_uri": "https://localhost:8080/",
          "height": 35
        },
        "id": "iJUz8zUirkr1",
        "outputId": "806e7062-02e3-46e6-e2bd-cdbca51bf622"
      },
      "execution_count": null,
      "outputs": [
        {
          "output_type": "execute_result",
          "data": {
            "text/plain": [
              "''"
            ],
            "application/vnd.google.colaboratory.intrinsic+json": {
              "type": "string"
            }
          },
          "metadata": {},
          "execution_count": 46
        }
      ]
    },
    {
      "cell_type": "code",
      "source": [
        "prod_spec = soup.find(class_='section-produto-especificacoes')"
      ],
      "metadata": {
        "id": "SAsylPsnrsTV"
      },
      "execution_count": null,
      "outputs": []
    },
    {
      "cell_type": "code",
      "source": [
        "prod_spec"
      ],
      "metadata": {
        "colab": {
          "base_uri": "https://localhost:8080/"
        },
        "id": "eNKNSN3Qwz2A",
        "outputId": "c7c0ccdd-42d0-4471-91e1-4302f38e8f7f"
      },
      "execution_count": null,
      "outputs": [
        {
          "output_type": "execute_result",
          "data": {
            "text/plain": [
              "<section class=\"section-produto-especificacoes\"><div class=\"container\"><div class=\"info\" id=\"produto-especificacoes\"><div class=\"vtex-productSpecification\" style=\"display: none;\"><div id=\"caracteristicas\"><h4 class=\"group Especificacoes\">Especificações</h4><table cellspacing=\"0\" class=\"group Especificacoes\"><tr class=\"even\"><th class=\"name-field Ano-de-Edicao\">Ano de Edição</th><td class=\"value-field Ano-de-Edicao\">2015</td></tr><tr><th class=\"name-field Colaborador\">Colaborador</th><td class=\"value-field Colaborador\">Autor:WEIL, PIERRE|Autor:TOMPAKOW, ROLAND</td></tr><tr class=\"even\"><th class=\"name-field Editora\">Editora</th><td class=\"value-field Editora\">VOZES</td></tr><tr><th class=\"name-field ISBN\">ISBN</th><td class=\"value-field ISBN\">8532602088</td></tr><tr class=\"even\"><th class=\"name-field Ano\">Ano</th><td class=\"value-field Ano\">2015</td></tr><tr><th class=\"name-field Edicao\">Edição</th><td class=\"value-field Edicao\">1</td></tr><tr class=\"even\"><th class=\"name-field Origem\">Origem</th><td class=\"value-field Origem\">Nacional</td></tr><tr><th class=\"name-field Formato\">Formato</th><td class=\"value-field Formato\">LIVRO</td></tr><tr class=\"even\"><th class=\"name-field Encadernacao\">Encadernação</th><td class=\"value-field Encadernacao\">BROCHURA</td></tr><tr><th class=\"name-field Idioma\">Idioma</th><td class=\"value-field Idioma\">PORTUGUÊS</td></tr><tr class=\"even\"><th class=\"name-field Pais\">País</th><td class=\"value-field Pais\">BRASIL</td></tr><tr><th class=\"name-field Paginas\">Páginas</th><td class=\"value-field Paginas\">288</td></tr></table></div></div></div></div></section>"
            ]
          },
          "metadata": {},
          "execution_count": 89
        }
      ]
    },
    {
      "cell_type": "code",
      "source": [
        "def treat_author(author_string: str):\n",
        "  authors = author_string.split('|')\n",
        "  result = []\n",
        "  for a in authors:\n",
        "    if not 'Autor' in a:\n",
        "      continue\n",
        "    name = a.replace('Autor:', '')\n",
        "    name = name.split(', ')\n",
        "    name.reverse()\n",
        "    result.append(' '.join(name))\n",
        "  return result\n",
        "\n",
        "author_data = prod_spec.find('td', class_='value-field Colaborador')\n",
        "authors = treat_author(author_data.string) if author_data else ''"
      ],
      "metadata": {
        "id": "f8pq47-gtmWZ"
      },
      "execution_count": null,
      "outputs": []
    },
    {
      "cell_type": "code",
      "source": [
        "author_data"
      ],
      "metadata": {
        "colab": {
          "base_uri": "https://localhost:8080/"
        },
        "id": "DTI12HiP2l3Z",
        "outputId": "0f1dd850-50f1-4e17-de6a-76129d938be5"
      },
      "execution_count": null,
      "outputs": [
        {
          "output_type": "execute_result",
          "data": {
            "text/plain": [
              "<td class=\"value-field Colaborador\">Autor:WEIL, PIERRE|Autor:TOMPAKOW, ROLAND</td>"
            ]
          },
          "metadata": {},
          "execution_count": 104
        }
      ]
    },
    {
      "cell_type": "code",
      "source": [
        "authors"
      ],
      "metadata": {
        "colab": {
          "base_uri": "https://localhost:8080/"
        },
        "id": "TYdTCh18vBHP",
        "outputId": "06a80f8d-1f4c-4cc6-c08b-67dfdae08691"
      },
      "execution_count": null,
      "outputs": [
        {
          "output_type": "execute_result",
          "data": {
            "text/plain": [
              "['PIERRE WEIL', 'ROLAND TOMPAKOW']"
            ]
          },
          "metadata": {},
          "execution_count": 109
        }
      ]
    },
    {
      "cell_type": "code",
      "source": [
        "isbn_data = prod_spec.find('td', class_='value-field ISBN')\n",
        "isbn = isbn_data.string if isbn_data else ''"
      ],
      "metadata": {
        "id": "bZj2SAt2wn5O"
      },
      "execution_count": null,
      "outputs": []
    },
    {
      "cell_type": "code",
      "source": [
        "isbn"
      ],
      "metadata": {
        "colab": {
          "base_uri": "https://localhost:8080/",
          "height": 35
        },
        "id": "Jf4eMLdxw7bQ",
        "outputId": "1675848a-707a-47c7-e107-e0a4354eb79f"
      },
      "execution_count": null,
      "outputs": [
        {
          "output_type": "execute_result",
          "data": {
            "text/plain": [
              "'8532602088'"
            ],
            "application/vnd.google.colaboratory.intrinsic+json": {
              "type": "string"
            }
          },
          "metadata": {},
          "execution_count": 91
        }
      ]
    },
    {
      "cell_type": "code",
      "source": [
        "year_data = prod_spec.find('td', class_='value-field Ano')\n",
        "year = year_data.string if year_data else ''"
      ],
      "metadata": {
        "id": "E1cfLwhAw875"
      },
      "execution_count": null,
      "outputs": []
    },
    {
      "cell_type": "code",
      "source": [
        "year"
      ],
      "metadata": {
        "colab": {
          "base_uri": "https://localhost:8080/",
          "height": 35
        },
        "id": "IFYnG4MJxXW6",
        "outputId": "e90198fe-e0e2-4e75-ff2a-0dd363b40d8e"
      },
      "execution_count": null,
      "outputs": [
        {
          "output_type": "execute_result",
          "data": {
            "text/plain": [
              "'2015'"
            ],
            "application/vnd.google.colaboratory.intrinsic+json": {
              "type": "string"
            }
          },
          "metadata": {},
          "execution_count": 93
        }
      ]
    },
    {
      "cell_type": "code",
      "source": [
        "edition_data = prod_spec.find('td', class_='value-field Edicao')\n",
        "edition = edition_data.string if edition_data else ''"
      ],
      "metadata": {
        "id": "2RDtGV6wxZ_S"
      },
      "execution_count": null,
      "outputs": []
    },
    {
      "cell_type": "code",
      "source": [
        "edition"
      ],
      "metadata": {
        "outputId": "c6f85fa8-3c38-4c7b-8e63-690b6e93da23",
        "colab": {
          "base_uri": "https://localhost:8080/",
          "height": 35
        },
        "id": "7vbF-74vxZ_S"
      },
      "execution_count": null,
      "outputs": [
        {
          "output_type": "execute_result",
          "data": {
            "text/plain": [
              "'1'"
            ],
            "application/vnd.google.colaboratory.intrinsic+json": {
              "type": "string"
            }
          },
          "metadata": {},
          "execution_count": 95
        }
      ]
    },
    {
      "cell_type": "code",
      "source": [
        "pages_data = prod_spec.find('td', class_='value-field Paginas')\n",
        "pages = pages_data.string if pages_data else ''"
      ],
      "metadata": {
        "id": "W_PWsY2_xYQ_"
      },
      "execution_count": null,
      "outputs": []
    },
    {
      "cell_type": "code",
      "source": [
        "pages"
      ],
      "metadata": {
        "colab": {
          "base_uri": "https://localhost:8080/",
          "height": 35
        },
        "id": "_HrqKgD0xtHh",
        "outputId": "010308a4-8b87-43ad-9434-ce7a87ec78d4"
      },
      "execution_count": null,
      "outputs": [
        {
          "output_type": "execute_result",
          "data": {
            "text/plain": [
              "'288'"
            ],
            "application/vnd.google.colaboratory.intrinsic+json": {
              "type": "string"
            }
          },
          "metadata": {},
          "execution_count": 97
        }
      ]
    },
    {
      "cell_type": "code",
      "source": [
        "price_data = soup.find('em', class_='valor-por')\n",
        "price_data"
      ],
      "metadata": {
        "colab": {
          "base_uri": "https://localhost:8080/"
        },
        "id": "y1Se4br6zRII",
        "outputId": "30039245-e61c-4cc4-8b8e-60d7a490bf62"
      },
      "execution_count": null,
      "outputs": [
        {
          "output_type": "execute_result",
          "data": {
            "text/plain": [
              "<em class=\"valor-por\" productindex=\"0\">Por: <strong class=\"skuBestPrice\" productindex=\"0\">R$ 45,50</strong></em>"
            ]
          },
          "metadata": {},
          "execution_count": 98
        }
      ]
    },
    {
      "cell_type": "code",
      "source": [
        "price = price_data.strong.string\n",
        "price"
      ],
      "metadata": {
        "colab": {
          "base_uri": "https://localhost:8080/",
          "height": 35
        },
        "id": "PdHJ9MqlzoCz",
        "outputId": "2b1b0748-5776-4a1c-c36a-2416c6317264"
      },
      "execution_count": null,
      "outputs": [
        {
          "output_type": "execute_result",
          "data": {
            "text/plain": [
              "'R$ 45,50'"
            ],
            "application/vnd.google.colaboratory.intrinsic+json": {
              "type": "string"
            }
          },
          "metadata": {},
          "execution_count": 99
        }
      ]
    },
    {
      "cell_type": "markdown",
      "source": [
        ""
      ],
      "metadata": {
        "id": "actAYCUPywST"
      }
    },
    {
      "cell_type": "markdown",
      "source": [
        "#### Resultados\n",
        "Juntando todas as informações numa função"
      ],
      "metadata": {
        "id": "SzDROcBexuv4"
      }
    },
    {
      "cell_type": "code",
      "source": [
        "def extract_cultura_info(soup):\n",
        "  def treat_author(author_string: str):\n",
        "    authors = author_string.split('|')\n",
        "    result = []\n",
        "    for a in authors:\n",
        "      if not 'Autor' in a:\n",
        "        continue\n",
        "      name = a.replace('Autor:', '')\n",
        "      name = name.split(', ')\n",
        "      name.reverse()\n",
        "      result.append(' '.join(name))\n",
        "    return result\n",
        "  \n",
        "  title = soup.find(\"h1\", {\"class\": \"title_product\"}).div.string\n",
        "  publisher_div = soup.find('div', class_='publisher')\n",
        "  publisher = publisher_div.h2.div.a.string if publisher_div.h2.div else None\n",
        "  info_div = soup.find('div', id='info-product')\n",
        "  book_info = info_div.string if info_div else ''\n",
        "  price_data = soup.find('em', class_='valor-por')\n",
        "  price = price_data.strong.string if price_data else ''\n",
        "  prod_spec = soup.find(class_='section-produto-especificacoes')\n",
        "  if not publisher:\n",
        "    publisher_data = prod_spec.find('td', class_='value-field Editora')\n",
        "    publisher = publisher_data.string if publisher_data else ''\n",
        "  author_data = prod_spec.find('td', class_='value-field Colaborador')\n",
        "  authors = treat_author(author_data.string) if author_data else []\n",
        "  isbn_data = prod_spec.find('td', class_='value-field ISBN')\n",
        "  isbn = isbn_data.string if isbn_data else ''  \n",
        "  language_data = prod_spec.find('td', class_='value-field Idioma')\n",
        "  language = language_data.string if isbn_data else ''\n",
        "  year_data = prod_spec.find('td', class_='value-field Ano')\n",
        "  year = year_data.string if year_data else ''\n",
        "  edition_data = prod_spec.find('td', class_='value-field Edicao')\n",
        "  edition = edition_data.string if edition_data else ''\n",
        "  pages_data = prod_spec.find('td', class_='value-field Paginas')\n",
        "  pages = pages_data.string if pages_data else ''\n",
        "  return {\n",
        "      \"title\": title,\n",
        "      \"publisher\": publisher,\n",
        "      \"price\": price,\n",
        "      \"info\": book_info,\n",
        "      \"authors\": authors,\n",
        "      \"year\": year,\n",
        "      \"isbn\": isbn,\n",
        "      \"edition\": edition,\n",
        "      \"pages\": pages,\n",
        "      \"language\": language\n",
        "  }"
      ],
      "metadata": {
        "id": "CMsqMQQtxxfB"
      },
      "execution_count": null,
      "outputs": []
    },
    {
      "cell_type": "code",
      "source": [
        "books = ['https://www3.livrariacultura.com.br/corpo-fala-61038/p',\n",
        "  'https://www3.livrariacultura.com.br/naruto-gold-vol-1-2111902326/p',\n",
        "  'https://www3.livrariacultura.com.br/o-ladrao-de-raios-capa-nova-42275209/p',\n",
        "  'https://www3.livrariacultura.com.br/menos-que-um-2112320138/p',\n",
        "  'https://www3.livrariacultura.com.br/thomas-sowell-a-biografia-2112320635/p',\n",
        "  'https://www3.livrariacultura.com.br/gestao-com-gentileza-2112319991/p',\n",
        "  'https://www3.livrariacultura.com.br/peaky-blinders-2112320052/p',\n",
        "  'https://www3.livrariacultura.com.br/cacadas-de-pedrinho-2111919285/p',\n",
        "  'https://www3.livrariacultura.com.br/dedoches-animais-2112297541/p?lista=1725',\n",
        "  'https://www3.livrariacultura.com.br/stranger-things-cidade-nas-trevas-2112247884/p?lista=2099',\n",
        "  'https://www3.livrariacultura.com.br/o-cavaleiro-preso-na-armadura-2112273695/p',\n",
        "  'https://www3.livrariacultura.com.br/o-filho-do-terrorista-46016865/p',\n",
        "  'https://www3.livrariacultura.com.br/a-verdade-e-outras-mentiras-46335302/p']"
      ],
      "metadata": {
        "id": "jAimdBup0j4V"
      },
      "execution_count": null,
      "outputs": []
    },
    {
      "cell_type": "code",
      "source": [
        "len(books)"
      ],
      "metadata": {
        "colab": {
          "base_uri": "https://localhost:8080/"
        },
        "id": "lMkyCNCF08BR",
        "outputId": "6d5ad971-9ea3-45a0-85d9-6035db9733b5"
      },
      "execution_count": null,
      "outputs": [
        {
          "output_type": "execute_result",
          "data": {
            "text/plain": [
              "13"
            ]
          },
          "metadata": {},
          "execution_count": 6
        }
      ]
    },
    {
      "cell_type": "code",
      "source": [
        "for book in books:\n",
        "  opener = build_opener()\n",
        "  opener.addheaders = [('User-agent', 'Mozilla/5.0')]\n",
        "  print(extract_cultura_info(BeautifulSoup(opener.open(book), 'html.parser')))"
      ],
      "metadata": {
        "colab": {
          "base_uri": "https://localhost:8080/"
        },
        "id": "JFvATTuw09HJ",
        "outputId": "cb7d7d48-8a94-4d90-e7b3-da4133f80b11"
      },
      "execution_count": null,
      "outputs": [
        {
          "output_type": "stream",
          "name": "stdout",
          "text": [
            "{'title': 'CORPO FALA', 'publisher': 'VOZES', 'price': 'R$ 45,50', 'info': '', 'authors': ['PIERRE WEIL', 'ROLAND TOMPAKOW'], 'year': '2015', 'isbn': '8532602088', 'edition': '1', 'pages': '288', 'language': 'PORTUGUÊS'}\n",
            "{'title': 'NARUTO GOLD VOL. 1', 'publisher': 'PANINI LIVROS', 'price': 'R$ 23,73', 'info': '', 'authors': ['MASASHI KISHIMOTO'], 'year': '2022', 'isbn': '8542602412', 'edition': '1', 'pages': '192', 'language': 'PORTUGUÊS'}\n",
            "{'title': 'O LADRÃO DE RAIOS - CAPA NOVA', 'publisher': 'INTRINSECA', 'price': 'R$ 38,43', 'info': '', 'authors': ['RICK RIORDAN'], 'year': '2014', 'isbn': '8580575397', 'edition': '1', 'pages': '400', 'language': 'PORTUGUÊS'}\n",
            "{'title': 'MENOS QUE UM', 'publisher': 'LEYA.', 'price': 'R$ 44,98', 'info': '', 'authors': [], 'year': '', 'isbn': '', 'edition': '', 'pages': '', 'language': ''}\n",
            "{'title': 'THOMAS SOWELL – A BIOGRAFIA', 'publisher': 'AVIS RARA', 'price': 'R$ 54,90', 'info': '', 'authors': [], 'year': '', 'isbn': '', 'edition': '', 'pages': '', 'language': ''}\n",
            "{'title': 'GESTÃO COM GENTILEZA', 'publisher': 'LITERARE BOOKS', 'price': 'R$ 22,82', 'info': '', 'authors': [], 'year': '', 'isbn': '', 'edition': '', 'pages': '', 'language': ''}\n",
            "{'title': 'PEAKY BLINDERS', 'publisher': 'UNIVERSO DOS LIVROS', 'price': 'R$ 59,90', 'info': '', 'authors': [], 'year': '', 'isbn': '', 'edition': '', 'pages': '', 'language': ''}\n",
            "{'title': 'CAÇADAS DE PEDRINHO', 'publisher': 'CIRANDA CULTURAL', 'price': 'R$ 17,43', 'info': '', 'authors': ['MONTEIRO LOBATO'], 'year': '2019', 'isbn': '8538087665', 'edition': '1', 'pages': '80', 'language': 'PORTUGUÊS'}\n",
            "{'title': 'DEDOCHES ANIMAIS', 'publisher': 'TOYSTER', 'price': 'R$ 49,99', 'info': '', 'authors': [], 'year': '', 'isbn': '', 'edition': '', 'pages': '', 'language': ''}\n",
            "{'title': 'STRANGER THINGS: CIDADE NAS TREVAS', 'publisher': 'INTRINSECA', 'price': 'R$ 44,90', 'info': '', 'authors': ['ADAM CHRISTOPHER'], 'year': '2020', 'isbn': '8551006290', 'edition': '1', 'pages': '384', 'language': 'PORTUGUÊS'}\n",
            "{'title': 'O CAVALEIRO PRESO NA ARMADURA', 'publisher': 'RECORD', 'price': 'R$ 31,43', 'info': '', 'authors': ['ROBERT FISHER'], 'year': '2020', 'isbn': '6555870192', 'edition': '1', 'pages': '112', 'language': 'PORTUGUÊS'}\n",
            "{'title': 'O FILHO DO TERRORISTA', 'publisher': 'ALAUDE', 'price': 'R$ 9,90', 'info': '', 'authors': ['ZAK EBRAHIM', 'JEFF GILES'], 'year': '2015', 'isbn': '8578813065', 'edition': '1', 'pages': '128', 'language': 'PORTUGUÊS'}\n",
            "{'title': 'A VERDADE E OUTRAS MENTIRAS', 'publisher': 'SUMA DE LETRAS BRASI', 'price': 'R$ 19,90', 'info': '', 'authors': ['SASCHA ARANGO'], 'year': '2016', 'isbn': '8556510213', 'edition': '1', 'pages': '224', 'language': 'PORTUGUÊS'}\n"
          ]
        }
      ]
    },
    {
      "cell_type": "markdown",
      "source": [
        "### Companhia das letras"
      ],
      "metadata": {
        "id": "xrg3WxBZ5B_a"
      }
    },
    {
      "cell_type": "markdown",
      "source": [
        "#### Testes"
      ],
      "metadata": {
        "id": "3_8C4baA5H4C"
      }
    },
    {
      "cell_type": "code",
      "source": [
        "url = 'https://www.companhiadasletras.com.br/livro/9788535923438/eu-sou-malala'\n",
        "opener = build_opener()\n",
        "opener.addheaders = [('User-agent', 'Mozilla/5.0')]\n",
        "soup = BeautifulSoup(opener.open(url), 'html.parser')"
      ],
      "metadata": {
        "id": "JIZ7pRum5ECZ"
      },
      "execution_count": null,
      "outputs": []
    },
    {
      "cell_type": "code",
      "source": [
        "title = soup.find('div', class_='detalhe_livro_titulo').string\n",
        "title"
      ],
      "metadata": {
        "colab": {
          "base_uri": "https://localhost:8080/",
          "height": 35
        },
        "id": "tMreyq6T52ex",
        "outputId": "22629dff-ded8-4930-f3bf-3d617ab809ff"
      },
      "execution_count": null,
      "outputs": [
        {
          "output_type": "execute_result",
          "data": {
            "text/plain": [
              "'EU SOU MALALA'"
            ],
            "application/vnd.google.colaboratory.intrinsic+json": {
              "type": "string"
            }
          },
          "metadata": {},
          "execution_count": 117
        }
      ]
    },
    {
      "cell_type": "code",
      "source": [
        "authors_div = soup.find('div', class_='detalhe_livro_autor')\n",
        "authors=[]\n",
        "for a in authors_div.find_all('a'):\n",
        "  authors.append(a.string)\n",
        "authors"
      ],
      "metadata": {
        "colab": {
          "base_uri": "https://localhost:8080/"
        },
        "id": "yAbhBV-f6Q20",
        "outputId": "7394c539-af05-49a2-aa9a-55d519d6618b"
      },
      "execution_count": null,
      "outputs": [
        {
          "output_type": "execute_result",
          "data": {
            "text/plain": [
              "['Malala Yousafzai', 'Christina Lamb']"
            ]
          },
          "metadata": {},
          "execution_count": 118
        }
      ]
    },
    {
      "cell_type": "code",
      "source": [
        "price = soup.find('div', class_='preco').string\n",
        "price"
      ],
      "metadata": {
        "colab": {
          "base_uri": "https://localhost:8080/",
          "height": 35
        },
        "id": "it20nEdQ6sQ6",
        "outputId": "b2c949ed-36d5-4202-a5eb-92b03b4186e0"
      },
      "execution_count": null,
      "outputs": [
        {
          "output_type": "execute_result",
          "data": {
            "text/plain": [
              "'R$ 52,90'"
            ],
            "application/vnd.google.colaboratory.intrinsic+json": {
              "type": "string"
            }
          },
          "metadata": {},
          "execution_count": 119
        }
      ]
    },
    {
      "cell_type": "code",
      "source": [
        "details = soup.find_all('div', class_='bloco_txt_detalhe')\n",
        "info = details[0].get_text()"
      ],
      "metadata": {
        "id": "oY0IrLqQ7eCd"
      },
      "execution_count": null,
      "outputs": []
    },
    {
      "cell_type": "code",
      "source": [
        "info"
      ],
      "metadata": {
        "colab": {
          "base_uri": "https://localhost:8080/",
          "height": 140
        },
        "id": "1rhlQlF-8a_k",
        "outputId": "c27e200a-ac48-40b5-c250-a7de55ab3e95"
      },
      "execution_count": null,
      "outputs": [
        {
          "output_type": "execute_result",
          "data": {
            "text/plain": [
              "'\\n          Quando o Talibã tomou controle do vale do Swat, uma menina levantou a voz. Malala Yousafzai recusou-se a permanecer em silêncio e lutou pelo seu direito à educação. Mas em 9 de outubro de 2012, uma terça-feira, ela quase pagou o preço com a vida. \\nMalala foi atingida na cabeça por um tiro à queima-roupa dentro do ônibus no qual voltava da escola. Poucos acreditaram que ela sobreviveria.\\nMas a recuperação milagrosa de Malala a levou em uma viagem extraordinária de um vale remoto no norte do Paquistão para as salas das Nações Unidas em Nova York. Aos dezesseis anos, ela se tornou um símbolo global de protesto pacífico e a candidata mais jovem da história a receber o Prêmio Nobel da Paz.\\nEu sou Malala é a história de uma família exilada pelo terrorismo global, da luta pelo direito à educação feminina e dos obstáculos à valorização da mulher em uma sociedade que valoriza filhos homens. \\nO livro acompanha a infância da garota no Paquistão, os primeiros anos de vida escolar, as asperezas da vida numa região marcada pela desigualdade social, as belezas do deserto e as trevas da vida sob o Talibã.\\nEscrito em parceria com a jornalista britânica Christina Lamb, este livro é uma janela para a singularidade poderosa de uma menina cheia de brio e talento, mas também para um universo religioso e cultural cheio de interdições e particularidades, muitas vezes incompreendido pelo Ocidente.    \\n\"Sentar numa cadeira, ler meus livros rodeada pelos meus amigos é um direito meu\", ela diz numa das últimas passagens do livro. A história de Malala renova a crença na capacidade de uma pessoa de inspirar e modificar o mundo.        '"
            ],
            "application/vnd.google.colaboratory.intrinsic+json": {
              "type": "string"
            }
          },
          "metadata": {},
          "execution_count": 123
        }
      ]
    },
    {
      "cell_type": "code",
      "source": [
        "len(details)"
      ],
      "metadata": {
        "colab": {
          "base_uri": "https://localhost:8080/"
        },
        "id": "5GZvjAuz8h2b",
        "outputId": "f45adee6-be62-403b-b3ee-49a5fc0b6b15"
      },
      "execution_count": null,
      "outputs": [
        {
          "output_type": "execute_result",
          "data": {
            "text/plain": [
              "4"
            ]
          },
          "metadata": {},
          "execution_count": 124
        }
      ]
    },
    {
      "cell_type": "code",
      "source": [
        "pages, year, isbn, publisher = '', '', '', ''\n",
        "for span in details[1].find_all('span'):\n",
        "  if span.string == 'Páginas:':\n",
        "    pages = str(span.next_sibling).strip()\n",
        "  if span.string == 'Lançamento:':\n",
        "    year = str(span.next_sibling).split('/')[-1]\n",
        "  if span.string == 'ISBN:':\n",
        "    isbn = str(span.next_sibling).strip()\n",
        "  if span.string == 'Selo:':\n",
        "    publisher = str(span.next_sibling).strip()\n",
        "pages, year, isbn, publisher"
      ],
      "metadata": {
        "colab": {
          "base_uri": "https://localhost:8080/"
        },
        "id": "Q_AGZ5rB8lE8",
        "outputId": "d775a941-e118-46c7-fd18-8319e8c6f010"
      },
      "execution_count": null,
      "outputs": [
        {
          "output_type": "execute_result",
          "data": {
            "text/plain": [
              "('360', '2013', '9788535923438', 'Companhia das Letras')"
            ]
          },
          "metadata": {},
          "execution_count": 134
        }
      ]
    },
    {
      "cell_type": "markdown",
      "source": [
        "#### Resultados"
      ],
      "metadata": {
        "id": "Ew2vEOJa-njA"
      }
    },
    {
      "cell_type": "code",
      "source": [
        "def extract_companhia_info(soup):\n",
        "  title = soup.find('div', class_='detalhe_livro_titulo').string\n",
        "  authors_div = soup.find('div', class_='detalhe_livro_autor')\n",
        "  authors=[]\n",
        "  if authors_div:\n",
        "    for a in authors_div.find_all('a'):\n",
        "      authors.append(a.string)\n",
        "  price = soup.find('div', class_='preco').string\n",
        "  details = soup.find_all('div', class_='bloco_txt_detalhe')\n",
        "  book_info = details[0].get_text()\n",
        "  pages, year, isbn, publisher = '', '', '', ''\n",
        "  for span in details[1].find_all('span'):\n",
        "    if span.string == 'Páginas:':\n",
        "      pages = str(span.next_sibling).strip()\n",
        "    if span.string == 'Lançamento:':\n",
        "      year = str(span.next_sibling).split('/')[-1]\n",
        "    if span.string == 'ISBN:':\n",
        "      isbn = str(span.next_sibling).strip()\n",
        "    if span.string == 'Selo:':\n",
        "      publisher = str(span.next_sibling).strip()\n",
        "  edition = ''\n",
        "  return {\n",
        "      \"title\": title,\n",
        "      \"authors\": authors,\n",
        "      \"publisher\": publisher,\n",
        "      \"price\": price,\n",
        "      \"info\": book_info,\n",
        "      \"year\": year,\n",
        "      \"isbn\": isbn,\n",
        "      \"edition\": edition,\n",
        "      \"pages\": pages,\n",
        "      \"language\": ''\n",
        "  }"
      ],
      "metadata": {
        "id": "1HMMAnar-o1a"
      },
      "execution_count": null,
      "outputs": []
    },
    {
      "cell_type": "code",
      "source": [
        "books = ['https://www.companhiadasletras.com.br/livro/9786559211852/saramago-150-os-seus-nomes',\n",
        "  'https://www.companhiadasletras.com.br/livro/9786559790715/a-cultura-no-mundo-liquido-moderno-nova-edicao',\n",
        "  'https://www.companhiadasletras.com.br/livro/9786559213474/metamaus',\n",
        "  'https://www.companhiadasletras.com.br/livro/9786559790807/o-negocio-do-jair',\n",
        "  'https://www.companhiadasletras.com.br/livro/9786559211845/todas-as-letras-nova-edicao-ampliada',\n",
        "  'https://www.companhiadasletras.com.br/livro/9788535914849/1984',\n",
        "  'https://www.companhiadasletras.com.br/livro/9788535928075/o-gene',\n",
        "  'https://www.companhiadasletras.com.br/livro/9788582850541/impressoes-de-leitura-e-outros-textos-criticos',\n",
        "  'https://www.companhiadasletras.com.br/livro/9788535912692/tintim-e-os-picaros',\n",
        "  'https://www.companhiadasletras.com.br/livro/9788535921168/deus-essa-gostosa']"
      ],
      "metadata": {
        "id": "ifrKeQ3T_Yhf"
      },
      "execution_count": null,
      "outputs": []
    },
    {
      "cell_type": "code",
      "source": [
        "for book in books:\n",
        "  opener = build_opener()\n",
        "  opener.addheaders = [('User-agent', 'Mozilla/5.0')]\n",
        "  print(extract_companhia_info(BeautifulSoup(opener.open(book), 'html.parser')))"
      ],
      "metadata": {
        "colab": {
          "base_uri": "https://localhost:8080/"
        },
        "id": "TkofZkXj_o36",
        "outputId": "753da9b1-4625-431d-ce07-68d5fee0fe97"
      },
      "execution_count": null,
      "outputs": [
        {
          "output_type": "stream",
          "name": "stdout",
          "text": [
            "{'title': 'SARAMAGO – OS SEUS NOMES', 'authors': [], 'publisher': 'Companhia das Letras', 'price': 'R$ 199,90', 'info': '\\n          José Saramago é, incontestavelmente, um dos grandes mestres da literatura. Único autor de língua portuguesa a receber o prêmio Nobel, ele deixou tesouros como Ensaio sobre a cegueira, O Evangelho segundo Jesus Cristo e O ano da morte de Ricardo Reis. Em 2022, celebra-se o centenário de nascimento desse homem que começou como serralheiro mecânico, tornou-se funcionário público, editor e, por fim, escritor – ofício que foi levado a outro patamar por suas mãos.Este álbum biográfico sem precedentes, dividido em quatro perspectivas – espaços/lugares, leituras/sentidos, escritas/criações e laços/pessoas –, traz a vida de José Saramago ao entrelaçar mais de duzentos nomes, entre cidades, marcos históricos, amigos, personagens. Lanzarote, Brasil, Blimunda, Deus, Judas, Fernando Pessoa, Marx, Jorge Amado, Pilar, todos estes relembrados por imagens do acervo da Fundação Saramago e registros em livros.Em um primoroso trabalho de pesquisa, Alejandro García Schnetzer e Ricardo Viel apresentam ao mundo um novo José: suas inspirações e seus discípulos, os cenários que compuseram sua trajetória e sua relação amalgamada com o ser humano. Tudo, portanto, o que levou José a tornar-se Saramago.Com projeto gráfico de Raul Loureiro.\"É importante continuar a revisitar a consciência ética presente na obra de José Saramago. Essa consciência mantém, hoje, a sua acuidade, tanto na condenação da exclusão e das desigualdades como na importante mensagem sobre a necessidade de \\'reivindicarmos o dever\\' de defender e fazer cumprir os direitos que a todos e cada um são conferidos. Esta fotobiografia contribuirá, confio, para que mais leitores relembrem ou descubram a exortação a que \\'os cidadãos comuns tomem a palavra e a iniciativa\\' – e não prescindam nunca desse direito.\" – António Guterres, secretário-geral da ONU ', 'year': '2022', 'isbn': '9786559211852', 'edition': '', 'pages': '352', 'language': ''}\n",
            "{'title': 'A CULTURA NO MUNDO LÍQUIDO MODERNO (NOVA EDIÇÃO)', 'authors': ['Zygmunt Bauman'], 'publisher': 'Zahar', 'price': 'R$ 64,90', 'info': '\\n          Há cerca de dois séculos, nascia o conceito de cultura, designando um estágio de conhecimento a ser atingido por toda a humanidade. Com ele, surgia o moderno Estado-nação, responsável por organizar e administrar a economia, a política e a sociedade, e definia-se também o papel dos intelectuais na educação e na formação cultural dos povos.Em nossa era líquido-moderna, na qual todas as hierarquias se dissolvem e os indivíduos passam de produtores a consumidores, todo esse arcabouço se desfaz. A cultura já não é da humanidade, mas de grupos, de guetos, e a agenda contemporânea põe na ordem do dia temas como cidadania, direitos humanos e convivência. Contudo – alerta-nos Zygmunt Bauman neste livro brilhante –, mais que lutar pelos direitos da diferença, deveríamos nos empenhar pelo direito à igualdade.        ', 'year': '2022', 'isbn': '9786559790715', 'edition': '', 'pages': '112', 'language': ''}\n",
            "{'title': 'METAMAUS', 'authors': ['Art Spiegelman'], 'publisher': 'Quadrinhos na Cia', 'price': 'R$ 259,90', 'info': '\\n          Nas páginas deste livro, numa série de entrevistas e material inédito, Art Spiegelman volta a Maus, graphic novel vencedora do prêmio Pulitzer e clássico moderno absoluto que, desde sua publicação, em 1992, transformou a maneira como enxergamos a literatura, os quadrinhos e o Holocausto\\xa0. Metamaus vai a fundo nas perguntas que Maus tem evocado ao longo do tempo – por que o Holocausto? Por que ratos? Por que quadrinhos? – e nos fornece um documento essencial sobre a gênese deste romance gráfico que tem encantado gerações. O livro é acompanhado por um DVD \\xa0com Maus em versão digital, incluindo links para um vasto arquivo de áudios (em inglês) com entrevistas entre Art Spiegelman e seu pai – um sobrevivente dos campos de concentração –, documentos históricos e uma grande variedade de cadernos de anotações e esboços do autor.Para os fãs de Maus e para todos aqueles que amam quadrinhos, Metamaus é um clássico em si, envolvente, dinâmico, uma reflexão poderosa sobre os caminhos que levam uma história íntima e traumática a se tornar ficção.        ', 'year': '2022', 'isbn': '9786559213474', 'edition': '', 'pages': '356', 'language': ''}\n",
            "{'title': 'O NEGÓCIO DO JAIR', 'authors': ['Juliana Dal Piva'], 'publisher': 'Zahar', 'price': 'R$ 84,90', 'info': '\\nResultado de mais de três anos de apuração, O Negócio do Jair: A história proibida do clã Bolsonaro desvenda o passado secreto da família que hoje comanda o Brasil. A jornalista Juliana Dal Piva parte do escândalo das rachadinhas exposto pelo caso Queiroz, a partir de dezembro de 2018, para contar uma história que remonta à entrada de Jair Bolsonaro na política na década de 1990.No centro do passado que o clã tenta abafar, está um esquema de corrupção conhecido entre os participantes como o \"Negócio do Jair\". O arranjo ocorria nos gabinetes funcionais ocupados pela família de Bolsonaro em seus mandatos políticos, seja de vereador, deputado estadual ou federal, e envolvia seus três filhos mais velhos, as duas ex-esposas e a atual, amigos, familiares – muitos deles atuando como funcionários fantasmas –, além de advogados e milicianos.Com base em depoimentos exclusivos, cópias sigilosas dos autos judiciais, mais de cinquenta entrevistas, mil páginas em documentos, vídeos e gravações de áudio, a autora demonstra como, à sombra dos grandes esquemas partidários, o clã acumulou milhões de reais e construiu o projeto político autoritário e regressivo que conduziria o chefe da família ao posto mais alto da República.\\xa0 ', 'year': '2022', 'isbn': '9786559790807', 'edition': '', 'pages': '328', 'language': ''}\n",
            "{'title': 'TODAS AS LETRAS (NOVA EDIÇÃO AMPLIADA)', 'authors': ['Gilberto Gil'], 'publisher': 'Companhia das Letras', 'price': 'R$ 199,90', 'info': '\\n          A obra de Gilberto Gil contribuiu para a transformação do conceito estético da letra de música ao lhe dar status de poesia – cantada e popular. Ex-ministro da Cultura, membro da Academia Brasileira de Letras, Gil é um dos mais sensíveis e inventivos artistas em atividade, reconhecido e admirado no mundo inteiro.Com organização de Carlos Rennó, ilustrações inéditas de Alberto Pitta e textos de Arnaldo Antunes e José Miguel Wisnik, esta terceira edição de Todas as letras reúne o conjunto das canções compostas por Gil, uma cronologia e centenas de comentários do autor a respeito de suas composições.\"Gilberto Gil e sua obra brilham em ancestralidade e afrodescendência, sob o comando afetuoso de Tempo, divindade e rei transformado em canção. Gil é gênio e é um de nós!\" – Jurema Werneck\"Gil tem uma aura espiritual muito forte, de divindade. A sabedoria com a qual ele analisa a experiência humana é algo que sempre me enriqueceu.\" – Emicida ', 'year': '2022', 'isbn': '9786559211845', 'edition': '', 'pages': '552', 'language': ''}\n",
            "{'title': '1984', 'authors': ['George Orwell'], 'publisher': 'Companhia das Letras', 'price': 'R$ 29,90', 'info': '\\nPublicada originalmente em 1949, a distopia futurista 1984 é um dos romances mais influentes do século XX, um inquestionável clássico moderno. Lançada poucos meses antes da morte do autor, é uma obra magistral que ainda se impõe como uma poderosa reflexão ficcional sobre a essência nefasta de qualquer forma de poder totalitário. \\nWinston, herói de 1984, último romance de George Orwell, vive aprisionado na engrenagem totalitária de uma sociedade completamente dominada pelo Estado, onde tudo é feito coletivamente, mas cada qual vive sozinho. Ninguém escapa à vigilância do Grande Irmão, a mais famosa personificação literária de um poder cínico e cruel ao infinito, além de vazio de sentido histórico. De fato, a ideologia do Partido dominante em Oceânia não visa nada de coisa alguma para ninguém, no presente ou no futuro. O\\'Brien, hierarca do Partido, é quem explica a Winston que \"só nos interessa o poder em si. Nem riqueza, nem luxo, nem vida longa, nem felicidade: só o poder pelo poder, poder puro\".\\nQuando foi publicada em 1949, essa assustadora distopia datada de forma arbitrária num futuro perigosamente próximo logo experimentaria um imenso sucesso de público. Seus principais ingredientes - um homem sozinho desafiando uma tremenda ditadura; sexo furtivo e libertador; horrores letais - atraíram leitores de todas as idades, à esquerda e à direita do espectro político, com maior ou menor grau de instrução. À parte isso, a escrita translúcida de George Orwell, os personagens fortes, traçados a carvão por um vigoroso desenhista de personalidades, a trama seca e crua e o tom de sátira sombria garantiram a entrada precoce de 1984 no restrito panteão dos grandes clássicos modernos. \\nAlgumas das ideias centrais do livro dão muito o que pensar até hoje, como a contraditória Novafala imposta pelo Partido para renomear as coisas, as instituições e o próprio mundo, manipulando ao infinito a realidade. Afinal, quem não conhece hoje em dia \"ministérios da defesa\" dedicados a promover ataques bélicos a outros países, da mesma forma que, no livro de Orwell, o \"Ministério do Amor\" é o local onde Winston será submetido às mais bárbaras torturas nas mãos de seu suposto amigo O\\'Brien.\\nMuitos leram 1984 como uma crítica devastadora aos belicosos totalitarismos nazifascistas da Europa, de cujos terríveis crimes o mundo ainda tentava se recuperar quando o livro veio a lume. Nos Estados Unidos, foi visto como uma fantasia de horror quase cômico voltada contra o comunismo da hoje extinta União Soviética, então sob o comando de Stálin e seu Partido único e inquestionável. No entanto, superando todas as conjunturas históricas - e até mesmo a data futurista do título -, a obra magistral de George Orwell ainda se impõe como uma poderosa reflexão ficcional sobre os excessos delirantes, mas perfeitamente possíveis, de qualquer forma de poder incontestado, seja onde for.\\n\\n\"O maior escritor do século XX.\" - Observer\\n\\n \"Obra-prima terminal de Orwell, 1984 é uma leitura absorvente e indispensável para a compreensão da história moderna.\" - Timothy Garton Ash, New York Review of Books\\n\\n\" A obra mais sólida e mais impressionante de Orwell.\" - V. S. Pritchett        ', 'year': '2009', 'isbn': '9788535914849', 'edition': '', 'pages': '416', 'language': ''}\n",
            "{'title': 'O GENE', 'authors': ['Siddhartha Mukherjee'], 'publisher': 'Companhia das Letras', 'price': 'R$ 87,90', 'info': '\\n          Nesta aclamada obra, Siddhartha Mukherjee, vencedor do prêmio Pulitzer de não ficção de 2011, combina ciência, história social e relatos pessoais para nos contar a extraordinária narrativa de uma das mais importantes descobertas dos tempos modernos. Ao investigar a hereditariedade, Mukherjee irá mostrar como a genética influencia nossas vidas, personalidades, identidades, destinos e escolhas. Ao longo do livro, Mukherjee explora também a própria origem e família, com seu trágico histórico de doenças mentais, nos mostrando como a ciência pode saltar rapidamente dos laboratórios para a vida. Um livro extraordinário sobre uma das mais importantes - e urgentes - questões da humanidade.        ', 'year': '2016', 'isbn': '9788535928075', 'edition': '', 'pages': '680', 'language': ''}\n",
            "{'title': 'IMPRESSÕES DE LEITURA E OUTROS TEXTOS CRÍTICOS', 'authors': ['Lima Barreto'], 'publisher': 'Penguin-Companhia', 'price': 'R$ 44,90', 'info': '\\n          Consagrado por seus romances e contos além de renomado autor de crônicas sobre o Rio de Janeiro e seu subúrbio, Lima Barreto ainda é pouco lembrado pela atividade que empreendeu como crítico e agitador literário. Os textos reunidos neste volume, com organização e apresentação de Beatriz Resende, vêm suprir essa lacuna. \\nAgregando uma nova seleção à coletânea clássica organizada por Francisco de Assis Barbosa com a colaboração de Antônio Houaiss e Manuel Cavalcanti Proença, o livro apresenta os ensaios publicados em jornais ou revistas, assim como em cartas, especialmente as dirigidas a escritores iniciantes.\\nCom prefácio de Lilia Moriz Schwarcz, este livro apresenta tanto o crítico contumaz quanto o leitor atento, casado com a literatura e comprometido com princípios estéticos e éticos.        ', 'year': '2017', 'isbn': '9788582850541', 'edition': '', 'pages': '360', 'language': ''}\n",
            "{'title': 'TINTIM E OS PÍCAROS', 'authors': ['Hergé'], 'publisher': 'Quadrinhos na Cia', 'price': 'R$ 54,90', 'info': '\\n          Capitão Haddock, professor Girassol e Tintim recebem uma informação inacreditável: a célebre cantora Bianca Castafiore, em turnê pela América do Sul, foi presa em San Teodoro, acusada de participar de um complô contra o regime do general Tapioca! Maior é a surpresa de nossos amigos ao saber que eles também são acusados de participar da trama. O capitão e o professor Girassol decidem ir a San Teodoro esclarecer o assunto. Mas Tintim, pressentindo uma armadilha do tenebroso Tapioca, se recusa a viajar com eles. Será que Tintim vai mesmo deixar os dois enfrentarem sozinhos o general?        ', 'year': '2008', 'isbn': '9788535912692', 'edition': '', 'pages': '64', 'language': ''}\n",
            "{'title': 'DEUS ESSA GOSTOSA', 'authors': ['Rafa Campos Rocha'], 'publisher': 'Quadrinhos na Cia', 'price': 'R$ 54,90', 'info': '\\n          Todo mundo conhece Deus, aquele respeitável senhor de toga, dado a criar mundos e fundos, maestro do coro celestial de querubins. Barba longa, olhar severo, o dedo em riste. Ou não.\\nDeus aqui assume a forma que, segundo consta, é sua preferida: a de uma mulher negra, proprietária de um sex-shop, ligada nos movimentos mais exóticos (e esotéricos) do assim chamado amor carnal. \\nEm Deus, essa gostosa, primeira graphic novel do artista plástico e quadrinista Rafael Campos Rocha, o leitor acompanhará sete dias na vida dessa Criadora incomum, fã de futebol e cerveja, amiga de Karl Marx e do Diabo em pessoa.\\nTodavia, por trás da aparente vontade de blasfemar as Escrituras, encontra-se uma leitura sofisticada das relações entre religião e arte, Igreja e sexo, corpo e alma, culpa e pecado.\\nO humor fino que percorre este gênesis invertido ganha contornos épicos no traço enganosamente simples do autor. Para Deus, uma semana de acontecimentos discretos e corriqueiros pode desembocar na criação de um Universo (ou mais).\\nSurgida numa lista de e-mails e distribuída apenas entre amigos, Deus, essa gostosa migrou para as páginas da Ilustríssima, suplemento cultural da Folha de S. Paulo. Desde então, ganhou tantos fãs quanto causou incômodo, provando que nem Deus - onisciente, onipotente e \"frívola\" - pode ser unânime.        ', 'year': '2012', 'isbn': '9788535921168', 'edition': '', 'pages': '88', 'language': ''}\n"
          ]
        }
      ]
    },
    {
      "cell_type": "markdown",
      "source": [
        "### Estante"
      ],
      "metadata": {
        "id": "zJLbgJcPs6zh"
      }
    },
    {
      "cell_type": "markdown",
      "source": [
        "#### Testes"
      ],
      "metadata": {
        "id": "5_b16slRs-pR"
      }
    },
    {
      "cell_type": "code",
      "source": [
        "url = 'https://www.estantevirtual.com.br/leao-livros/adam-smith-a-riqueza-das-nacoes-v-1-2843205889?show_suggestion=0'\n",
        "opener = build_opener()\n",
        "opener.addheaders = [('User-agent', 'Mozilla/5.0')]\n",
        "soup = BeautifulSoup(opener.open(url), 'html.parser')"
      ],
      "metadata": {
        "id": "V5oHzi_Ps8Qa"
      },
      "execution_count": null,
      "outputs": []
    },
    {
      "cell_type": "code",
      "source": [
        "title = soup.find('h1', class_='livro-titulo').string.strip('\\n ')"
      ],
      "metadata": {
        "id": "y6-HkAAetD1r"
      },
      "execution_count": null,
      "outputs": []
    },
    {
      "cell_type": "code",
      "source": [
        "title"
      ],
      "metadata": {
        "colab": {
          "base_uri": "https://localhost:8080/",
          "height": 35
        },
        "id": "CwUGt2wwu2v8",
        "outputId": "67c6f503-88ba-48c2-9ce9-56c15785fef9"
      },
      "execution_count": null,
      "outputs": [
        {
          "output_type": "execute_result",
          "data": {
            "text/plain": [
              "'A Riqueza das Nacoes V. 1'"
            ],
            "application/vnd.google.colaboratory.intrinsic+json": {
              "type": "string"
            }
          },
          "metadata": {},
          "execution_count": 16
        }
      ]
    },
    {
      "cell_type": "code",
      "source": [
        "authors = [soup.find('h2', class_='livro-autor').a.span.string]"
      ],
      "metadata": {
        "id": "rGXzgd4uu8Sl"
      },
      "execution_count": null,
      "outputs": []
    },
    {
      "cell_type": "code",
      "source": [
        "authors"
      ],
      "metadata": {
        "colab": {
          "base_uri": "https://localhost:8080/"
        },
        "id": "lXoKSP7pvPqQ",
        "outputId": "5208ab33-1168-4b0b-c997-04b305ea5bb8"
      },
      "execution_count": null,
      "outputs": [
        {
          "output_type": "execute_result",
          "data": {
            "text/plain": [
              "['Adam Smith']"
            ]
          },
          "metadata": {},
          "execution_count": 18
        }
      ]
    },
    {
      "cell_type": "code",
      "source": [
        "price = soup.find('span', class_='livro-preco-valor').string.strip('\\n ')\n",
        "price"
      ],
      "metadata": {
        "colab": {
          "base_uri": "https://localhost:8080/",
          "height": 35
        },
        "id": "Mb0dAiUGx7Yj",
        "outputId": "d2811ea2-e7d1-45dd-ec63-5ae574c5afeb"
      },
      "execution_count": null,
      "outputs": [
        {
          "output_type": "execute_result",
          "data": {
            "text/plain": [
              "'R$ 19,90'"
            ],
            "application/vnd.google.colaboratory.intrinsic+json": {
              "type": "string"
            }
          },
          "metadata": {},
          "execution_count": 34
        }
      ]
    },
    {
      "cell_type": "code",
      "source": [
        "specs = soup.find_all('p', class_='livro-specs')"
      ],
      "metadata": {
        "id": "4uJrmsavvQ0x"
      },
      "execution_count": null,
      "outputs": []
    },
    {
      "cell_type": "code",
      "source": [
        "year, publisher, isbn, language, book_info = '', '', '', '', ''\n",
        "for spec in specs:\n",
        "  if 'Ano' in str(spec.span.string):\n",
        "    year = spec.span.next_sibling.strip('\\n ')\n",
        "  elif 'Editora' in str(spec.span.string):\n",
        "    publisher = spec.a.span.string\n",
        "  elif 'ISBN' in str(spec.span.string):\n",
        "    isbn = spec.span.next_sibling.strip('\\n ')\n",
        "  elif 'Idioma' in str(spec.span.string):\n",
        "    language = spec.span.next_sibling.strip('\\n ')\n",
        "  elif 'Descrição' in str(spec.span.string):\n",
        "    book_info = spec.find('span', class_='description-text').string.strip('\\n ')\n",
        "year, publisher, isbn, language, book_info"
      ],
      "metadata": {
        "colab": {
          "base_uri": "https://localhost:8080/"
        },
        "id": "89I_jKcovnQb",
        "outputId": "55b07fea-c5ca-49cf-f9ab-f91ca9e1d634"
      },
      "execution_count": null,
      "outputs": [
        {
          "output_type": "execute_result",
          "data": {
            "text/plain": [
              "('1988',\n",
              " 'Nova Cultural',\n",
              " '0000000000',\n",
              " 'Português',\n",
              " 'Capa mostrando rasuras  páginas amareladas pelo tempo sem riscos  ou rasuras muito bom no todo.')"
            ]
          },
          "metadata": {},
          "execution_count": 33
        }
      ]
    },
    {
      "cell_type": "markdown",
      "source": [
        "#### Resultados"
      ],
      "metadata": {
        "id": "BOfFNooaxllw"
      }
    },
    {
      "cell_type": "code",
      "source": [
        "def extract_estante_info(soup):\n",
        "  title = soup.find('h1', class_='livro-titulo').string.strip('\\n ')\n",
        "  authors = soup.find('h2', class_='livro-autor').a.span.string.split('; ')\n",
        "  price = soup.find('span', class_='livro-preco-valor').string.strip('\\n ')\n",
        "  specs = soup.find_all('p', class_='livro-specs')\n",
        "  year, publisher, isbn, language, book_info = '', '', '', '', ''\n",
        "  for spec in specs:\n",
        "    if 'Ano' in str(spec.span.string):\n",
        "      year = spec.span.next_sibling.strip('\\n ')\n",
        "    elif 'Editora' in str(spec.span.string):\n",
        "      publisher = spec.a.span.string\n",
        "    elif 'ISBN' in str(spec.span.string):\n",
        "      isbn = spec.span.next_sibling.strip('\\n ')\n",
        "    elif 'Idioma' in str(spec.span.string):\n",
        "      language = spec.span.next_sibling.strip('\\n ')\n",
        "    elif 'Descrição' in str(spec.span.string):\n",
        "      book_info = spec.find('span', class_='description-text').string.strip('\\n ')\n",
        "  return {\n",
        "      \"title\": title,\n",
        "      \"authors\": authors,\n",
        "      \"publisher\": publisher,\n",
        "      \"price\": price,\n",
        "      \"info\": book_info,\n",
        "      \"year\": year,\n",
        "      \"isbn\": isbn,\n",
        "      \"edition\": '',\n",
        "      \"pages\": '',\n",
        "      \"language\": language\n",
        "  }"
      ],
      "metadata": {
        "id": "-koRWLqAxlJf"
      },
      "execution_count": null,
      "outputs": []
    },
    {
      "cell_type": "code",
      "source": [
        "books = ['https://www.estantevirtual.com.br/livrariamosaico/jorge-amado-capitaes-da-areia-1%C2%AA-edicao-2466551162?show_suggestion=0',\n",
        "  'https://www.estantevirtual.com.br/julianlivros/adam-smith-a-riqueza-das-nacoes-compendio-3271924492?show_suggestion=0',\n",
        "  'https://www.estantevirtual.com.br/bibliomania/malala-yousafzai-eu-sou-malala-3260307694?show_suggestion=0',\n",
        "  'https://www.estantevirtual.com.br/livraria-de-sueos/graciliano-ramos-vidas-secas-3272088254?show_suggestion=0',\n",
        "  'https://www.estantevirtual.com.br/wtrlivros/graciliano-ramos-vidas-secas-edicao-comemorativa-80-anos-record-3275573386?show_suggestion=0',\n",
        "  'https://www.estantevirtual.com.br/seboamigodolivro/laurentino-gomes-1889-3275008345?show_suggestion=0',\n",
        "  'https://www.estantevirtual.com.br/wtrlivros/fernando-haddad-o-terceiro-excluido-contribuicao-para-uma-antropologia-dialetica-3276639950?show_suggestion=0',\n",
        "  'https://www.estantevirtual.com.br/pook-book/laurentino-gomes-escravidao-volume-3-da-independencia-do-brasil-a-lei-aurea-3276914198?show_suggestion=0',\n",
        "  'https://www.estantevirtual.com.br/discosafins/ivan-idoeta-francisco-capuano-elementos-de-eletronica-digital-3266565323?show_suggestion=0',\n",
        "  'https://www.estantevirtual.com.br/cataventolivraria1/bram-stoker-dracula-3273679851?show_suggestion=0'\n",
        "]"
      ],
      "metadata": {
        "id": "NOFWwXqWyxBD"
      },
      "execution_count": null,
      "outputs": []
    },
    {
      "cell_type": "code",
      "source": [
        "for book in books:\n",
        "  opener = build_opener()\n",
        "  opener.addheaders = [('User-agent', 'Mozilla/5.0')]\n",
        "  print(extract_estante_info(BeautifulSoup(opener.open(book), 'html.parser')))"
      ],
      "metadata": {
        "colab": {
          "base_uri": "https://localhost:8080/"
        },
        "id": "b3S1aRqIz8Wn",
        "outputId": "6c2b876d-ac1b-4e8e-aafa-5c1b365480cf"
      },
      "execution_count": null,
      "outputs": [
        {
          "output_type": "stream",
          "name": "stdout",
          "text": [
            "{'title': 'Capitães da Areia - 1ª Edição', 'authors': ['Jorge Amado'], 'publisher': 'Livraria José Olympio', 'price': 'R$ 500,00', 'info': 'acervoap. Bom estado de conservação, sem páginas sublinhadas ou danificadas. Dedicatória ao antigo proprietário. Acabamento: Capa Dura de encadernação particular. Formato: Médio. Exemplar higienizado. Podemos enviar mais informações ou imagens através do whatsapp. 51998472886 - 201626881', 'year': '1937', 'isbn': '', 'edition': '', 'pages': '', 'language': 'Português'}\n",
            "{'title': 'A Riqueza das Nações - Compêndio', 'authors': ['Adam Smith'], 'publisher': 'Não Encontrada', 'price': 'R$ 22,00', 'info': 'Código: 2294451 Nota: A presente obra encontra-se em bom estado de conservação, contém, apenas, algumas manchas amareladas causadas pelo tempo. \\r\\n Ano: 2014 Nº de páginas: 205 Formato: 14 x 21  Conservação da capa: Bom Estado Conservação do miolo: Bom Estado Acabamento: Brochura Idioma: Português Curiosidade: Editora: Hunter', 'year': 'n/d', 'isbn': '8934242682138...', 'edition': '', 'pages': '', 'language': 'Português'}\n",
            "{'title': 'EU SOU MALALA', 'authors': ['MALALA YOUSAFZAI'], 'publisher': 'COMPANHIA DAS LETRAS', 'price': 'R$ 12,00', 'info': '342 pág. 14 X 21 - Um pouco de enrugamento', 'year': '2013', 'isbn': '9788535923438', 'edition': '', 'pages': '', 'language': 'Português'}\n",
            "{'title': 'Vidas Secas', 'authors': ['Graciliano Ramos'], 'publisher': 'Martins', 'price': 'R$ 10,00', 'info': 'Livro em bom estado, capas e páginas amareladas, marca de carimbo, nome feito a caneta, ponta da lombar reforçada com fita adesiva, desgastes e marcas de dobras e manuseios.', 'year': '1971', 'isbn': '', 'edition': '', 'pages': '', 'language': 'Português'}\n",
            "{'title': 'VIDAS SECAS - EDICAO COMEMORATIVA 80 ANOS - RECORD', 'authors': ['Graciliano Ramos'], 'publisher': 'GERAL', 'price': 'R$ 64,06', 'info': 'VIDAS SECAS - EDICAO COMEMORATIVA 80 ANOS - RECORD - Sinopse em desenvolvimento', 'year': 'n/d', 'isbn': '9788501114778', 'edition': '', 'pages': '', 'language': 'Português'}\n",
            "{'title': '1889', 'authors': ['Laurentino Gomes'], 'publisher': 'Globo Livros', 'price': 'R$ 22,90', 'info': 'Livro em bom estado de conservação. Capa, miolo e páginas em bom estado. Contém nome e pequena mancha na página de rosto, muitas frases grifadas de canetas marca texto azul e amarela e várias anotações de caneta por todo o livro não afetando a compreensão do texto. Apresentando leves sinais de manuseio nas bordas. Brochura, 415 páginas.', 'year': '2013', 'isbn': '9788525054463', 'edition': '', 'pages': '', 'language': 'Português'}\n",
            "{'title': 'O TERCEIRO EXCLUíDO: CONTRIBUIçãO PARA UMA ANTROPOLOGIA DIALéTICA', 'authors': ['Fernando Haddad'], 'publisher': 'JORGE ZAHAR', 'price': 'R$ 61,66', 'info': 'O Ex-Prefeito De São Paulo E Ex-Ministro Da Educação Mobiliza Os Principais Debates Contemporâneos Da Biologia, Da Antropologia E Da Linguística E Apresenta Novas Bases Teóricas Para A Emancipação Humana.\\\\N\\\\N\\\\NEm Outubro De 2018, O Então Candidato À Presidência Da República Fernando Haddad Recebeu O Professor Do Mit Noam Chomsky Em Sua Casa. O Brasil Vivia Seu Momento Mais Dramático Desde A Redemocratização E A Ameaça De Uma Guinada Autoritária Não Era Percebida Por Grande Parte Dos Eleitores. Da Conversa Sobre Política E Linguística Surgiu A Provocação Que Originou O Terceiro Excluído. \\\\NA Teoria Universalista De Chomsky Afirma Que É Possível Nos Entendermos Independentemente Da Cultura Em Que Estejamos Inseridos. O Que Explica Então O Atual Surto De Incomunicabilidade, Em Que Não Parece Haver Denominador Comum Para O Debate Público? O Que Nos Impede De Construir Um Futuro Melhor Para Todos, Com Menos Carências Materiais E Espirituais?', 'year': '2022', 'isbn': '9786559790616', 'edition': '', 'pages': '', 'language': 'Português'}\n",
            "{'title': 'ESCRAVIDÃO - VOLUME 3 - DA INDEPENDÊNCIA DO BRASIL À LEI ÁUREA', 'authors': ['Laurentino Gomes'], 'publisher': 'GLOBO LIVROS', 'price': 'R$ 58,72', 'info': 'O tão esperado terceiro e último volume da trilogia Escravidão, de Laurentino Gomes Do autor dos best-sellers 1808, 1822 e 1889Na tarde em que o príncipe dom Pedro chegou às margens do Ipiranga, em 7 de setembro de 1822, o Brasil estava empanturrado de escravidão. Comprar e vender gente era o maior negócio do novo país independente. Homens e mulheres escravizados perfaziam mais de um terço do total de habitantes, estimado em 4,7 milhões de pessoas. Outro terço era composto por negros forros e mestiços de origem africana - uma população pobre, analfabeta e carente de tudo, dominada pela minoria branca. Os indígenas, já dizimados por guerras, doenças e invasão de seus territórios, sequer apareciam nas estatísticas.O último livro da trilogia Escravidão é dedicado ao século XIX; à Independência; ao Primeiro e ao Segundo Reinados; ao movimento abolicionista, que resultou na Lei Áurea de 13 de maio de 1888; e ao legado da escravidão, que ainda hoje emperra a caminhada dos brasileiros em direção ao futuro. A escravidão era, na definição de José Bonifácio de Andrada e Silva, o Patriarca da Independência, \"um cancro que contaminava e roía as entranhas da sociedade brasileira\". Disseminado por todo o território, o escravismo perpassava todas as atividades e todas as classes sociais. Maior território escravista da América em 1822, o Brasil assim se manteria até o final do século XIX, com sua rotina pautada pelo chicote e pela violência contra homens e mulheres escravizados. Nenhum outro assunto é tão importante e tão definidor da nossa identidade nacional quanto a escravidão. Conhecê-lo ajuda a explicar o que fomos no passado, o que somos hoje e também o que seremos daqui para a frente. Em um texto impactante e ricamente ilustrado com imagens e gráficos, Laurentino Gomes lança o terceiro volume de sua obra, resultado de 6 anos de pesquisas, que incluíram viagens por 12 países e 3 continentes.', 'year': '2022', 'isbn': '9786559870523', 'edition': '', 'pages': '', 'language': 'Português'}\n",
            "{'title': 'Elementos de Eletrônica Digital', 'authors': ['Ivan Idoeta', 'Francisco Capuano'], 'publisher': 'Érica', 'price': 'R$ 8,40', 'info': 'Livro íntegro e bem conservado. Livro usado, apresenta marcas de uso e do tempo, Não apresenta rasuras Capa Em Bom Estado , Sem grifos e Sem rasuras, Livro usado com marcas de uso', 'year': '1984', 'isbn': '', 'edition': '', 'pages': '', 'language': 'Português'}\n",
            "{'title': 'Drácula', 'authors': ['Bram Stoker'], 'publisher': 'Heinemann Elt', 'price': 'R$ 6,00', 'info': 'Brochura. Livro em bom estado de conservação. Capa , contracapa e lombada com sinais de uso, manuseio e desgastes. Sem anotações ou grifos.. Idioma:  Inglês. Cat09-0780', 'year': '1992', 'isbn': '9780435272203', 'edition': '', 'pages': '', 'language': 'Inglês'}\n"
          ]
        }
      ]
    },
    {
      "cell_type": "markdown",
      "source": [
        "### Saraiva"
      ],
      "metadata": {
        "id": "xdvjlOJ-1bFG"
      }
    },
    {
      "cell_type": "markdown",
      "source": [
        "#### Testes"
      ],
      "metadata": {
        "id": "aPZOc6Pd4m4-"
      }
    },
    {
      "cell_type": "code",
      "source": [
        "domain = 'saraiva'"
      ],
      "metadata": {
        "id": "KgLEAoS2vDtC"
      },
      "execution_count": 4,
      "outputs": []
    },
    {
      "cell_type": "code",
      "source": [
        "file = f'{base_path}/{domain}/2022-08-09_10.15.44.558119.html'\n",
        "html = open(file,'r')\n",
        "soup = BeautifulSoup(html, 'html.parser')"
      ],
      "metadata": {
        "id": "vaL8dDU5vB3j"
      },
      "execution_count": 5,
      "outputs": []
    },
    {
      "cell_type": "code",
      "source": [
        "title_element = soup.find('h1', class_='title')\n",
        "title = title_element.string.strip() if title_element else ''\n",
        "title"
      ],
      "metadata": {
        "colab": {
          "base_uri": "https://localhost:8080/",
          "height": 35
        },
        "id": "1BRIWnVo1zvy",
        "outputId": "616ee372-d27e-4103-fe14-67c23c0b3d49"
      },
      "execution_count": 8,
      "outputs": [
        {
          "output_type": "execute_result",
          "data": {
            "text/plain": [
              "'A Desumanização'"
            ],
            "application/vnd.google.colaboratory.intrinsic+json": {
              "type": "string"
            }
          },
          "metadata": {},
          "execution_count": 8
        }
      ]
    },
    {
      "cell_type": "code",
      "source": [
        "price_p = soup.find('p', class_='price-destaque')\n",
        "price = price_p.string.strip() if price_p else ''\n",
        "price"
      ],
      "metadata": {
        "id": "GXxTx-NLyt0I",
        "outputId": "8b5b141f-945d-4732-f563-c19f10a1d0ed",
        "colab": {
          "base_uri": "https://localhost:8080/",
          "height": 35
        }
      },
      "execution_count": 9,
      "outputs": [
        {
          "output_type": "execute_result",
          "data": {
            "text/plain": [
              "'R$ 37,90'"
            ],
            "application/vnd.google.colaboratory.intrinsic+json": {
              "type": "string"
            }
          },
          "metadata": {},
          "execution_count": 9
        }
      ]
    },
    {
      "cell_type": "code",
      "source": [
        "info_div = soup.find('div', id='descricao')\n",
        "info = info_div.text.strip('\\n ') if info_div else ''\n",
        "info"
      ],
      "metadata": {
        "id": "thxmWkKUzJ2n",
        "outputId": "5ed79b64-01f7-44ae-c445-0d8cac878df7",
        "colab": {
          "base_uri": "https://localhost:8080/",
          "height": 105
        }
      },
      "execution_count": 11,
      "outputs": [
        {
          "output_type": "execute_result",
          "data": {
            "text/plain": [
              "'Na paisagem gélida da Islândia, a menina Halla, de apenas onze anos de idade, busca compreender os sentimentos que surgem com o falecimento de sua irmã Sigridur. Vivendo a divisão permanente das “crianças espelhos”, Halla nos guia por impressões de transitoriedade e perda a partir do seu ponto de vista infantil e, por isso mesmo, cheio de uma simplicidade profundamente poética. O sofrimento do luto, a solidão e a violenta frieza da mãe se misturam com a paisagem inóspita da Terra do Gelo e, somados à narração lírica e melancólica de Valter Hugo Mãe, em que o desamparo dos personagens é superado por uma compreensão sublime e bela de sua condição, transformam esta obra em um primor da literatura contemporânea'"
            ],
            "application/vnd.google.colaboratory.intrinsic+json": {
              "type": "string"
            }
          },
          "metadata": {},
          "execution_count": 11
        }
      ]
    },
    {
      "cell_type": "code",
      "source": [
        "features = soup.find('div', id='caracteristicas').div.div.div.table.tbody\n",
        "features"
      ],
      "metadata": {
        "id": "ZnEFTl5Jzzgb"
      },
      "execution_count": null,
      "outputs": []
    },
    {
      "cell_type": "code",
      "source": [
        "year, authors, isbn, edition, language, pages, publisher = '', [], '', '', '', '', ''\n",
        "if features:\n",
        "  for tr in features.find_all('tr'):\n",
        "    tds = tr.find_all('td')\n",
        "    field, data = tds[0], tds[1]\n",
        "    if not field or not data:\n",
        "      continue\n",
        "    field, data = field.string.lower(), data.string\n",
        "    if 'ano da edição' in field:\n",
        "      year = data.strip()\n",
        "    elif 'isbn' in field:\n",
        "      isbn = data.strip()\n",
        "    elif 'idioma' in field:\n",
        "      language = data.strip()\n",
        "    elif 'número da edição' in field:\n",
        "      edition = data.strip()\n",
        "    elif 'páginas' in field:\n",
        "      pages = data.strip()\n",
        "    elif 'marca' in field:\n",
        "      publisher = data.strip()\n",
        "    elif 'autor' in field:\n",
        "      name_list = data.split(',')\n",
        "      names, first_names = name_list[::2], name_list[1::2]\n",
        "      first_names.extend(['' for i in range(len(names)-len(first_names))])\n",
        "      authors = [' '.join([y, x]).strip() for x, y in zip(names, first_names)]\n",
        "\n",
        "year, authors, isbn, edition, language, pages, publisher"
      ],
      "metadata": {
        "id": "6j8Zva8e0Rzr",
        "outputId": "9a3b6ca3-182c-440c-ed41-8eb4ca087ecb",
        "colab": {
          "base_uri": "https://localhost:8080/"
        }
      },
      "execution_count": 36,
      "outputs": [
        {
          "output_type": "execute_result",
          "data": {
            "text/plain": [
              "('2017',\n",
              " ['Valter Hugo Mãe'],\n",
              " '9788525063274',\n",
              " '1',\n",
              " 'Português',\n",
              " '192',\n",
              " 'Biblioteca Azul')"
            ]
          },
          "metadata": {},
          "execution_count": 36
        }
      ]
    }
  ]
}